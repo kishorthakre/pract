{
 "cells": [
  {
   "cell_type": "markdown",
   "id": "e68ffd26",
   "metadata": {},
   "source": [
    "# Broadcast Join"
   ]
  },
  {
   "cell_type": "code",
   "execution_count": 1,
   "id": "f13dcf29",
   "metadata": {},
   "outputs": [],
   "source": [
    "import findspark\n",
    "findspark.init()"
   ]
  },
  {
   "cell_type": "code",
   "execution_count": 2,
   "id": "fb28e99c",
   "metadata": {},
   "outputs": [],
   "source": [
    "from pyspark.sql import SparkSession\n",
    "from pyspark.sql.functions import *"
   ]
  },
  {
   "cell_type": "code",
   "execution_count": 3,
   "id": "f6145b95",
   "metadata": {},
   "outputs": [],
   "source": [
    "spark = SparkSession.builder.appName(\"Broadcasting Example\").getOrCreate() "
   ]
  },
  {
   "cell_type": "code",
   "execution_count": null,
   "id": "e09fdfad",
   "metadata": {},
   "outputs": [],
   "source": [
    "\n",
    "\n",
    "# Create a small DataFrame with product categories and discounts \n",
    "category_data = [(\"A\", 10), (\"B\", 20), (\"C\", 30)] \n",
    "category_df = spark.createDataFrame(category_data, [\"category\", \"discount\"]) "
   ]
  },
  {
   "cell_type": "code",
   "execution_count": null,
   "id": "5d240d47",
   "metadata": {},
   "outputs": [],
   "source": [
    "from pyspark.sql.functions import broadcast \n",
    "        \n",
    "broadcast_category_df = broadcast(category_df) "
   ]
  },
  {
   "cell_type": "code",
   "execution_count": null,
   "id": "ed00d0d0",
   "metadata": {},
   "outputs": [],
   "source": [
    "# Create a larger DataFrame with sales data \n",
    "sales_data = [(\"product1\", \"A\", 100), (\"product2\", \"B\", 200), (\"product3\", \"C\", 300)] \n",
    "sales_df = spark.createDataFrame(sales_data, [\"product\", \"category\", \"revenue\"]) \n",
    "\n",
    "# Join the sales DataFrame with the broadcasted category DataFrame \n",
    "result_df = sales_df.join(broadcast_category_df, on=\"category\") "
   ]
  },
  {
   "cell_type": "code",
   "execution_count": null,
   "id": "e50c3299",
   "metadata": {},
   "outputs": [],
   "source": []
  },
  {
   "cell_type": "markdown",
   "id": "d14074a3",
   "metadata": {},
   "source": [
    "# Window function"
   ]
  },
  {
   "cell_type": "code",
   "execution_count": 14,
   "id": "40f1475c",
   "metadata": {},
   "outputs": [
    {
     "name": "stdout",
     "output_type": "stream",
     "text": [
      "+---+--------+-----+\n",
      "| ID|Category|Value|\n",
      "+---+--------+-----+\n",
      "|  1|       A|  100|\n",
      "|  1|       B|  200|\n",
      "|  2|       A|  150|\n",
      "|  2|       B|  250|\n",
      "|  3|       A|  120|\n",
      "|  3|       B|  180|\n",
      "|  4|       A|  150|\n",
      "+---+--------+-----+\n",
      "\n"
     ]
    }
   ],
   "source": [
    "data = [(1, \"A\", 100),\n",
    "        (1, \"B\", 200),\n",
    "        (2, \"A\", 150),\n",
    "        (2, \"B\", 250),\n",
    "        (3, \"A\", 120),\n",
    "        (3, \"B\", 180),\n",
    "        (4, \"A\", 150)]\n",
    "columns = [\"ID\", \"Category\", \"Value\"]\n",
    "df = spark.createDataFrame(data, columns)\n",
    "df.show()"
   ]
  },
  {
   "cell_type": "code",
   "execution_count": 15,
   "id": "d8067dfa",
   "metadata": {},
   "outputs": [
    {
     "data": {
      "text/plain": [
       "<pyspark.sql.window.WindowSpec at 0x25626a5e590>"
      ]
     },
     "execution_count": 15,
     "metadata": {},
     "output_type": "execute_result"
    }
   ],
   "source": [
    "from pyspark.sql.window import Window\n",
    "\n",
    "# Define a window specification\n",
    "window_spec = Window.partitionBy(\"Category\")\n",
    "window_spec"
   ]
  },
  {
   "cell_type": "code",
   "execution_count": 16,
   "id": "aae30514",
   "metadata": {},
   "outputs": [
    {
     "name": "stdout",
     "output_type": "stream",
     "text": [
      "+---+--------+-----+--------+--------+\n",
      "| ID|Category|Value|SumValue|AvgValue|\n",
      "+---+--------+-----+--------+--------+\n",
      "|  1|       A|  100|     520|   130.0|\n",
      "|  2|       A|  150|     520|   130.0|\n",
      "|  3|       A|  120|     520|   130.0|\n",
      "|  4|       A|  150|     520|   130.0|\n",
      "|  1|       B|  200|     630|   210.0|\n",
      "|  2|       B|  250|     630|   210.0|\n",
      "|  3|       B|  180|     630|   210.0|\n",
      "+---+--------+-----+--------+--------+\n",
      "\n"
     ]
    }
   ],
   "source": [
    "# Calculate sum and average value by category using window functions\n",
    "df_with_aggregates = df.withColumn(\"SumValue\", sum(\"Value\").over(window_spec)) \\\n",
    "                       .withColumn(\"AvgValue\", avg(\"Value\").over(window_spec))\n",
    "\n",
    "df_with_aggregates.show()"
   ]
  },
  {
   "cell_type": "code",
   "execution_count": null,
   "id": "b87e7a12",
   "metadata": {},
   "outputs": [],
   "source": []
  },
  {
   "cell_type": "code",
   "execution_count": 18,
   "id": "d4f0934d",
   "metadata": {},
   "outputs": [
    {
     "name": "stdout",
     "output_type": "stream",
     "text": [
      "+---+--------+-----+----+\n",
      "| ID|Category|Value|Rank|\n",
      "+---+--------+-----+----+\n",
      "|  2|       A|  150|   1|\n",
      "|  4|       A|  150|   2|\n",
      "|  3|       A|  120|   3|\n",
      "|  1|       A|  100|   4|\n",
      "|  2|       B|  250|   1|\n",
      "|  1|       B|  200|   2|\n",
      "|  3|       B|  180|   3|\n",
      "+---+--------+-----+----+\n",
      "\n"
     ]
    }
   ],
   "source": [
    "from pyspark.sql.functions import row_number\n",
    "\n",
    "# Define a window specification for ranking\n",
    "ranking_window = Window.partitionBy(\"Category\").orderBy(col(\"Value\").desc())\n",
    "# Add a rank column using row_number window function\n",
    "ranked_df = df.withColumn(\"Rank\", row_number().over(ranking_window))\n",
    "# Show the ranked DataFrame\n",
    "ranked_df.show()"
   ]
  },
  {
   "cell_type": "code",
   "execution_count": 19,
   "id": "68b2e240",
   "metadata": {},
   "outputs": [
    {
     "name": "stdout",
     "output_type": "stream",
     "text": [
      "+---+--------+-----+-------------+\n",
      "| ID|Category|Value|PreviousValue|\n",
      "+---+--------+-----+-------------+\n",
      "|  1|       A|  100|         NULL|\n",
      "|  2|       A|  150|          100|\n",
      "|  3|       A|  120|          150|\n",
      "|  4|       A|  150|          120|\n",
      "|  1|       B|  200|         NULL|\n",
      "|  2|       B|  250|          200|\n",
      "|  3|       B|  180|          250|\n",
      "+---+--------+-----+-------------+\n",
      "\n"
     ]
    }
   ],
   "source": [
    "# Define a window specification for lag function\n",
    "lag_window = Window.partitionBy(\"Category\").orderBy(\"ID\")\n",
    "# Add a lag column using lag window function\n",
    "lagged_df = df.withColumn(\"PreviousValue\", lag(\"Value\", 1).over(lag_window))\n",
    "# Show the DataFrame with lagged values\n",
    "lagged_df.show()"
   ]
  },
  {
   "cell_type": "code",
   "execution_count": null,
   "id": "820d7082",
   "metadata": {},
   "outputs": [],
   "source": []
  }
 ],
 "metadata": {
  "kernelspec": {
   "display_name": "Python 3 (ipykernel)",
   "language": "python",
   "name": "python3"
  },
  "language_info": {
   "codemirror_mode": {
    "name": "ipython",
    "version": 3
   },
   "file_extension": ".py",
   "mimetype": "text/x-python",
   "name": "python",
   "nbconvert_exporter": "python",
   "pygments_lexer": "ipython3",
   "version": "3.11.4"
  }
 },
 "nbformat": 4,
 "nbformat_minor": 5
}
