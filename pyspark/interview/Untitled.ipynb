{
 "cells": [
  {
   "cell_type": "code",
   "execution_count": 1,
   "id": "74058830",
   "metadata": {},
   "outputs": [],
   "source": [
    "import findspark"
   ]
  },
  {
   "cell_type": "code",
   "execution_count": 2,
   "id": "052d5b8c",
   "metadata": {},
   "outputs": [],
   "source": [
    "findspark.init()"
   ]
  },
  {
   "cell_type": "code",
   "execution_count": 11,
   "id": "a9e93f52",
   "metadata": {},
   "outputs": [],
   "source": [
    "from pyspark.sql import SparkSession\n",
    "from pyspark.sql.functions import *\n",
    "from pyspark.sql.types import IntegerType, BooleanType, DateType"
   ]
  },
  {
   "cell_type": "code",
   "execution_count": 4,
   "id": "af75deeb",
   "metadata": {},
   "outputs": [
    {
     "data": {
      "text/html": [
       "\n",
       "            <div>\n",
       "                <p><b>SparkSession - in-memory</b></p>\n",
       "                \n",
       "        <div>\n",
       "            <p><b>SparkContext</b></p>\n",
       "\n",
       "            <p><a href=\"http://LAPTOP-3V2ROQ70:4040\">Spark UI</a></p>\n",
       "\n",
       "            <dl>\n",
       "              <dt>Version</dt>\n",
       "                <dd><code>v3.5.1</code></dd>\n",
       "              <dt>Master</dt>\n",
       "                <dd><code>local[*]</code></dd>\n",
       "              <dt>AppName</dt>\n",
       "                <dd><code>p</code></dd>\n",
       "            </dl>\n",
       "        </div>\n",
       "        \n",
       "            </div>\n",
       "        "
      ],
      "text/plain": [
       "<pyspark.sql.session.SparkSession at 0x1d3120072d0>"
      ]
     },
     "execution_count": 4,
     "metadata": {},
     "output_type": "execute_result"
    }
   ],
   "source": [
    "spark = SparkSession.builder.appName('p').getOrCreate()\n",
    "spark"
   ]
  },
  {
   "cell_type": "raw",
   "id": "278b75f2",
   "metadata": {},
   "source": [
    "Q-\n",
    "You are given a dataset containing information about purchases in an e-commerce store. Each row in the dataset represents a single purchase, with columns indicating the order_id, customer_id, product_id, quantity, price, and purchase_date.\n",
    "\n",
    "Sample Data:\n",
    "\n",
    "order_id\tcustomer_id\tproduct_id\tquantity\tprice\tpurchase_date\n",
    "1\t101\tP001\t2\t25.00\t2023-01-01\n",
    "2\t102\tP003\t1\t15.00\t2023-01-02\n",
    "3\t101\tP002\t5\t10.00\t2023-01-03\n",
    "4\t103\tP001\t1\t25.00\t2023-01-05\n",
    "5\t102\tP002\t3\t10.00\t2023-01-06\n",
    "Task\n",
    "Write a PySpark script to perform the following tasks:\n",
    "\n",
    "Load the data: Assume the dataset is in CSV format. Load the data into a PySpark DataFrame.\n",
    "\n",
    "Data Cleaning & Transformation:\n",
    "\n",
    "Convert the purchase_date column to a DateType.\n",
    "Calculate a new column total_cost, which is the product of quantity and price.\n",
    "Data Aggregation:\n",
    "\n",
    "Find the total amount spent (total_cost) by each customer_id.\n",
    "Find the total number of orders made by each customer_id.\n",
    "Filter & Sort:\n",
    "\n",
    "Filter the results to only include customers who have spent more than $50 in total.\n",
    "Sort the results by total_cost in descending order.\n",
    "Output the Result:\n",
    "\n",
    "Print the final result, which should include customer_id, total_spent, and total_orders.\n"
   ]
  },
  {
   "cell_type": "code",
   "execution_count": null,
   "id": "bdad849e",
   "metadata": {},
   "outputs": [],
   "source": [
    "# Load the data: Assume the dataset is in CSV format. Load the data into a PySpark DataFrame."
   ]
  },
  {
   "cell_type": "code",
   "execution_count": 8,
   "id": "86ecea97",
   "metadata": {
    "scrolled": true
   },
   "outputs": [
    {
     "name": "stdout",
     "output_type": "stream",
     "text": [
      "+--------+-----------+----------+--------+-----+-------------+\n",
      "|order_id|customer_id|product_id|quantity|price|purchase_date|\n",
      "+--------+-----------+----------+--------+-----+-------------+\n",
      "|       1|        101|      P001|       2|   25|   01-01-2023|\n",
      "|       2|        102|      P003|       1|   15|   02-01-2023|\n",
      "|       3|        101|      P002|       5|   10|   03-01-2023|\n",
      "|       4|        103|      P001|       1|   25|   05-01-2023|\n",
      "|       5|        102|      P002|       3|   10|   06-01-2023|\n",
      "+--------+-----------+----------+--------+-----+-------------+\n",
      "\n"
     ]
    }
   ],
   "source": [
    "df = spark.read.csv('Book1.csv', header=True, inferSchema=True)\n",
    "df.show()"
   ]
  },
  {
   "cell_type": "code",
   "execution_count": 9,
   "id": "b02b32d4",
   "metadata": {
    "scrolled": true
   },
   "outputs": [
    {
     "name": "stdout",
     "output_type": "stream",
     "text": [
      "root\n",
      " |-- order_id: integer (nullable = true)\n",
      " |-- customer_id: integer (nullable = true)\n",
      " |-- product_id: string (nullable = true)\n",
      " |-- quantity: integer (nullable = true)\n",
      " |-- price: integer (nullable = true)\n",
      " |-- purchase_date: string (nullable = true)\n",
      "\n"
     ]
    }
   ],
   "source": [
    "df.printSchema()"
   ]
  },
  {
   "cell_type": "raw",
   "id": "932307d0",
   "metadata": {},
   "source": [
    "Data Cleaning & Transformation:"
   ]
  },
  {
   "cell_type": "code",
   "execution_count": 29,
   "id": "0882eee4",
   "metadata": {},
   "outputs": [
    {
     "name": "stdout",
     "output_type": "stream",
     "text": [
      "+--------+-----------+----------+--------+-----+-------------+\n",
      "|order_id|customer_id|product_id|quantity|price|purchase_date|\n",
      "+--------+-----------+----------+--------+-----+-------------+\n",
      "|       1|        101|      P001|       2|   25|   01-01-2023|\n",
      "|       2|        102|      P003|       1|   15|   02-01-2023|\n",
      "|       3|        101|      P002|       5|   10|   03-01-2023|\n",
      "|       4|        103|      P001|       1|   25|   05-01-2023|\n",
      "|       5|        102|      P002|       3|   10|   06-01-2023|\n",
      "+--------+-----------+----------+--------+-----+-------------+\n",
      "\n"
     ]
    }
   ],
   "source": [
    "df.show()"
   ]
  },
  {
   "cell_type": "code",
   "execution_count": 12,
   "id": "0e557632",
   "metadata": {},
   "outputs": [
    {
     "name": "stdout",
     "output_type": "stream",
     "text": [
      "root\n",
      " |-- order_id: integer (nullable = true)\n",
      " |-- customer_id: integer (nullable = true)\n",
      " |-- product_id: string (nullable = true)\n",
      " |-- quantity: integer (nullable = true)\n",
      " |-- price: integer (nullable = true)\n",
      " |-- purchase_date: date (nullable = true)\n",
      "\n"
     ]
    }
   ],
   "source": [
    "# Convert the purchase_date column to a DateType.\n",
    "# using select \n",
    "#df.select(col('purchase_date').cast('int').alias('purchase_date'))\n",
    "\n",
    "df_dt = df.withColumn('purchase_date', df.purchase_date.cast(DateType()))\n",
    "df_dt.printSchema()"
   ]
  },
  {
   "cell_type": "code",
   "execution_count": 14,
   "id": "3772c2c8",
   "metadata": {},
   "outputs": [
    {
     "name": "stdout",
     "output_type": "stream",
     "text": [
      "+--------+-----------+----------+--------+-----+-------------+----------+\n",
      "|order_id|customer_id|product_id|quantity|price|purchase_date|total_cost|\n",
      "+--------+-----------+----------+--------+-----+-------------+----------+\n",
      "|       1|        101|      P001|       2|   25|   01-01-2023|        50|\n",
      "|       2|        102|      P003|       1|   15|   02-01-2023|        15|\n",
      "|       3|        101|      P002|       5|   10|   03-01-2023|        50|\n",
      "|       4|        103|      P001|       1|   25|   05-01-2023|        25|\n",
      "|       5|        102|      P002|       3|   10|   06-01-2023|        30|\n",
      "+--------+-----------+----------+--------+-----+-------------+----------+\n",
      "\n"
     ]
    }
   ],
   "source": [
    "#Calculate a new column total_cost, which is the product of quantity and price.\n",
    "df_total= df.withColumn('total_cost', col('quantity')*col('price'))\n",
    "df_total.show()"
   ]
  },
  {
   "cell_type": "raw",
   "id": "203fa25a",
   "metadata": {
    "scrolled": true
   },
   "source": [
    "Data Aggregation:"
   ]
  },
  {
   "cell_type": "code",
   "execution_count": 41,
   "id": "c43fd45e",
   "metadata": {
    "scrolled": true
   },
   "outputs": [
    {
     "name": "stdout",
     "output_type": "stream",
     "text": [
      "+--------+-----------+----------+--------+-----+-------------+----------+\n",
      "|order_id|customer_id|product_id|quantity|price|purchase_date|total_cost|\n",
      "+--------+-----------+----------+--------+-----+-------------+----------+\n",
      "|       1|        101|      P001|       2|   25|   01-01-2023|        50|\n",
      "|       2|        102|      P003|       1|   15|   02-01-2023|        15|\n",
      "|       3|        101|      P002|       5|   10|   03-01-2023|        50|\n",
      "|       4|        103|      P001|       1|   25|   05-01-2023|        25|\n",
      "|       5|        102|      P002|       3|   10|   06-01-2023|        30|\n",
      "+--------+-----------+----------+--------+-----+-------------+----------+\n",
      "\n"
     ]
    }
   ],
   "source": [
    "df_total.show()"
   ]
  },
  {
   "cell_type": "code",
   "execution_count": 15,
   "id": "4e7634dd",
   "metadata": {
    "scrolled": false
   },
   "outputs": [
    {
     "name": "stdout",
     "output_type": "stream",
     "text": [
      "+-----------+---------------+\n",
      "|customer_id|sum(total_cost)|\n",
      "+-----------+---------------+\n",
      "|        101|            100|\n",
      "|        103|             25|\n",
      "|        102|             45|\n",
      "+-----------+---------------+\n",
      "\n"
     ]
    }
   ],
   "source": [
    "#Find the total amount spent (total_cost) by each customer_id. \n",
    "\n",
    "df_total.groupBy('customer_id').agg(sum('total_cost')).show()"
   ]
  },
  {
   "cell_type": "code",
   "execution_count": 19,
   "id": "d462cc27",
   "metadata": {},
   "outputs": [
    {
     "name": "stdout",
     "output_type": "stream",
     "text": [
      "+-----------+-----------------+\n",
      "|customer_id|count(product_id)|\n",
      "+-----------+-----------------+\n",
      "|        101|                2|\n",
      "|        103|                1|\n",
      "|        102|                2|\n",
      "+-----------+-----------------+\n",
      "\n"
     ]
    }
   ],
   "source": [
    "#Find the total number of orders made by each customer_id.\n",
    "\n",
    "df_total.groupBy('customer_id').agg(count('product_id')).show() "
   ]
  },
  {
   "cell_type": "raw",
   "id": "439f17f3",
   "metadata": {},
   "source": [
    "Filter & Sort:"
   ]
  },
  {
   "cell_type": "code",
   "execution_count": 43,
   "id": "14bbedd6",
   "metadata": {},
   "outputs": [
    {
     "name": "stdout",
     "output_type": "stream",
     "text": [
      "+--------+-----------+----------+--------+-----+-------------+----------+\n",
      "|order_id|customer_id|product_id|quantity|price|purchase_date|total_cost|\n",
      "+--------+-----------+----------+--------+-----+-------------+----------+\n",
      "|       1|        101|      P001|       2|   25|   01-01-2023|        50|\n",
      "|       2|        102|      P003|       1|   15|   02-01-2023|        15|\n",
      "|       3|        101|      P002|       5|   10|   03-01-2023|        50|\n",
      "|       4|        103|      P001|       1|   25|   05-01-2023|        25|\n",
      "|       5|        102|      P002|       3|   10|   06-01-2023|        30|\n",
      "+--------+-----------+----------+--------+-----+-------------+----------+\n",
      "\n"
     ]
    }
   ],
   "source": [
    "df_total.show()"
   ]
  },
  {
   "cell_type": "code",
   "execution_count": 45,
   "id": "39b8c1e2",
   "metadata": {},
   "outputs": [
    {
     "name": "stdout",
     "output_type": "stream",
     "text": [
      "+--------+-----------+----------+--------+-----+-------------+----------+\n",
      "|order_id|customer_id|product_id|quantity|price|purchase_date|total_cost|\n",
      "+--------+-----------+----------+--------+-----+-------------+----------+\n",
      "|       1|        101|      P001|       2|   25|   01-01-2023|        50|\n",
      "|       3|        101|      P002|       5|   10|   03-01-2023|        50|\n",
      "+--------+-----------+----------+--------+-----+-------------+----------+\n",
      "\n"
     ]
    }
   ],
   "source": [
    "#Filter the results to only include customers who have spent more than $50 in total.\n",
    "\n",
    "df_total.filter(col('total_cost') >= 50).show()"
   ]
  },
  {
   "cell_type": "code",
   "execution_count": 21,
   "id": "21a10428",
   "metadata": {},
   "outputs": [
    {
     "name": "stdout",
     "output_type": "stream",
     "text": [
      "+--------+-----------+----------+--------+-----+-------------+----------+\n",
      "|order_id|customer_id|product_id|quantity|price|purchase_date|total_cost|\n",
      "+--------+-----------+----------+--------+-----+-------------+----------+\n",
      "|       1|        101|      P001|       2|   25|   01-01-2023|        50|\n",
      "|       3|        101|      P002|       5|   10|   03-01-2023|        50|\n",
      "|       5|        102|      P002|       3|   10|   06-01-2023|        30|\n",
      "|       4|        103|      P001|       1|   25|   05-01-2023|        25|\n",
      "|       2|        102|      P003|       1|   15|   02-01-2023|        15|\n",
      "+--------+-----------+----------+--------+-----+-------------+----------+\n",
      "\n"
     ]
    }
   ],
   "source": [
    "#Sort the results by total_cost in descending order.\n",
    "\n",
    "df_total.sort(col('total_cost').desc()).show()"
   ]
  },
  {
   "cell_type": "code",
   "execution_count": null,
   "id": "04c9ab7d",
   "metadata": {},
   "outputs": [],
   "source": [
    "Output the Result:"
   ]
  },
  {
   "cell_type": "code",
   "execution_count": 52,
   "id": "aa3cbde8",
   "metadata": {},
   "outputs": [
    {
     "name": "stdout",
     "output_type": "stream",
     "text": [
      "+-----------+---------------+\n",
      "|customer_id|sum(total_cost)|\n",
      "+-----------+---------------+\n",
      "|        101|            100|\n",
      "|        103|             25|\n",
      "|        102|             45|\n",
      "+-----------+---------------+\n",
      "\n"
     ]
    }
   ],
   "source": [
    "dfts = df_total.groupBy('customer_id').agg(sum('total_cost'))\n",
    "dfts.show()"
   ]
  },
  {
   "cell_type": "code",
   "execution_count": 57,
   "id": "331ce2b0",
   "metadata": {},
   "outputs": [
    {
     "name": "stdout",
     "output_type": "stream",
     "text": [
      "+-----------+---------------+\n",
      "|customer_id|sum(total_cost)|\n",
      "+-----------+---------------+\n",
      "|        101|            100|\n",
      "|        103|             25|\n",
      "|        102|             45|\n",
      "+-----------+---------------+\n",
      "\n"
     ]
    }
   ],
   "source": [
    "dfts=df_total.groupBy('customer_id').agg(sum('total_cost'))\n",
    "dfts.show()"
   ]
  },
  {
   "cell_type": "code",
   "execution_count": 58,
   "id": "5d20075e",
   "metadata": {
    "scrolled": false
   },
   "outputs": [
    {
     "name": "stdout",
     "output_type": "stream",
     "text": [
      "+-----------+----------+\n",
      "|customer_id|total_cost|\n",
      "+-----------+----------+\n",
      "|        101|        50|\n",
      "|        102|        15|\n",
      "|        101|        50|\n",
      "|        103|        25|\n",
      "|        102|        30|\n",
      "+-----------+----------+\n",
      "\n"
     ]
    }
   ],
   "source": [
    "dft = df_total.select('customer_id', 'total_cost')\n",
    "dft.show()"
   ]
  },
  {
   "cell_type": "code",
   "execution_count": 64,
   "id": "95c4ed1d",
   "metadata": {},
   "outputs": [
    {
     "name": "stdout",
     "output_type": "stream",
     "text": [
      "+-----------+---------------+-----------+----------+\n",
      "|customer_id|sum(total_cost)|customer_id|total_cost|\n",
      "+-----------+---------------+-----------+----------+\n",
      "|        101|            100|        101|        50|\n",
      "|        101|            100|        101|        50|\n",
      "|        103|             25|        103|        25|\n",
      "|        102|             45|        102|        30|\n",
      "|        102|             45|        102|        15|\n",
      "+-----------+---------------+-----------+----------+\n",
      "\n"
     ]
    }
   ],
   "source": [
    "dfts.join(dft, dfts.customer_id==dft.customer_id, 'inner').show()"
   ]
  },
  {
   "cell_type": "code",
   "execution_count": 23,
   "id": "f359173b",
   "metadata": {},
   "outputs": [],
   "source": [
    "# Print the final result, which should include customer_id, total_spent, and total_orders.\n",
    "\n",
    "#dfts = df_total.groupBy('customer_id').agg(count('product_id').alias('totoal_order')).select('customer_id','total_cost' )\n",
    "#dfts.show()"
   ]
  },
  {
   "cell_type": "code",
   "execution_count": null,
   "id": "a147e7ec",
   "metadata": {},
   "outputs": [],
   "source": []
  },
  {
   "cell_type": "code",
   "execution_count": null,
   "id": "5a2389a9",
   "metadata": {},
   "outputs": [],
   "source": []
  },
  {
   "cell_type": "code",
   "execution_count": 29,
   "id": "3ee4806e",
   "metadata": {},
   "outputs": [
    {
     "name": "stdout",
     "output_type": "stream",
     "text": [
      "+--------+-----------+----------+----------+--------+-----+\n",
      "|order_id|customer_id|order_date|product_id|quantity|price|\n",
      "+--------+-----------+----------+----------+--------+-----+\n",
      "|       1|        101|2023-07-01|         A|       2|   10|\n",
      "|       2|        102|2023-07-01|         B|       3|   15|\n",
      "|       3|        101|2023-07-02|         A|       1|   10|\n",
      "|       4|        103|2023-07-02|         C|       2|   20|\n",
      "|       5|        102|2023-07-03|         A|       1|   10|\n",
      "+--------+-----------+----------+----------+--------+-----+\n",
      "\n"
     ]
    }
   ],
   "source": [
    "data = [\n",
    "    (1, 101, \"2023-07-01\", \"A\", 2, 10),\n",
    "    (2, 102, \"2023-07-01\", \"B\", 3, 15),\n",
    "    (3, 101, \"2023-07-02\", \"A\", 1, 10),\n",
    "    (4, 103, \"2023-07-02\", \"C\", 2, 20),\n",
    "    (5, 102, \"2023-07-03\", \"A\", 1, 10)\n",
    "]\n",
    "\n",
    "columns = [\"order_id\", \"customer_id\", \"order_date\", \"product_id\", \"quantity\", \"price\"]\n",
    "df = spark.createDataFrame(data, columns)\n",
    "df.show()"
   ]
  },
  {
   "cell_type": "code",
   "execution_count": 33,
   "id": "d5a22fe6",
   "metadata": {},
   "outputs": [
    {
     "name": "stdout",
     "output_type": "stream",
     "text": [
      "+--------+-----------+----------+----------+--------+-----+---------+\n",
      "|order_id|customer_id|order_date|product_id|quantity|price|total_rev|\n",
      "+--------+-----------+----------+----------+--------+-----+---------+\n",
      "|       1|        101|2023-07-01|         A|       2|   10|       20|\n",
      "|       2|        102|2023-07-01|         B|       3|   15|       45|\n",
      "|       3|        101|2023-07-02|         A|       1|   10|       10|\n",
      "|       4|        103|2023-07-02|         C|       2|   20|       40|\n",
      "|       5|        102|2023-07-03|         A|       1|   10|       10|\n",
      "+--------+-----------+----------+----------+--------+-----+---------+\n",
      "\n"
     ]
    }
   ],
   "source": [
    "# Task 2: Calculate total revenue for each order\n",
    "\n",
    "df = df.withColumn('total_rev', col('quantity')*col('price'))\n",
    "df.show()"
   ]
  },
  {
   "cell_type": "code",
   "execution_count": 37,
   "id": "77a88835",
   "metadata": {},
   "outputs": [
    {
     "name": "stdout",
     "output_type": "stream",
     "text": [
      "+----------+-------------------+\n",
      "|product_id|total_quantity_sold|\n",
      "+----------+-------------------+\n",
      "|         A|                 40|\n",
      "|         B|                 45|\n",
      "|         C|                 40|\n",
      "+----------+-------------------+\n",
      "\n",
      "+----------+-------------------+\n",
      "|product_id|total_quantity_sold|\n",
      "+----------+-------------------+\n",
      "|         B|                 45|\n",
      "|         A|                 40|\n",
      "|         C|                 40|\n",
      "+----------+-------------------+\n",
      "\n"
     ]
    }
   ],
   "source": [
    "# Task 3: Top-selling products\n",
    "df2 = df.groupBy('product_id').agg(sum('total_rev').alias('total_quantity_sold'))\n",
    "df2.show()\n",
    "\n",
    "df2.orderBy(col('total_quantity_sold').desc()).limit(3).show()"
   ]
  },
  {
   "cell_type": "code",
   "execution_count": 38,
   "id": "23f0f216",
   "metadata": {},
   "outputs": [
    {
     "name": "stdout",
     "output_type": "stream",
     "text": [
      "+--------+-----------+----------+----------+--------+-----+---------+\n",
      "|order_id|customer_id|order_date|product_id|quantity|price|total_rev|\n",
      "+--------+-----------+----------+----------+--------+-----+---------+\n",
      "|       1|        101|2023-07-01|         A|       2|   10|       20|\n",
      "|       2|        102|2023-07-01|         B|       3|   15|       45|\n",
      "|       3|        101|2023-07-02|         A|       1|   10|       10|\n",
      "|       4|        103|2023-07-02|         C|       2|   20|       40|\n",
      "|       5|        102|2023-07-03|         A|       1|   10|       10|\n",
      "+--------+-----------+----------+----------+--------+-----+---------+\n",
      "\n"
     ]
    }
   ],
   "source": [
    "df.show()"
   ]
  },
  {
   "cell_type": "code",
   "execution_count": 46,
   "id": "7895b5a4",
   "metadata": {},
   "outputs": [
    {
     "name": "stdout",
     "output_type": "stream",
     "text": [
      "+--------+------------+---------+\n",
      "|order_id|avg_quantity|avg_price|\n",
      "+--------+------------+---------+\n",
      "|       1|         2.0|     10.0|\n",
      "|       2|         3.0|     15.0|\n",
      "|       3|         1.0|     10.0|\n",
      "|       4|         2.0|     20.0|\n",
      "|       5|         1.0|     10.0|\n",
      "+--------+------------+---------+\n",
      "\n"
     ]
    }
   ],
   "source": [
    "# Task 4: Calculate average quantity and price per order \n",
    "\n",
    "df.groupBy('order_id').agg(avg('quantity').alias('avg_quantity'), avg('price').alias('avg_price')).show()\n"
   ]
  },
  {
   "cell_type": "code",
   "execution_count": 47,
   "id": "a9555d07",
   "metadata": {},
   "outputs": [
    {
     "name": "stdout",
     "output_type": "stream",
     "text": [
      "+----------+-------------+\n",
      "|product_id|total_revenue|\n",
      "+----------+-------------+\n",
      "|         A|           40|\n",
      "|         B|           45|\n",
      "|         C|           40|\n",
      "+----------+-------------+\n",
      "\n"
     ]
    }
   ],
   "source": [
    "# Task 5: Total revenue per customer\n",
    "\n",
    "df.groupBy('product_id').agg(sum('total_rev').alias('total_revenue')).show()"
   ]
  },
  {
   "cell_type": "code",
   "execution_count": 48,
   "id": "bdd1abb3",
   "metadata": {},
   "outputs": [
    {
     "name": "stdout",
     "output_type": "stream",
     "text": [
      "+----------+-------------+\n",
      "|order_date|total_revenue|\n",
      "+----------+-------------+\n",
      "|2023-07-01|           65|\n",
      "+----------+-------------+\n",
      "\n"
     ]
    }
   ],
   "source": [
    "# Task 6: Date with highest total revenue\n",
    "\n",
    "highest_revenue_date = df.groupBy(\"order_date\").agg(sum(\"total_rev\").alias(\"total_revenue\"))\n",
    "highest_revenue_date = highest_revenue_date.orderBy(col(\"total_revenue\").desc()).limit(1)\n",
    "highest_revenue_date.show()"
   ]
  },
  {
   "cell_type": "code",
   "execution_count": null,
   "id": "8b656968",
   "metadata": {},
   "outputs": [],
   "source": []
  }
 ],
 "metadata": {
  "kernelspec": {
   "display_name": "Python 3 (ipykernel)",
   "language": "python",
   "name": "python3"
  },
  "language_info": {
   "codemirror_mode": {
    "name": "ipython",
    "version": 3
   },
   "file_extension": ".py",
   "mimetype": "text/x-python",
   "name": "python",
   "nbconvert_exporter": "python",
   "pygments_lexer": "ipython3",
   "version": "3.11.4"
  }
 },
 "nbformat": 4,
 "nbformat_minor": 5
}
