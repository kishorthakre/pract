{
 "cells": [
  {
   "cell_type": "raw",
   "id": "3a8bc389",
   "metadata": {},
   "source": [
    "https://www.linkedin.com/pulse/dannys-diner-case-study-using-pyspark-databricks-deepak-rajak/"
   ]
  },
  {
   "cell_type": "code",
   "execution_count": 1,
   "id": "95cbcc84",
   "metadata": {},
   "outputs": [],
   "source": [
    "import findspark\n",
    "findspark.init()"
   ]
  },
  {
   "cell_type": "code",
   "execution_count": 11,
   "id": "3984b327",
   "metadata": {},
   "outputs": [],
   "source": [
    "from pyspark.sql import SparkSession\n",
    "from pyspark.sql.functions import *\n",
    "from pyspark.sql.types import *"
   ]
  },
  {
   "cell_type": "code",
   "execution_count": 4,
   "id": "c990be0b",
   "metadata": {},
   "outputs": [
    {
     "data": {
      "text/html": [
       "\n",
       "            <div>\n",
       "                <p><b>SparkSession - in-memory</b></p>\n",
       "                \n",
       "        <div>\n",
       "            <p><b>SparkContext</b></p>\n",
       "\n",
       "            <p><a href=\"http://LAPTOP-3V2ROQ70:4040\">Spark UI</a></p>\n",
       "\n",
       "            <dl>\n",
       "              <dt>Version</dt>\n",
       "                <dd><code>v3.5.1</code></dd>\n",
       "              <dt>Master</dt>\n",
       "                <dd><code>local[*]</code></dd>\n",
       "              <dt>AppName</dt>\n",
       "                <dd><code>i1</code></dd>\n",
       "            </dl>\n",
       "        </div>\n",
       "        \n",
       "            </div>\n",
       "        "
      ],
      "text/plain": [
       "<pyspark.sql.session.SparkSession at 0x1ab1ba269d0>"
      ]
     },
     "execution_count": 4,
     "metadata": {},
     "output_type": "execute_result"
    }
   ],
   "source": [
    "spark = SparkSession.builder.appName('i1').getOrCreate()\n",
    "spark"
   ]
  },
  {
   "cell_type": "code",
   "execution_count": 28,
   "id": "946f14c6",
   "metadata": {},
   "outputs": [
    {
     "name": "stdout",
     "output_type": "stream",
     "text": [
      "+-----------+----------+----------+\n",
      "|customer_id|order_date|product_id|\n",
      "+-----------+----------+----------+\n",
      "|          A|2021-01-01|         1|\n",
      "|          A|2021-01-01|         2|\n",
      "|          A|2021-01-07|         2|\n",
      "|          A|2021-01-10|         3|\n",
      "|          A|2021-01-11|         3|\n",
      "|          A|2021-01-11|         3|\n",
      "|          B|2021-01-01|         2|\n",
      "|          B|2021-01-02|         2|\n",
      "|          B|2021-01-04|         1|\n",
      "|          B|2021-01-11|         1|\n",
      "|          B|2021-01-16|         3|\n",
      "|          B|2021-02-01|         3|\n",
      "|          C|2021-01-01|         3|\n",
      "|          C|2021-01-01|         3|\n",
      "|          C|2021-01-07|         3|\n",
      "+-----------+----------+----------+\n",
      "\n",
      "root\n",
      " |-- customer_id: string (nullable = true)\n",
      " |-- order_date: string (nullable = true)\n",
      " |-- product_id: string (nullable = true)\n",
      "\n"
     ]
    }
   ],
   "source": [
    "d1 = [('A', '2021-01-01', '1'),\n",
    "  ('A', '2021-01-01', '2'),\n",
    "  ('A', '2021-01-07', '2'),\n",
    "  ('A', '2021-01-10', '3'),\n",
    "  ('A', '2021-01-11', '3'),\n",
    "  ('A', '2021-01-11', '3'),\n",
    "  ('B', '2021-01-01', '2'),\n",
    "  ('B', '2021-01-02', '2'),\n",
    "  ('B', '2021-01-04', '1'),\n",
    "  ('B', '2021-01-11', '1'),\n",
    "  ('B', '2021-01-16', '3'),\n",
    "  ('B', '2021-02-01', '3'),\n",
    "  ('C', '2021-01-01', '3'),\n",
    "  ('C', '2021-01-01', '3'),\n",
    "  ('C', '2021-01-07', '3')]\n",
    "c1 = ['customer_id', 'order_date','product_id']\n",
    "\n",
    "df1 = spark.createDataFrame(data = d1, schema=c1)\n",
    "df1.show()\n",
    "df1.printSchema()"
   ]
  },
  {
   "cell_type": "raw",
   "id": "48fc01a2",
   "metadata": {},
   "source": [
    "sch = StructType([StructField('customer_id', StringType(), True),\n",
    "                  StructField('order_date', DateType(), True),\n",
    "                  StructField('product_id', IntegerType(), True)])\n",
    "df2 = spark.createDataFrame(data = d1, schema=sch)\n",
    "df2.printSchema()"
   ]
  },
  {
   "cell_type": "code",
   "execution_count": 29,
   "id": "199d979a",
   "metadata": {},
   "outputs": [
    {
     "name": "stdout",
     "output_type": "stream",
     "text": [
      "root\n",
      " |-- customer_id: string (nullable = true)\n",
      " |-- order_date: date (nullable = true)\n",
      " |-- product_id: integer (nullable = true)\n",
      "\n"
     ]
    }
   ],
   "source": [
    "# read and change dtypes\n",
    "\n",
    "sales = df1.withColumn('order_date', col('order_date').cast(DateType())).withColumn('product_id', df1.product_id.cast(IntegerType()))\n",
    "sales.printSchema()"
   ]
  },
  {
   "cell_type": "code",
   "execution_count": null,
   "id": "159d47e5",
   "metadata": {},
   "outputs": [],
   "source": []
  },
  {
   "cell_type": "code",
   "execution_count": 26,
   "id": "7e74d178",
   "metadata": {},
   "outputs": [
    {
     "name": "stdout",
     "output_type": "stream",
     "text": [
      "+----------+------------+-----+\n",
      "|product_id|product_name|price|\n",
      "+----------+------------+-----+\n",
      "|         1|       sushi|   10|\n",
      "|         2|       curry|   15|\n",
      "|         3|       ramen|   12|\n",
      "+----------+------------+-----+\n",
      "\n",
      "root\n",
      " |-- product_id: string (nullable = true)\n",
      " |-- product_name: string (nullable = true)\n",
      " |-- price: string (nullable = true)\n",
      "\n"
     ]
    }
   ],
   "source": [
    "d2 = [('1', 'sushi', '10'),\n",
    "  ('2', 'curry', '15'),\n",
    "  ('3', 'ramen', '12')]\n",
    "c2 = ['product_id', 'product_name', 'price']\n",
    "df2 = spark.createDataFrame(data = d2, schema=c2)\n",
    "df2.show()\n",
    "df2.printSchema()"
   ]
  },
  {
   "cell_type": "code",
   "execution_count": 32,
   "id": "f454a3a9",
   "metadata": {},
   "outputs": [
    {
     "name": "stdout",
     "output_type": "stream",
     "text": [
      "root\n",
      " |-- product_id: integer (nullable = true)\n",
      " |-- price: integer (nullable = true)\n",
      " |-- product_name: string (nullable = true)\n",
      "\n"
     ]
    }
   ],
   "source": [
    "menu = df2.select(df2.product_id.cast(IntegerType()), col('price').cast(IntegerType()), 'product_name')\n",
    "menu.printSchema()"
   ]
  },
  {
   "cell_type": "code",
   "execution_count": 33,
   "id": "83b66308",
   "metadata": {},
   "outputs": [
    {
     "name": "stdout",
     "output_type": "stream",
     "text": [
      "+-----------+----------+\n",
      "|customer_id| join_date|\n",
      "+-----------+----------+\n",
      "|          A|2021-01-07|\n",
      "|          B|2021-01-09|\n",
      "+-----------+----------+\n",
      "\n",
      "root\n",
      " |-- customer_id: string (nullable = true)\n",
      " |-- join_date: string (nullable = true)\n",
      "\n"
     ]
    }
   ],
   "source": [
    "d3=[('A', '2021-01-07'),\n",
    "  ('B', '2021-01-09')]\n",
    "c3 = ['customer_id','join_date']\n",
    "df3 = spark.createDataFrame(data=d3, schema=c3)\n",
    "df3.show()\n",
    "df3.printSchema()"
   ]
  },
  {
   "cell_type": "code",
   "execution_count": 37,
   "id": "e2345af5",
   "metadata": {},
   "outputs": [
    {
     "name": "stdout",
     "output_type": "stream",
     "text": [
      "root\n",
      " |-- customer_id: string (nullable = true)\n",
      " |-- join_date: date (nullable = true)\n",
      "\n"
     ]
    }
   ],
   "source": [
    "members = df3.select('customer_id',df3.join_date.cast(DateType()))\n",
    "members.printSchema()"
   ]
  },
  {
   "cell_type": "code",
   "execution_count": 38,
   "id": "6583554b",
   "metadata": {},
   "outputs": [
    {
     "name": "stdout",
     "output_type": "stream",
     "text": [
      "+-----------+----------+----------+\n",
      "|customer_id|order_date|product_id|\n",
      "+-----------+----------+----------+\n",
      "|          A|2021-01-01|         1|\n",
      "|          A|2021-01-01|         2|\n",
      "|          A|2021-01-07|         2|\n",
      "|          A|2021-01-10|         3|\n",
      "|          A|2021-01-11|         3|\n",
      "|          A|2021-01-11|         3|\n",
      "|          B|2021-01-01|         2|\n",
      "|          B|2021-01-02|         2|\n",
      "|          B|2021-01-04|         1|\n",
      "|          B|2021-01-11|         1|\n",
      "|          B|2021-01-16|         3|\n",
      "|          B|2021-02-01|         3|\n",
      "|          C|2021-01-01|         3|\n",
      "|          C|2021-01-01|         3|\n",
      "|          C|2021-01-07|         3|\n",
      "+-----------+----------+----------+\n",
      "\n",
      "+----------+-----+------------+\n",
      "|product_id|price|product_name|\n",
      "+----------+-----+------------+\n",
      "|         1|   10|       sushi|\n",
      "|         2|   15|       curry|\n",
      "|         3|   12|       ramen|\n",
      "+----------+-----+------------+\n",
      "\n",
      "+-----------+----------+\n",
      "|customer_id| join_date|\n",
      "+-----------+----------+\n",
      "|          A|2021-01-07|\n",
      "|          B|2021-01-09|\n",
      "+-----------+----------+\n",
      "\n"
     ]
    }
   ],
   "source": [
    "sales.show()\n",
    "menu.show()\n",
    "members.show()"
   ]
  },
  {
   "cell_type": "code",
   "execution_count": 41,
   "id": "7d938be5",
   "metadata": {},
   "outputs": [
    {
     "name": "stdout",
     "output_type": "stream",
     "text": [
      "+-----------+-----------+\n",
      "|customer_id|totalamount|\n",
      "+-----------+-----------+\n",
      "|          A|         76|\n",
      "|          B|         74|\n",
      "|          C|         36|\n",
      "+-----------+-----------+\n",
      "\n"
     ]
    }
   ],
   "source": [
    "# What is the total amount each customer spent at the restaurant\n",
    "\n",
    "totalamtdf = (sales.join(menu, 'product_id')\n",
    "                   .groupBy('customer_id').agg(sum('price'))\n",
    "                   .withColumnRenamed('sum(price)', 'totalamount')\n",
    "                   .orderBy('customer_id') \n",
    "             )\n",
    "totalamtdf.show()"
   ]
  },
  {
   "cell_type": "code",
   "execution_count": null,
   "id": "6104cf3d",
   "metadata": {},
   "outputs": [],
   "source": [
    "# How many days has each customer visited the restau"
   ]
  },
  {
   "cell_type": "code",
   "execution_count": 42,
   "id": "1292d42f",
   "metadata": {},
   "outputs": [],
   "source": [
    "spark.stop()"
   ]
  },
  {
   "cell_type": "code",
   "execution_count": null,
   "id": "885f4e8e",
   "metadata": {},
   "outputs": [],
   "source": []
  }
 ],
 "metadata": {
  "kernelspec": {
   "display_name": "Python 3 (ipykernel)",
   "language": "python",
   "name": "python3"
  },
  "language_info": {
   "codemirror_mode": {
    "name": "ipython",
    "version": 3
   },
   "file_extension": ".py",
   "mimetype": "text/x-python",
   "name": "python",
   "nbconvert_exporter": "python",
   "pygments_lexer": "ipython3",
   "version": "3.11.4"
  }
 },
 "nbformat": 4,
 "nbformat_minor": 5
}
