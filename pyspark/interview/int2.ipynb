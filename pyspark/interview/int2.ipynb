{
 "cells": [
  {
   "cell_type": "code",
   "execution_count": 1,
   "id": "975fde3a",
   "metadata": {},
   "outputs": [],
   "source": [
    "import findspark\n",
    "findspark.init()"
   ]
  },
  {
   "cell_type": "code",
   "execution_count": 23,
   "id": "8573ed14",
   "metadata": {},
   "outputs": [],
   "source": [
    "from pyspark.sql import SparkSession\n",
    "from pyspark.sql.functions import col, sum, desc, count, expr, split, explode, lower, regexp_extract\n",
    "from pyspark.sql.types import *"
   ]
  },
  {
   "cell_type": "code",
   "execution_count": 3,
   "id": "d51d20bf",
   "metadata": {},
   "outputs": [
    {
     "data": {
      "text/html": [
       "\n",
       "            <div>\n",
       "                <p><b>SparkSession - in-memory</b></p>\n",
       "                \n",
       "        <div>\n",
       "            <p><b>SparkContext</b></p>\n",
       "\n",
       "            <p><a href=\"http://LAPTOP-3V2ROQ70:4041\">Spark UI</a></p>\n",
       "\n",
       "            <dl>\n",
       "              <dt>Version</dt>\n",
       "                <dd><code>v3.5.1</code></dd>\n",
       "              <dt>Master</dt>\n",
       "                <dd><code>local[*]</code></dd>\n",
       "              <dt>AppName</dt>\n",
       "                <dd><code>i2</code></dd>\n",
       "            </dl>\n",
       "        </div>\n",
       "        \n",
       "            </div>\n",
       "        "
      ],
      "text/plain": [
       "<pyspark.sql.session.SparkSession at 0x1c6dc0bb850>"
      ]
     },
     "execution_count": 3,
     "metadata": {},
     "output_type": "execute_result"
    }
   ],
   "source": [
    "spark = SparkSession.builder.appName('i2').getOrCreate()\n",
    "spark"
   ]
  },
  {
   "cell_type": "markdown",
   "id": "151896e0",
   "metadata": {},
   "source": [
    "### Write PySpark code to perform various tasks on an e-commerce transactions DataFrame, such as calculating total revenue, finding top customers, etc.\n"
   ]
  },
  {
   "cell_type": "code",
   "execution_count": 13,
   "id": "a220f471",
   "metadata": {},
   "outputs": [
    {
     "name": "stdout",
     "output_type": "stream",
     "text": [
      "root\n",
      " |-- transaction_id: string (nullable = true)\n",
      " |-- customer_id: string (nullable = true)\n",
      " |-- product_id: string (nullable = true)\n",
      " |-- quantity: long (nullable = true)\n",
      " |-- price: double (nullable = true)\n",
      " |-- transaction_date: timestamp (nullable = true)\n",
      "\n"
     ]
    }
   ],
   "source": [
    "from datetime import datetime\n",
    "data = [\n",
    " (\"T1\", \"C1\", \"P1\", 2, 50.0, datetime.strptime(\"2024-06-01 10:00:00\", '%Y-%m-%d %H:%M:%S')),\n",
    " (\"T2\", \"C2\", \"P2\", 1, 30.0, datetime.strptime(\"2024-06-02 11:00:00\", '%Y-%m-%d %H:%M:%S')),\n",
    " (\"T3\", \"C1\", \"P3\", 3, 20.0, datetime.strptime(\"2024-06-03 12:00:00\", '%Y-%m-%d %H:%M:%S')),\n",
    " (\"T4\", \"C3\", \"P1\", 1, 50.0, datetime.strptime(\"2024-06-04 13:00:00\", '%Y-%m-%d %H:%M:%S')),\n",
    " (\"T5\", \"C2\", \"P2\", 2, 30.0, datetime.strptime(\"2024-06-05 14:00:00\", '%Y-%m-%d %H:%M:%S'))]\n",
    "\n",
    "columns = [\"transaction_id\", \"customer_id\", \"product_id\", \"quantity\", \"price\", \"transaction_date\"]\n",
    "transactions = spark.createDataFrame(data, columns)\n",
    "transactions.printSchema()"
   ]
  },
  {
   "cell_type": "code",
   "execution_count": 16,
   "id": "ebb1f0e7",
   "metadata": {},
   "outputs": [
    {
     "name": "stdout",
     "output_type": "stream",
     "text": [
      "+--------------+-----------+----------+--------+-----+-------------------+\n",
      "|transaction_id|customer_id|product_id|quantity|price|   transaction_date|\n",
      "+--------------+-----------+----------+--------+-----+-------------------+\n",
      "|            T1|         C1|        P1|       2| 50.0|2024-06-01 10:00:00|\n",
      "|            T2|         C2|        P2|       1| 30.0|2024-06-02 11:00:00|\n",
      "|            T3|         C1|        P3|       3| 20.0|2024-06-03 12:00:00|\n",
      "|            T4|         C3|        P1|       1| 50.0|2024-06-04 13:00:00|\n",
      "|            T5|         C2|        P2|       2| 30.0|2024-06-05 14:00:00|\n",
      "+--------------+-----------+----------+--------+-----+-------------------+\n",
      "\n"
     ]
    }
   ],
   "source": [
    "transactions.show()"
   ]
  },
  {
   "cell_type": "code",
   "execution_count": 15,
   "id": "39f042bc",
   "metadata": {},
   "outputs": [],
   "source": [
    "# Convert transaction_date to timestamp"
   ]
  },
  {
   "cell_type": "code",
   "execution_count": 21,
   "id": "e4ab563a",
   "metadata": {},
   "outputs": [
    {
     "name": "stdout",
     "output_type": "stream",
     "text": [
      "+--------------+-----------+----------+--------+-----+-------------------+---------+\n",
      "|transaction_id|customer_id|product_id|quantity|price|   transaction_date|total_rev|\n",
      "+--------------+-----------+----------+--------+-----+-------------------+---------+\n",
      "|            T1|         C1|        P1|       2| 50.0|2024-06-01 10:00:00|    100.0|\n",
      "|            T2|         C2|        P2|       1| 30.0|2024-06-02 11:00:00|     30.0|\n",
      "|            T3|         C1|        P3|       3| 20.0|2024-06-03 12:00:00|     60.0|\n",
      "|            T4|         C3|        P1|       1| 50.0|2024-06-04 13:00:00|     50.0|\n",
      "|            T5|         C2|        P2|       2| 30.0|2024-06-05 14:00:00|     60.0|\n",
      "+--------------+-----------+----------+--------+-----+-------------------+---------+\n",
      "\n"
     ]
    }
   ],
   "source": [
    "# 1. Calculate Total Revenue \n",
    "\n",
    "transactions = transactions.withColumn('total_rev', col('quantity')*col('price'))\n",
    "transactions.show()"
   ]
  },
  {
   "cell_type": "code",
   "execution_count": null,
   "id": "09467e81",
   "metadata": {},
   "outputs": [],
   "source": []
  },
  {
   "cell_type": "code",
   "execution_count": 34,
   "id": "68d98709",
   "metadata": {},
   "outputs": [
    {
     "name": "stdout",
     "output_type": "stream",
     "text": [
      "Total Revenue: 300.0\n"
     ]
    }
   ],
   "source": [
    "total_revenue = transactions.agg(sum(\"total_rev\").alias('total_revenue')).collect()[0]['total_revenue']\n",
    "print(f\"Total Revenue: {total_revenue}\")"
   ]
  },
  {
   "cell_type": "code",
   "execution_count": 37,
   "id": "c63c295d",
   "metadata": {},
   "outputs": [
    {
     "name": "stdout",
     "output_type": "stream",
     "text": [
      "+-----------+-----+\n",
      "|customer_id|   tr|\n",
      "+-----------+-----+\n",
      "|         C1|160.0|\n",
      "|         C2| 90.0|\n",
      "|         C3| 50.0|\n",
      "+-----------+-----+\n",
      "\n"
     ]
    }
   ],
   "source": [
    "# 2. Find Top Customers by Revenue\n",
    "\n",
    "top_customers = transactions.groupBy('customer_id').agg(sum('total_rev').alias('tr')).orderBy(desc('tr'))\n",
    "top_customers.show()"
   ]
  },
  {
   "cell_type": "code",
   "execution_count": 38,
   "id": "dace9015",
   "metadata": {},
   "outputs": [
    {
     "name": "stdout",
     "output_type": "stream",
     "text": [
      "+-------------------+----------------+\n",
      "|   transaction_date|count(total_rev)|\n",
      "+-------------------+----------------+\n",
      "|2024-06-01 10:00:00|               1|\n",
      "|2024-06-02 11:00:00|               1|\n",
      "|2024-06-03 12:00:00|               1|\n",
      "|2024-06-04 13:00:00|               1|\n",
      "|2024-06-05 14:00:00|               1|\n",
      "+-------------------+----------------+\n",
      "\n"
     ]
    }
   ],
   "source": [
    "# 3. Count Transactions per Day\n",
    "\n",
    "transactions_per_day = transactions.groupBy('transaction_date').agg(count('total_rev')).orderBy('transaction_date')\n",
    "transactions_per_day.show()"
   ]
  },
  {
   "cell_type": "code",
   "execution_count": 40,
   "id": "5d343112",
   "metadata": {},
   "outputs": [
    {
     "name": "stdout",
     "output_type": "stream",
     "text": [
      "+----------+--------------+\n",
      "|product_id|total_quantity|\n",
      "+----------+--------------+\n",
      "|        P1|             3|\n",
      "|        P2|             3|\n",
      "|        P3|             3|\n",
      "+----------+--------------+\n",
      "\n"
     ]
    }
   ],
   "source": [
    "# 4. Find the Most Popular Products \n",
    "\n",
    "popular_products = transactions.groupBy('product_id').agg(sum('quantity').alias('total_quantity')).orderBy(desc('total_quantity'))\n",
    "popular_products.show()"
   ]
  },
  {
   "cell_type": "code",
   "execution_count": 41,
   "id": "7582379a",
   "metadata": {},
   "outputs": [
    {
     "name": "stdout",
     "output_type": "stream",
     "text": [
      "Average Order Value: 60.0\n"
     ]
    }
   ],
   "source": [
    "# 5. Calculate Average Order Value (AOV)\n",
    "average_order_value = transactions.groupBy(\"transaction_id\") \\\n",
    " .agg(sum(\"total_rev\").alias(\"order_value\")) \\\n",
    " .agg(expr(\"avg(order_value)\").alias(\"average_order_value\")).collect()[0][\"average_order_value\"]\n",
    "\n",
    "print(f\"Average Order Value: {average_order_value}\")\n"
   ]
  },
  {
   "cell_type": "code",
   "execution_count": null,
   "id": "f6e843f0",
   "metadata": {},
   "outputs": [],
   "source": []
  },
  {
   "cell_type": "markdown",
   "id": "5ef5b7e8",
   "metadata": {},
   "source": [
    "https://sharmashorya1996.medium.com/pyspark-interview-preparation-part-3-coding-practice-a9d66c421c4"
   ]
  },
  {
   "cell_type": "markdown",
   "id": "2bcdfcf2",
   "metadata": {},
   "source": [
    "### Given a complete E-book of Pride and Prejudice, count the frequency of each word and return top 10 words."
   ]
  },
  {
   "cell_type": "code",
   "execution_count": 8,
   "id": "a6902b64",
   "metadata": {},
   "outputs": [
    {
     "name": "stdout",
     "output_type": "stream",
     "text": [
      "+--------------------------------------------------------------------+\n",
      "|value                                                               |\n",
      "+--------------------------------------------------------------------+\n",
      "|The Project Gutenberg EBook of Pride and Prejudice, by Jane Austen  |\n",
      "|                                                                    |\n",
      "|This eBook is for the use of anyone anywhere at no cost and with    |\n",
      "|almost no restrictions whatsoever.  You may copy it, give it away or|\n",
      "|re-use it under the terms of the Project Gutenberg License included |\n",
      "|with this eBook or online at www.gutenberg.org                      |\n",
      "|                                                                    |\n",
      "|                                                                    |\n",
      "|Title: Pride and Prejudice                                          |\n",
      "|                                                                    |\n",
      "|Author: Jane Austen                                                 |\n",
      "|                                                                    |\n",
      "|Posting Date: August 26, 2008 [EBook #1342]                         |\n",
      "|Release Date: June, 1998                                            |\n",
      "|Last Updated: March 10, 2018                                        |\n",
      "|                                                                    |\n",
      "|Language: English                                                   |\n",
      "|                                                                    |\n",
      "|Character set encoding: UTF-8                                       |\n",
      "|                                                                    |\n",
      "+--------------------------------------------------------------------+\n",
      "only showing top 20 rows\n",
      "\n"
     ]
    }
   ],
   "source": [
    "df = spark.read.text('pride_and_prejudice.txt')\n",
    "df.cache()\n",
    "df.show(truncate=False)"
   ]
  },
  {
   "cell_type": "code",
   "execution_count": 16,
   "id": "e8fd06df",
   "metadata": {
    "scrolled": true
   },
   "outputs": [
    {
     "name": "stdout",
     "output_type": "stream",
     "text": [
      "+----------------------------------------------------------------------------------+\n",
      "|line                                                                              |\n",
      "+----------------------------------------------------------------------------------+\n",
      "|[The, Project, Gutenberg, EBook, of, Pride, and, Prejudice,, by, Jane, Austen]    |\n",
      "|[]                                                                                |\n",
      "|[This, eBook, is, for, the, use, of, anyone, anywhere, at, no, cost, and, with]   |\n",
      "|[almost, no, restrictions, whatsoever., , You, may, copy, it,, give, it, away, or]|\n",
      "|[re-use, it, under, the, terms, of, the, Project, Gutenberg, License, included]   |\n",
      "|[with, this, eBook, or, online, at, www.gutenberg.org]                            |\n",
      "+----------------------------------------------------------------------------------+\n",
      "only showing top 6 rows\n",
      "\n"
     ]
    }
   ],
   "source": [
    "# Tokenize  \n",
    "df1 = df.select(split(col('value'), ' ').alias('line'))\n",
    "df1.show(6, truncate=False)"
   ]
  },
  {
   "cell_type": "code",
   "execution_count": 19,
   "id": "5d44e0a6",
   "metadata": {},
   "outputs": [
    {
     "name": "stdout",
     "output_type": "stream",
     "text": [
      "+---------+\n",
      "|word     |\n",
      "+---------+\n",
      "|The      |\n",
      "|Project  |\n",
      "|Gutenberg|\n",
      "|EBook    |\n",
      "|of       |\n",
      "|Pride    |\n",
      "+---------+\n",
      "only showing top 6 rows\n",
      "\n"
     ]
    }
   ],
   "source": [
    "# Exploding a column of arrays into rows of elements\n",
    "\n",
    "df2 = df1.select(explode(col('line')).alias('word'))\n",
    "df2.show(6, truncate=False)"
   ]
  },
  {
   "cell_type": "code",
   "execution_count": 25,
   "id": "df457197",
   "metadata": {},
   "outputs": [
    {
     "name": "stdout",
     "output_type": "stream",
     "text": [
      "+----------+\n",
      "|word_lower|\n",
      "+----------+\n",
      "|the       |\n",
      "|project   |\n",
      "|gutenberg |\n",
      "|ebook     |\n",
      "|of        |\n",
      "|pride     |\n",
      "|and       |\n",
      "|prejudice,|\n",
      "|by        |\n",
      "|jane      |\n",
      "|austen    |\n",
      "|          |\n",
      "|this      |\n",
      "|ebook     |\n",
      "|is        |\n",
      "|for       |\n",
      "|the       |\n",
      "|use       |\n",
      "|of        |\n",
      "|anyone    |\n",
      "+----------+\n",
      "only showing top 20 rows\n",
      "\n"
     ]
    }
   ],
   "source": [
    "# Cleaning : lowering and removing punctuations\n",
    "\n",
    "df3 = df2.select(lower(col('word')).alias('word_lower'))\n",
    "df3.show(truncate=False)"
   ]
  },
  {
   "cell_type": "code",
   "execution_count": 24,
   "id": "6ed6fab3",
   "metadata": {},
   "outputs": [
    {
     "name": "stdout",
     "output_type": "stream",
     "text": [
      "+---------+\n",
      "|     word|\n",
      "+---------+\n",
      "|      the|\n",
      "|  project|\n",
      "|gutenberg|\n",
      "|    ebook|\n",
      "|       of|\n",
      "|    pride|\n",
      "|      and|\n",
      "|prejudice|\n",
      "|       by|\n",
      "|     jane|\n",
      "|   austen|\n",
      "|         |\n",
      "|     this|\n",
      "|    ebook|\n",
      "|       is|\n",
      "|      for|\n",
      "|      the|\n",
      "|      use|\n",
      "|       of|\n",
      "|   anyone|\n",
      "+---------+\n",
      "only showing top 20 rows\n",
      "\n"
     ]
    }
   ],
   "source": [
    "df4 = df3.select(regexp_extract(col('word_lower'), '[a-z]+', 0).alias('word'))\n",
    "df4.show()"
   ]
  },
  {
   "cell_type": "code",
   "execution_count": 27,
   "id": "3056e47f",
   "metadata": {},
   "outputs": [
    {
     "name": "stdout",
     "output_type": "stream",
     "text": [
      "+-------------+-----+\n",
      "|         word|count|\n",
      "+-------------+-----+\n",
      "|       online|    4|\n",
      "|         some|  209|\n",
      "|        still|   72|\n",
      "|          few|   72|\n",
      "|         hope|  122|\n",
      "|        those|   60|\n",
      "|     cautious|    4|\n",
      "|    imitation|    1|\n",
      "|          art|    3|\n",
      "|      solaced|    1|\n",
      "|       poetry|    2|\n",
      "|    arguments|    5|\n",
      "| premeditated|    1|\n",
      "|      elevate|    1|\n",
      "|       doubts|    2|\n",
      "|    destitute|    1|\n",
      "|    solemnity|    5|\n",
      "|   lieutenant|    1|\n",
      "|gratification|    1|\n",
      "|    connected|   14|\n",
      "+-------------+-----+\n",
      "only showing top 20 rows\n",
      "\n"
     ]
    }
   ],
   "source": [
    "# Filtering and counting\n",
    "\n",
    "df5 =df4.filter(col('word') != '')\n",
    "df6 = df5.groupBy(col('word')).count()\n",
    "df6.show() "
   ]
  },
  {
   "cell_type": "code",
   "execution_count": 28,
   "id": "24bf99ed",
   "metadata": {},
   "outputs": [
    {
     "name": "stdout",
     "output_type": "stream",
     "text": [
      "+----+-----+\n",
      "|word|count|\n",
      "+----+-----+\n",
      "| the| 4496|\n",
      "|  to| 4235|\n",
      "|  of| 3719|\n",
      "| and| 3602|\n",
      "| her| 2223|\n",
      "|   i| 2052|\n",
      "|   a| 1997|\n",
      "|  in| 1920|\n",
      "| was| 1844|\n",
      "| she| 1703|\n",
      "+----+-----+\n",
      "only showing top 10 rows\n",
      "\n"
     ]
    }
   ],
   "source": [
    "# Ordering result \n",
    "df6.orderBy('count', ascending=False).show(10)"
   ]
  },
  {
   "cell_type": "raw",
   "id": "33e94fb1",
   "metadata": {},
   "source": [
    "# save table\n",
    "\n",
    "driver = \"org.postgresql.Driver\"\n",
    "url = \"jdbc:postgresql:///\"\n",
    "table = \"shorya_schema_pyspark.WordCount\"\n",
    "user = \"postgres\"\n",
    "password = \"\"\n",
    "\n",
    "wordCount.write.format(\"jdbc\").option(\"driver\", driver).option(\"url\",url).option(\"dbtable\", table).option(\"mode\",\n",
    "          "
   ]
  },
  {
   "cell_type": "code",
   "execution_count": 29,
   "id": "d91914a6",
   "metadata": {},
   "outputs": [],
   "source": [
    "spark.stop()"
   ]
  },
  {
   "cell_type": "code",
   "execution_count": null,
   "id": "dcda4c63",
   "metadata": {},
   "outputs": [],
   "source": []
  }
 ],
 "metadata": {
  "kernelspec": {
   "display_name": "Python 3 (ipykernel)",
   "language": "python",
   "name": "python3"
  },
  "language_info": {
   "codemirror_mode": {
    "name": "ipython",
    "version": 3
   },
   "file_extension": ".py",
   "mimetype": "text/x-python",
   "name": "python",
   "nbconvert_exporter": "python",
   "pygments_lexer": "ipython3",
   "version": "3.11.4"
  }
 },
 "nbformat": 4,
 "nbformat_minor": 5
}
