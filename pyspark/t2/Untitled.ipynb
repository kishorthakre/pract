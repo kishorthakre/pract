{
 "cells": [
  {
   "cell_type": "code",
   "execution_count": 1,
   "id": "2238827b",
   "metadata": {},
   "outputs": [],
   "source": [
    "import findspark\n",
    "findspark.init()"
   ]
  },
  {
   "cell_type": "code",
   "execution_count": 2,
   "id": "477c55e9",
   "metadata": {},
   "outputs": [],
   "source": [
    "from pyspark.sql import SparkSession\n",
    "from pyspark.sql.types import StructType, StructField, IntegerType, StringType\n",
    "import pyspark.sql.functions as func"
   ]
  },
  {
   "cell_type": "code",
   "execution_count": 3,
   "id": "2d3fd0e3",
   "metadata": {},
   "outputs": [],
   "source": [
    "spark = SparkSession.builder.appName('FirstApp').getOrCreate()"
   ]
  },
  {
   "cell_type": "code",
   "execution_count": 4,
   "id": "c9eb8721",
   "metadata": {},
   "outputs": [],
   "source": [
    "myschema = StructType([StructField('userID', IntegerType(), True),\n",
    "                      StructField('name', StringType(),True),\n",
    "                      StructField('age', IntegerType(), True),\n",
    "                      StructField('friends',IntegerType(), True)])"
   ]
  },
  {
   "cell_type": "code",
   "execution_count": 5,
   "id": "5236ab91",
   "metadata": {},
   "outputs": [
    {
     "name": "stdout",
     "output_type": "stream",
     "text": [
      "+------+--------+---+-------+\n",
      "|userID|    name|age|friends|\n",
      "+------+--------+---+-------+\n",
      "|     0|    Will| 33|    385|\n",
      "|     1|Jean-Luc| 26|      2|\n",
      "|     2|    Hugh| 55|    221|\n",
      "|     3|  Deanna| 40|    465|\n",
      "|     4|   Quark| 68|     21|\n",
      "+------+--------+---+-------+\n",
      "only showing top 5 rows\n",
      "\n"
     ]
    }
   ],
   "source": [
    "df = spark.read.format('csv').schema(myschema).option('path', 'fakefriends.csv').load()\n",
    "df.show(5)"
   ]
  },
  {
   "cell_type": "code",
   "execution_count": 10,
   "id": "4c5e8fed",
   "metadata": {},
   "outputs": [],
   "source": [
    "output = df.select(df.userID, df.name, df.age, df.friends)\\\n",
    "           .where(df.age < 30)\\\n",
    "           .withColumn('insert_ts',func.current_timestamp()).orderBy(df.userID)"
   ]
  },
  {
   "cell_type": "code",
   "execution_count": 11,
   "id": "8a131a25",
   "metadata": {},
   "outputs": [
    {
     "data": {
      "text/plain": [
       "112"
      ]
     },
     "execution_count": 11,
     "metadata": {},
     "output_type": "execute_result"
    }
   ],
   "source": [
    "output.count()"
   ]
  },
  {
   "cell_type": "code",
   "execution_count": 12,
   "id": "4427d5af",
   "metadata": {},
   "outputs": [],
   "source": [
    "output.createOrReplaceTempView('peoples')"
   ]
  },
  {
   "cell_type": "code",
   "execution_count": 13,
   "id": "4731b284",
   "metadata": {},
   "outputs": [
    {
     "name": "stdout",
     "output_type": "stream",
     "text": [
      "+--------+---+-------+--------------------+\n",
      "|    name|age|friends|           insert_ts|\n",
      "+--------+---+-------+--------------------+\n",
      "|Jean-Luc| 26|      2|2024-07-27 23:23:...|\n",
      "|    Hugh| 27|    181|2024-07-27 23:23:...|\n",
      "|  Weyoun| 22|    323|2024-07-27 23:23:...|\n",
      "|   Miles| 19|    268|2024-07-27 23:23:...|\n",
      "|  Julian| 25|      1|2024-07-27 23:23:...|\n",
      "|     Ben| 21|    445|2024-07-27 23:23:...|\n",
      "|  Julian| 22|    100|2024-07-27 23:23:...|\n",
      "|     Nog| 26|    281|2024-07-27 23:23:...|\n",
      "| Beverly| 27|    305|2024-07-27 23:23:...|\n",
      "|    Morn| 25|     96|2024-07-27 23:23:...|\n",
      "|   Brunt| 24|     49|2024-07-27 23:23:...|\n",
      "|     Nog| 20|      1|2024-07-27 23:23:...|\n",
      "| Beverly| 19|    269|2024-07-27 23:23:...|\n",
      "|   Brunt| 19|      5|2024-07-27 23:23:...|\n",
      "|  Geordi| 20|    100|2024-07-27 23:23:...|\n",
      "|  Geordi| 21|    477|2024-07-27 23:23:...|\n",
      "|  Kasidy| 22|    179|2024-07-27 23:23:...|\n",
      "|   Brunt| 20|    384|2024-07-27 23:23:...|\n",
      "|     Ben| 28|    311|2024-07-27 23:23:...|\n",
      "|    Worf| 24|    492|2024-07-27 23:23:...|\n",
      "+--------+---+-------+--------------------+\n",
      "only showing top 20 rows\n",
      "\n"
     ]
    }
   ],
   "source": [
    "spark.sql('select name, age, friends, insert_ts from peoples').show()"
   ]
  },
  {
   "cell_type": "code",
   "execution_count": 1,
   "id": "2fb2b5d8",
   "metadata": {},
   "outputs": [
    {
     "ename": "NameError",
     "evalue": "name 'spark' is not defined",
     "output_type": "error",
     "traceback": [
      "\u001b[1;31m---------------------------------------------------------------------------\u001b[0m",
      "\u001b[1;31mNameError\u001b[0m                                 Traceback (most recent call last)",
      "Cell \u001b[1;32mIn[1], line 1\u001b[0m\n\u001b[1;32m----> 1\u001b[0m spark\u001b[38;5;241m.\u001b[39mstop()\n",
      "\u001b[1;31mNameError\u001b[0m: name 'spark' is not defined"
     ]
    }
   ],
   "source": [
    "spark.stop()"
   ]
  },
  {
   "cell_type": "code",
   "execution_count": null,
   "id": "9aa17c51",
   "metadata": {},
   "outputs": [],
   "source": []
  }
 ],
 "metadata": {
  "kernelspec": {
   "display_name": "Python 3 (ipykernel)",
   "language": "python",
   "name": "python3"
  },
  "language_info": {
   "codemirror_mode": {
    "name": "ipython",
    "version": 3
   },
   "file_extension": ".py",
   "mimetype": "text/x-python",
   "name": "python",
   "nbconvert_exporter": "python",
   "pygments_lexer": "ipython3",
   "version": "3.11.4"
  }
 },
 "nbformat": 4,
 "nbformat_minor": 5
}
