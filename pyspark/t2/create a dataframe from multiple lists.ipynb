{
 "cells": [
  {
   "cell_type": "code",
   "execution_count": 1,
   "id": "7eacef23",
   "metadata": {},
   "outputs": [],
   "source": [
    "import findspark\n",
    "findspark.init()"
   ]
  },
  {
   "cell_type": "code",
   "execution_count": 2,
   "id": "8a356bd8",
   "metadata": {},
   "outputs": [
    {
     "data": {
      "text/html": [
       "\n",
       "            <div>\n",
       "                <p><b>SparkSession - in-memory</b></p>\n",
       "                \n",
       "        <div>\n",
       "            <p><b>SparkContext</b></p>\n",
       "\n",
       "            <p><a href=\"http://LAPTOP-3V2ROQ70:4040\">Spark UI</a></p>\n",
       "\n",
       "            <dl>\n",
       "              <dt>Version</dt>\n",
       "                <dd><code>v3.5.1</code></dd>\n",
       "              <dt>Master</dt>\n",
       "                <dd><code>local[*]</code></dd>\n",
       "              <dt>AppName</dt>\n",
       "                <dd><code>test1</code></dd>\n",
       "            </dl>\n",
       "        </div>\n",
       "        \n",
       "            </div>\n",
       "        "
      ],
      "text/plain": [
       "<pyspark.sql.session.SparkSession at 0x1db7035e750>"
      ]
     },
     "execution_count": 2,
     "metadata": {},
     "output_type": "execute_result"
    }
   ],
   "source": [
    "from pyspark.sql import SparkSession\n",
    "spark = SparkSession.builder.appName('test1').getOrCreate()\n",
    "spark"
   ]
  },
  {
   "cell_type": "code",
   "execution_count": 3,
   "id": "68d3c367",
   "metadata": {},
   "outputs": [
    {
     "name": "stdout",
     "output_type": "stream",
     "text": [
      "+-----+---+\n",
      "| name|age|\n",
      "+-----+---+\n",
      "|Ricky| 10|\n",
      "|Bunny| 15|\n",
      "| Coco| 20|\n",
      "+-----+---+\n",
      "\n"
     ]
    }
   ],
   "source": [
    "names = ['Ricky', 'Bunny', 'Coco']\n",
    "ages = [10, 15, 20]\n",
    "\n",
    "df = spark.createDataFrame(zip(names, ages), ['name', 'age'])\n",
    "df.show()"
   ]
  },
  {
   "cell_type": "code",
   "execution_count": 4,
   "id": "3b6107a8",
   "metadata": {},
   "outputs": [
    {
     "data": {
      "text/plain": [
       "[(['Ricky', 'Bunny', 'Coco'],), ([10, 15, 20],)]"
      ]
     },
     "execution_count": 4,
     "metadata": {},
     "output_type": "execute_result"
    }
   ],
   "source": [
    "data = {'Name': names, 'Age':ages}\n",
    "list(zip(data.values()))"
   ]
  },
  {
   "cell_type": "code",
   "execution_count": 5,
   "id": "e3851212",
   "metadata": {},
   "outputs": [
    {
     "name": "stdout",
     "output_type": "stream",
     "text": [
      "+-----+---+\n",
      "| name|age|\n",
      "+-----+---+\n",
      "|Ricky| 10|\n",
      "|Bunny| 15|\n",
      "| Coco| 20|\n",
      "+-----+---+\n",
      "\n"
     ]
    }
   ],
   "source": [
    "data = {'Name': names, 'Age':ages}\n",
    "df1 = spark.createDataFrame(list(zip(*data.values())), schema=list(data.keys()))\n",
    "df.show()"
   ]
  },
  {
   "cell_type": "code",
   "execution_count": 6,
   "id": "8911babe",
   "metadata": {},
   "outputs": [
    {
     "name": "stdout",
     "output_type": "stream",
     "text": [
      "Name Age\n",
      "['Ricky', 'Bunny', 'Coco'] [10, 15, 20]\n",
      "[('Ricky', 10), ('Bunny', 15), ('Coco', 20)]\n"
     ]
    }
   ],
   "source": [
    "print(*data)\n",
    "print(*data.values())\n",
    "print(list(zip(*data.values())))"
   ]
  },
  {
   "cell_type": "code",
   "execution_count": 7,
   "id": "1a1c8fb0",
   "metadata": {},
   "outputs": [
    {
     "name": "stdout",
     "output_type": "stream",
     "text": [
      "+-----+---+-------+\n",
      "| name|age|Country|\n",
      "+-----+---+-------+\n",
      "|Ricky| 10|  India|\n",
      "|Bunny| 15|     UK|\n",
      "| Coco| 20|    USA|\n",
      "+-----+---+-------+\n",
      "\n"
     ]
    }
   ],
   "source": [
    "names = ['Ricky', 'Bunny', 'Coco']\n",
    "ages = [10, 15, 20]\n",
    "country = ['India', 'UK', 'USA']\n",
    "\n",
    "df = spark.createDataFrame(zip(names, ages, country), ['name', 'age', 'Country'])\n",
    "df.show()"
   ]
  },
  {
   "cell_type": "code",
   "execution_count": 8,
   "id": "0ab52904",
   "metadata": {},
   "outputs": [
    {
     "name": "stdout",
     "output_type": "stream",
     "text": [
      "+-----+---+-----------+\n",
      "| Name|Age|    Subject|\n",
      "+-----+---+-----------+\n",
      "|Ricky| 10|    English|\n",
      "|Bunny| 15|Mathematics|\n",
      "| Coco| 20|       Arts|\n",
      "+-----+---+-----------+\n",
      "\n"
     ]
    }
   ],
   "source": [
    "students = [(\"Ricky\", 10, \"English\"), (\"Bunny\", 15, \"Mathematics\"), (\"Coco\", 20, \"Arts\")]\n",
    "\n",
    "# Create DataFrame out of list of tuples.\n",
    "df4 = spark.createDataFrame(students, [\"Name\", \"Age\", \"Subject\"])\n",
    "df4.show()"
   ]
  },
  {
   "cell_type": "code",
   "execution_count": 10,
   "id": "3d4dbbee",
   "metadata": {},
   "outputs": [
    {
     "name": "stdout",
     "output_type": "stream",
     "text": [
      "+-----+---+-------+\n",
      "| Name|Age|Country|\n",
      "+-----+---+-------+\n",
      "|Ricky| 10|  India|\n",
      "|Bunny| 15|     UK|\n",
      "| Coco| 20|    USA|\n",
      "+-----+---+-------+\n",
      "\n"
     ]
    }
   ],
   "source": [
    "from pyspark.sql.types import *\n",
    "\n",
    "student1 = [\"Ricky\",10,\"India\"]\n",
    "student2 = [\"Bunny\", 15,\"UK\"]\n",
    "student3 = [\"Coco\", 20, \"USA\"]\n",
    "\n",
    "# Define the schema\n",
    "schema = StructType([\n",
    "    StructField(\"Name\", StringType(), True),\n",
    "    StructField(\"Age\", IntegerType(), True),\n",
    "    StructField(\"Country\", StringType(), True)\n",
    "])\n",
    "\n",
    "# Convert lists of Data into tuples\n",
    "data = [tuple(student1),\n",
    "        tuple(student2),\n",
    "        tuple(student3)]\n",
    "\n",
    "# Create a DataFrame\n",
    "df5 = spark.createDataFrame(data, schema=schema)\n",
    "df5.show()\n"
   ]
  },
  {
   "cell_type": "code",
   "execution_count": 11,
   "id": "003d5eb8",
   "metadata": {},
   "outputs": [
    {
     "data": {
      "text/plain": [
       "[('Ricky', 10, 'India'), ('Bunny', 15, 'UK'), ('Coco', 20, 'USA')]"
      ]
     },
     "execution_count": 11,
     "metadata": {},
     "output_type": "execute_result"
    }
   ],
   "source": [
    "data"
   ]
  },
  {
   "cell_type": "code",
   "execution_count": null,
   "id": "5f870e9b",
   "metadata": {},
   "outputs": [],
   "source": []
  }
 ],
 "metadata": {
  "kernelspec": {
   "display_name": "Python 3 (ipykernel)",
   "language": "python",
   "name": "python3"
  },
  "language_info": {
   "codemirror_mode": {
    "name": "ipython",
    "version": 3
   },
   "file_extension": ".py",
   "mimetype": "text/x-python",
   "name": "python",
   "nbconvert_exporter": "python",
   "pygments_lexer": "ipython3",
   "version": "3.11.4"
  }
 },
 "nbformat": 4,
 "nbformat_minor": 5
}
