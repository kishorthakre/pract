{
 "cells": [
  {
   "cell_type": "code",
   "execution_count": 1,
   "id": "5b37596b",
   "metadata": {},
   "outputs": [],
   "source": [
    "import findspark\n",
    "findspark.init()"
   ]
  },
  {
   "cell_type": "code",
   "execution_count": 3,
   "id": "fbef975f",
   "metadata": {},
   "outputs": [
    {
     "data": {
      "text/html": [
       "\n",
       "            <div>\n",
       "                <p><b>SparkSession - in-memory</b></p>\n",
       "                \n",
       "        <div>\n",
       "            <p><b>SparkContext</b></p>\n",
       "\n",
       "            <p><a href=\"http://LAPTOP-3V2ROQ70:4040\">Spark UI</a></p>\n",
       "\n",
       "            <dl>\n",
       "              <dt>Version</dt>\n",
       "                <dd><code>v3.5.1</code></dd>\n",
       "              <dt>Master</dt>\n",
       "                <dd><code>local[*]</code></dd>\n",
       "              <dt>AppName</dt>\n",
       "                <dd><code>test1</code></dd>\n",
       "            </dl>\n",
       "        </div>\n",
       "        \n",
       "            </div>\n",
       "        "
      ],
      "text/plain": [
       "<pyspark.sql.session.SparkSession at 0x20325686110>"
      ]
     },
     "execution_count": 3,
     "metadata": {},
     "output_type": "execute_result"
    }
   ],
   "source": [
    "from pyspark.sql import SparkSession\n",
    "spark = SparkSession.builder.appName('test1').getOrCreate()\n",
    "spark"
   ]
  },
  {
   "cell_type": "code",
   "execution_count": 4,
   "id": "9aeaba21",
   "metadata": {},
   "outputs": [
    {
     "name": "stdout",
     "output_type": "stream",
     "text": [
      "+-----+------------+\n",
      "|Seqno|Name        |\n",
      "+-----+------------+\n",
      "|1    |john jones  |\n",
      "|2    |tracey smith|\n",
      "|3    |amy sanders |\n",
      "+-----+------------+\n",
      "\n"
     ]
    }
   ],
   "source": [
    "columns = ['Seqno', 'Name']\n",
    "data = [('1', 'john jones'), \n",
    "       ('2', 'tracey smith'),\n",
    "       ('3', 'amy sanders')]\n",
    "df = spark.createDataFrame(data = data, schema= columns)\n",
    "df.show(truncate=False)"
   ]
  },
  {
   "cell_type": "code",
   "execution_count": 14,
   "id": "0ca88426",
   "metadata": {},
   "outputs": [
    {
     "name": "stdout",
     "output_type": "stream",
     "text": [
      "+-----+------------+------------+\n",
      "|Seqno|        Name|  Upper_Name|\n",
      "+-----+------------+------------+\n",
      "|    1|  john jones|  JOHN JONES|\n",
      "|    2|tracey smith|TRACEY SMITH|\n",
      "|    3| amy sanders| AMY SANDERS|\n",
      "+-----+------------+------------+\n",
      "\n"
     ]
    }
   ],
   "source": [
    "# Apply function using withColumn\n",
    "\n",
    "from pyspark.sql.functions import *\n",
    "df.withColumn('Upper_Name', upper(df.Name)).show()"
   ]
  },
  {
   "cell_type": "code",
   "execution_count": 6,
   "id": "7cb2057f",
   "metadata": {},
   "outputs": [
    {
     "name": "stdout",
     "output_type": "stream",
     "text": [
      "+-----+------------+------------+\n",
      "|Seqno|        Name| upper(Name)|\n",
      "+-----+------------+------------+\n",
      "|    1|  john jones|  JOHN JONES|\n",
      "|    2|tracey smith|TRACEY SMITH|\n",
      "|    3| amy sanders| AMY SANDERS|\n",
      "+-----+------------+------------+\n",
      "\n"
     ]
    }
   ],
   "source": [
    "# Apply function using select \n",
    "\n",
    "df.select('Seqno', \"Name\", upper(df.Name)).show()"
   ]
  },
  {
   "cell_type": "code",
   "execution_count": 7,
   "id": "f928aab7",
   "metadata": {},
   "outputs": [
    {
     "name": "stdout",
     "output_type": "stream",
     "text": [
      "+-----+------------+------------+\n",
      "|Seqno|        Name| upper(Name)|\n",
      "+-----+------------+------------+\n",
      "|    1|  john jones|  JOHN JONES|\n",
      "|    2|tracey smith|TRACEY SMITH|\n",
      "|    3| amy sanders| AMY SANDERS|\n",
      "+-----+------------+------------+\n",
      "\n"
     ]
    }
   ],
   "source": [
    "# Apply function using sql()\n",
    "df.createOrReplaceTempView('TAB')\n",
    "spark.sql('select *, upper(Name) from TAB').show()"
   ]
  },
  {
   "cell_type": "code",
   "execution_count": 8,
   "id": "514419a2",
   "metadata": {},
   "outputs": [],
   "source": [
    "# Create custom function \n",
    "\n",
    "def upperCase(str):\n",
    "    return str.upper()"
   ]
  },
  {
   "cell_type": "code",
   "execution_count": 16,
   "id": "c354f339",
   "metadata": {},
   "outputs": [],
   "source": [
    "# Convert function to udf\n",
    "\n",
    "from pyspark.sql.types import *\n",
    "upperCaseUDF = udf(lambda x: upperCase(x), StringType())"
   ]
  },
  {
   "cell_type": "code",
   "execution_count": 17,
   "id": "87c88a8e",
   "metadata": {},
   "outputs": [
    {
     "name": "stdout",
     "output_type": "stream",
     "text": [
      "+-----+------------+-------------+\n",
      "|Seqno|        Name|Cureated Name|\n",
      "+-----+------------+-------------+\n",
      "|    1|  john jones|   JOHN JONES|\n",
      "|    2|tracey smith| TRACEY SMITH|\n",
      "|    3| amy sanders|  AMY SANDERS|\n",
      "+-----+------------+-------------+\n",
      "\n"
     ]
    }
   ],
   "source": [
    "# Custom UDF with withColumn()\n",
    "df.withColumn('Cureated Name', upperCaseUDF(col(\"Name\"))).show()"
   ]
  },
  {
   "cell_type": "code",
   "execution_count": 20,
   "id": "f69e30f0",
   "metadata": {},
   "outputs": [
    {
     "name": "stdout",
     "output_type": "stream",
     "text": [
      "+-----+------------+\n",
      "|Seqno|        Name|\n",
      "+-----+------------+\n",
      "|    1|  JOHN JONES|\n",
      "|    2|TRACEY SMITH|\n",
      "|    3| AMY SANDERS|\n",
      "+-----+------------+\n",
      "\n"
     ]
    }
   ],
   "source": [
    "# Custom UDF with select()\n",
    "df.select(col('Seqno'), upperCaseUDF(col(\"Name\")).alias(\"Name\")).show()"
   ]
  },
  {
   "cell_type": "code",
   "execution_count": 21,
   "id": "46939af6",
   "metadata": {},
   "outputs": [
    {
     "name": "stdout",
     "output_type": "stream",
     "text": [
      "+-----+------------+------------------+\n",
      "|Seqno|        Name|upperCaseUDF(Name)|\n",
      "+-----+------------+------------------+\n",
      "|    1|  john jones|        JOHN JONES|\n",
      "|    2|tracey smith|      TRACEY SMITH|\n",
      "|    3| amy sanders|       AMY SANDERS|\n",
      "+-----+------------+------------------+\n",
      "\n"
     ]
    }
   ],
   "source": [
    "# Custom UDF with sql()\n",
    "spark.udf.register('upperCaseUDF', upperCaseUDF)\n",
    "df.createOrReplaceTempView('TAB')\n",
    "spark.sql('select Seqno, Name, upperCaseUDF(Name) from TAB').show()"
   ]
  },
  {
   "cell_type": "code",
   "execution_count": 22,
   "id": "6fdd83f3",
   "metadata": {},
   "outputs": [],
   "source": [
    "spark.stop()"
   ]
  },
  {
   "cell_type": "code",
   "execution_count": null,
   "id": "9063d05d",
   "metadata": {},
   "outputs": [],
   "source": []
  }
 ],
 "metadata": {
  "kernelspec": {
   "display_name": "Python 3 (ipykernel)",
   "language": "python",
   "name": "python3"
  },
  "language_info": {
   "codemirror_mode": {
    "name": "ipython",
    "version": 3
   },
   "file_extension": ".py",
   "mimetype": "text/x-python",
   "name": "python",
   "nbconvert_exporter": "python",
   "pygments_lexer": "ipython3",
   "version": "3.11.4"
  }
 },
 "nbformat": 4,
 "nbformat_minor": 5
}
