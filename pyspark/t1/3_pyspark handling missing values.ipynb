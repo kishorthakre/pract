{
 "cells": [
  {
   "cell_type": "markdown",
   "id": "609fe471",
   "metadata": {},
   "source": [
    "# Pyspark Handling Missing Values\n",
    "- Dropping Columns\n",
    "- Dropping Rows \n",
    "- Various Parameter in dropping functionalities \n",
    "- Handling Missing values by Mean, Median & Mode "
   ]
  },
  {
   "cell_type": "code",
   "execution_count": 1,
   "id": "e2f522b4",
   "metadata": {},
   "outputs": [],
   "source": [
    "import findspark\n",
    "findspark.init()"
   ]
  },
  {
   "cell_type": "code",
   "execution_count": 2,
   "id": "3a8e235a",
   "metadata": {},
   "outputs": [],
   "source": [
    "import pyspark\n",
    "from pyspark.sql import SparkSession"
   ]
  },
  {
   "cell_type": "code",
   "execution_count": 3,
   "id": "071b3954",
   "metadata": {},
   "outputs": [],
   "source": [
    "spark = SparkSession.builder.appName('Missing values').getOrCreate()"
   ]
  },
  {
   "cell_type": "code",
   "execution_count": 4,
   "id": "578ecb9c",
   "metadata": {},
   "outputs": [
    {
     "name": "stdout",
     "output_type": "stream",
     "text": [
      "+-------+----+----------+------+\n",
      "|   Name| age|Experience|Salary|\n",
      "+-------+----+----------+------+\n",
      "|shambhu|  33|        10| 20000|\n",
      "| mahesh|  34|         8| 35000|\n",
      "| natraj|  35|         5| 25000|\n",
      "| kishor|  28|         3| 30000|\n",
      "| vishal|  29|         5| 15000|\n",
      "|vaibhav|  27|         2| 18000|\n",
      "|      a|NULL|      NULL| 40000|\n",
      "|   NULL|  30|        10| 80000|\n",
      "|   NULL|  43|      NULL|  NULL|\n",
      "+-------+----+----------+------+\n",
      "\n"
     ]
    }
   ],
   "source": [
    "df_p = spark.read.csv('test2.csv', header=True, inferSchema = True)\n",
    "df_p.show()"
   ]
  },
  {
   "cell_type": "code",
   "execution_count": 5,
   "id": "e065de35",
   "metadata": {},
   "outputs": [],
   "source": [
    "# Drop the columns"
   ]
  },
  {
   "cell_type": "code",
   "execution_count": 6,
   "id": "c714fb2c",
   "metadata": {},
   "outputs": [
    {
     "name": "stdout",
     "output_type": "stream",
     "text": [
      "+-------+----+----------+\n",
      "|   Name| age|Experience|\n",
      "+-------+----+----------+\n",
      "|shambhu|  33|        10|\n",
      "| mahesh|  34|         8|\n",
      "| natraj|  35|         5|\n",
      "| kishor|  28|         3|\n",
      "| vishal|  29|         5|\n",
      "|vaibhav|  27|         2|\n",
      "|      a|NULL|      NULL|\n",
      "|   NULL|  30|        10|\n",
      "|   NULL|  43|      NULL|\n",
      "+-------+----+----------+\n",
      "\n"
     ]
    }
   ],
   "source": [
    "df_p.drop('Salary').show()"
   ]
  },
  {
   "cell_type": "code",
   "execution_count": 7,
   "id": "8c0c4d82",
   "metadata": {},
   "outputs": [
    {
     "name": "stdout",
     "output_type": "stream",
     "text": [
      "+-------+---+----------+------+\n",
      "|   Name|age|Experience|Salary|\n",
      "+-------+---+----------+------+\n",
      "|shambhu| 33|        10| 20000|\n",
      "| mahesh| 34|         8| 35000|\n",
      "| natraj| 35|         5| 25000|\n",
      "| kishor| 28|         3| 30000|\n",
      "| vishal| 29|         5| 15000|\n",
      "|vaibhav| 27|         2| 18000|\n",
      "+-------+---+----------+------+\n",
      "\n"
     ]
    }
   ],
   "source": [
    "df_p.na.drop().show()"
   ]
  },
  {
   "cell_type": "raw",
   "id": "e8ec24dd",
   "metadata": {},
   "source": [
    "## how = \n",
    "1. any \n",
    "2. all = deleted if all null values in row"
   ]
  },
  {
   "cell_type": "code",
   "execution_count": 8,
   "id": "f78f3a17",
   "metadata": {},
   "outputs": [
    {
     "name": "stdout",
     "output_type": "stream",
     "text": [
      "+-------+---+----------+------+\n",
      "|   Name|age|Experience|Salary|\n",
      "+-------+---+----------+------+\n",
      "|shambhu| 33|        10| 20000|\n",
      "| mahesh| 34|         8| 35000|\n",
      "| natraj| 35|         5| 25000|\n",
      "| kishor| 28|         3| 30000|\n",
      "| vishal| 29|         5| 15000|\n",
      "|vaibhav| 27|         2| 18000|\n",
      "+-------+---+----------+------+\n",
      "\n"
     ]
    }
   ],
   "source": [
    "df_p.na.drop(how='any').show()"
   ]
  },
  {
   "cell_type": "code",
   "execution_count": 9,
   "id": "9a7dfaa5",
   "metadata": {},
   "outputs": [
    {
     "name": "stdout",
     "output_type": "stream",
     "text": [
      "+-------+----+----------+------+\n",
      "|   Name| age|Experience|Salary|\n",
      "+-------+----+----------+------+\n",
      "|shambhu|  33|        10| 20000|\n",
      "| mahesh|  34|         8| 35000|\n",
      "| natraj|  35|         5| 25000|\n",
      "| kishor|  28|         3| 30000|\n",
      "| vishal|  29|         5| 15000|\n",
      "|vaibhav|  27|         2| 18000|\n",
      "|      a|NULL|      NULL| 40000|\n",
      "|   NULL|  30|        10| 80000|\n",
      "|   NULL|  43|      NULL|  NULL|\n",
      "+-------+----+----------+------+\n",
      "\n"
     ]
    }
   ],
   "source": [
    "df_p.na.drop(how='all').show()"
   ]
  },
  {
   "cell_type": "code",
   "execution_count": 10,
   "id": "7e2ac49f",
   "metadata": {},
   "outputs": [],
   "source": [
    "## thresholds \n",
    "# If you have 2 non null value(thresh=2) then it will keep that, otherwise it will be deleted. "
   ]
  },
  {
   "cell_type": "code",
   "execution_count": 5,
   "id": "c6509878",
   "metadata": {},
   "outputs": [
    {
     "name": "stdout",
     "output_type": "stream",
     "text": [
      "+-------+----+----------+------+\n",
      "|   Name| age|Experience|Salary|\n",
      "+-------+----+----------+------+\n",
      "|shambhu|  33|        10| 20000|\n",
      "| mahesh|  34|         8| 35000|\n",
      "| natraj|  35|         5| 25000|\n",
      "| kishor|  28|         3| 30000|\n",
      "| vishal|  29|         5| 15000|\n",
      "|vaibhav|  27|         2| 18000|\n",
      "|      a|NULL|      NULL| 40000|\n",
      "|   NULL|  30|        10| 80000|\n",
      "+-------+----+----------+------+\n",
      "\n"
     ]
    }
   ],
   "source": [
    "df_p.na.drop(how='any', thresh= 2).show()"
   ]
  },
  {
   "cell_type": "code",
   "execution_count": 6,
   "id": "51421ce4",
   "metadata": {},
   "outputs": [
    {
     "name": "stdout",
     "output_type": "stream",
     "text": [
      "+-------+---+----------+------+\n",
      "|   Name|age|Experience|Salary|\n",
      "+-------+---+----------+------+\n",
      "|shambhu| 33|        10| 20000|\n",
      "| mahesh| 34|         8| 35000|\n",
      "| natraj| 35|         5| 25000|\n",
      "| kishor| 28|         3| 30000|\n",
      "| vishal| 29|         5| 15000|\n",
      "|vaibhav| 27|         2| 18000|\n",
      "|   NULL| 30|        10| 80000|\n",
      "+-------+---+----------+------+\n",
      "\n"
     ]
    }
   ],
   "source": [
    "df_p.na.drop(how='any', thresh = 3).show()"
   ]
  },
  {
   "cell_type": "code",
   "execution_count": 16,
   "id": "35af5b19",
   "metadata": {},
   "outputs": [],
   "source": [
    "## subset \n",
    "# delete all records if any particular column has null values"
   ]
  },
  {
   "cell_type": "code",
   "execution_count": 17,
   "id": "4f52007a",
   "metadata": {},
   "outputs": [
    {
     "name": "stdout",
     "output_type": "stream",
     "text": [
      "+-------+---+----------+------+\n",
      "|   Name|age|Experience|Salary|\n",
      "+-------+---+----------+------+\n",
      "|shambhu| 33|        10| 20000|\n",
      "| mahesh| 34|         8| 35000|\n",
      "| natraj| 35|         5| 25000|\n",
      "| kishor| 28|         3| 30000|\n",
      "| vishal| 29|         5| 15000|\n",
      "|vaibhav| 27|         2| 18000|\n",
      "|   NULL| 30|        10| 80000|\n",
      "|   NULL| 43|      NULL|  NULL|\n",
      "+-------+---+----------+------+\n",
      "\n"
     ]
    }
   ],
   "source": [
    "df_p.na.drop(how='any', subset = ['age']).show()"
   ]
  },
  {
   "cell_type": "code",
   "execution_count": 18,
   "id": "4d652977",
   "metadata": {},
   "outputs": [],
   "source": [
    "# Filling the Missing values "
   ]
  },
  {
   "cell_type": "code",
   "execution_count": 19,
   "id": "88d0199c",
   "metadata": {},
   "outputs": [
    {
     "name": "stdout",
     "output_type": "stream",
     "text": [
      "+--------------+----+----------+------+\n",
      "|          Name| age|Experience|Salary|\n",
      "+--------------+----+----------+------+\n",
      "|       shambhu|  33|        10| 20000|\n",
      "|        mahesh|  34|         8| 35000|\n",
      "|        natraj|  35|         5| 25000|\n",
      "|        kishor|  28|         3| 30000|\n",
      "|        vishal|  29|         5| 15000|\n",
      "|       vaibhav|  27|         2| 18000|\n",
      "|             a|NULL|      NULL| 40000|\n",
      "|Missing Values|  30|        10| 80000|\n",
      "|Missing Values|  43|      NULL|  NULL|\n",
      "+--------------+----+----------+------+\n",
      "\n"
     ]
    }
   ],
   "source": [
    "df_p.na.fill('Missing Values').show()"
   ]
  },
  {
   "cell_type": "code",
   "execution_count": 20,
   "id": "fdda7d9d",
   "metadata": {},
   "outputs": [
    {
     "data": {
      "text/plain": [
       "DataFrame[Name: string, age: string, Experience: string, Salary: string]"
      ]
     },
     "execution_count": 20,
     "metadata": {},
     "output_type": "execute_result"
    }
   ],
   "source": [
    "df = spark.read.csv('test2.csv', header=True, inferSchema=False)\n",
    "df"
   ]
  },
  {
   "cell_type": "code",
   "execution_count": 21,
   "id": "2793f500",
   "metadata": {},
   "outputs": [
    {
     "name": "stdout",
     "output_type": "stream",
     "text": [
      "+--------------+--------------+--------------+--------------+\n",
      "|          Name|           age|    Experience|        Salary|\n",
      "+--------------+--------------+--------------+--------------+\n",
      "|       shambhu|            33|            10|         20000|\n",
      "|        mahesh|            34|             8|         35000|\n",
      "|        natraj|            35|             5|         25000|\n",
      "|        kishor|            28|             3|         30000|\n",
      "|        vishal|            29|             5|         15000|\n",
      "|       vaibhav|            27|             2|         18000|\n",
      "|             a|Missing Values|Missing Values|         40000|\n",
      "|Missing Values|            30|            10|         80000|\n",
      "|Missing Values|            43|Missing Values|Missing Values|\n",
      "+--------------+--------------+--------------+--------------+\n",
      "\n"
     ]
    }
   ],
   "source": [
    "df.na.fill('Missing Values').show()"
   ]
  },
  {
   "cell_type": "code",
   "execution_count": 22,
   "id": "bd53db2c",
   "metadata": {},
   "outputs": [
    {
     "name": "stdout",
     "output_type": "stream",
     "text": [
      "+-------+--------------+----------+------+\n",
      "|   Name|           age|Experience|Salary|\n",
      "+-------+--------------+----------+------+\n",
      "|shambhu|            33|        10| 20000|\n",
      "| mahesh|            34|         8| 35000|\n",
      "| natraj|            35|         5| 25000|\n",
      "| kishor|            28|         3| 30000|\n",
      "| vishal|            29|         5| 15000|\n",
      "|vaibhav|            27|         2| 18000|\n",
      "|      a|Missing Values|      NULL| 40000|\n",
      "|   NULL|            30|        10| 80000|\n",
      "|   NULL|            43|      NULL|  NULL|\n",
      "+-------+--------------+----------+------+\n",
      "\n"
     ]
    }
   ],
   "source": [
    "# specific column\n",
    "\n",
    "df.na.fill('Missing Values',  'age').show()"
   ]
  },
  {
   "cell_type": "code",
   "execution_count": 23,
   "id": "b44d632d",
   "metadata": {},
   "outputs": [
    {
     "name": "stdout",
     "output_type": "stream",
     "text": [
      "+-------+--------------+--------------+------+\n",
      "|   Name|           age|    Experience|Salary|\n",
      "+-------+--------------+--------------+------+\n",
      "|shambhu|            33|            10| 20000|\n",
      "| mahesh|            34|             8| 35000|\n",
      "| natraj|            35|             5| 25000|\n",
      "| kishor|            28|             3| 30000|\n",
      "| vishal|            29|             5| 15000|\n",
      "|vaibhav|            27|             2| 18000|\n",
      "|      a|Missing Values|Missing Values| 40000|\n",
      "|   NULL|            30|            10| 80000|\n",
      "|   NULL|            43|Missing Values|  NULL|\n",
      "+-------+--------------+--------------+------+\n",
      "\n"
     ]
    }
   ],
   "source": [
    "df.na.fill('Missing Values',  ['age', 'Experience']).show()"
   ]
  },
  {
   "cell_type": "code",
   "execution_count": 24,
   "id": "f9c24151",
   "metadata": {},
   "outputs": [],
   "source": [
    "# Handiing Missing values based on columns mean values"
   ]
  },
  {
   "cell_type": "code",
   "execution_count": 4,
   "id": "3f889280",
   "metadata": {},
   "outputs": [
    {
     "data": {
      "text/plain": [
       "DataFrame[Name: string, age: int, Experience: int, Salary: int]"
      ]
     },
     "execution_count": 4,
     "metadata": {},
     "output_type": "execute_result"
    }
   ],
   "source": [
    "df = spark.read.csv('test2.csv', header = True, inferSchema=True)\n",
    "df"
   ]
  },
  {
   "cell_type": "code",
   "execution_count": 5,
   "id": "3daf174c",
   "metadata": {},
   "outputs": [
    {
     "name": "stdout",
     "output_type": "stream",
     "text": [
      "+-------+----+----------+------+\n",
      "|   Name| age|Experience|Salary|\n",
      "+-------+----+----------+------+\n",
      "|shambhu|  33|        10| 20000|\n",
      "| mahesh|  34|         8| 35000|\n",
      "| natraj|  35|         5| 25000|\n",
      "| kishor|  28|         3| 30000|\n",
      "| vishal|  29|         5| 15000|\n",
      "|vaibhav|  27|         2| 18000|\n",
      "|      a|NULL|      NULL| 40000|\n",
      "|   NULL|  30|        10| 80000|\n",
      "|   NULL|  43|      NULL|  NULL|\n",
      "+-------+----+----------+------+\n",
      "\n"
     ]
    }
   ],
   "source": [
    "df.show()"
   ]
  },
  {
   "cell_type": "code",
   "execution_count": 6,
   "id": "1611d451",
   "metadata": {},
   "outputs": [],
   "source": [
    "from pyspark.ml.feature import Imputer\n",
    "imputer = Imputer(inputCols=['age','Experience','Salary'],\n",
    "                  outputCols = [\"{}_imputed\".format(c) for c in ['age','Experience','Salary']]\n",
    "                 ).setStrategy('mean')\n",
    "#median"
   ]
  },
  {
   "cell_type": "code",
   "execution_count": 7,
   "id": "39c7b729",
   "metadata": {
    "scrolled": true
   },
   "outputs": [
    {
     "name": "stdout",
     "output_type": "stream",
     "text": [
      "+-------+----+----------+------+-----------+------------------+--------------+\n",
      "|   Name| age|Experience|Salary|age_imputed|Experience_imputed|Salary_imputed|\n",
      "+-------+----+----------+------+-----------+------------------+--------------+\n",
      "|shambhu|  33|        10| 20000|         33|                10|         20000|\n",
      "| mahesh|  34|         8| 35000|         34|                 8|         35000|\n",
      "| natraj|  35|         5| 25000|         35|                 5|         25000|\n",
      "| kishor|  28|         3| 30000|         28|                 3|         30000|\n",
      "| vishal|  29|         5| 15000|         29|                 5|         15000|\n",
      "|vaibhav|  27|         2| 18000|         27|                 2|         18000|\n",
      "|      a|NULL|      NULL| 40000|         32|                 6|         40000|\n",
      "|   NULL|  30|        10| 80000|         30|                10|         80000|\n",
      "|   NULL|  43|      NULL|  NULL|         43|                 6|         32875|\n",
      "+-------+----+----------+------+-----------+------------------+--------------+\n",
      "\n"
     ]
    }
   ],
   "source": [
    "imputer.fit(df).transform(df).show()"
   ]
  },
  {
   "cell_type": "code",
   "execution_count": 7,
   "id": "6219db91",
   "metadata": {},
   "outputs": [],
   "source": [
    "spark.stop()"
   ]
  },
  {
   "cell_type": "code",
   "execution_count": null,
   "id": "3123aa93",
   "metadata": {},
   "outputs": [],
   "source": []
  }
 ],
 "metadata": {
  "kernelspec": {
   "display_name": "Python 3 (ipykernel)",
   "language": "python",
   "name": "python3"
  },
  "language_info": {
   "codemirror_mode": {
    "name": "ipython",
    "version": 3
   },
   "file_extension": ".py",
   "mimetype": "text/x-python",
   "name": "python",
   "nbconvert_exporter": "python",
   "pygments_lexer": "ipython3",
   "version": "3.11.4"
  }
 },
 "nbformat": 4,
 "nbformat_minor": 5
}
