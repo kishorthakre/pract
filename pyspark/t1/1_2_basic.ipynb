{
 "cells": [
  {
   "cell_type": "code",
   "execution_count": 1,
   "id": "985d329f",
   "metadata": {},
   "outputs": [],
   "source": [
    "import findspark\n",
    "findspark.init()"
   ]
  },
  {
   "cell_type": "code",
   "execution_count": 2,
   "id": "3ad50134",
   "metadata": {},
   "outputs": [],
   "source": [
    "import pyspark\n",
    "import pandas as pd"
   ]
  },
  {
   "cell_type": "code",
   "execution_count": 3,
   "id": "df7bfeaa",
   "metadata": {
    "scrolled": true
   },
   "outputs": [
    {
     "data": {
      "text/html": [
       "<div>\n",
       "<style scoped>\n",
       "    .dataframe tbody tr th:only-of-type {\n",
       "        vertical-align: middle;\n",
       "    }\n",
       "\n",
       "    .dataframe tbody tr th {\n",
       "        vertical-align: top;\n",
       "    }\n",
       "\n",
       "    .dataframe thead th {\n",
       "        text-align: right;\n",
       "    }\n",
       "</style>\n",
       "<table border=\"1\" class=\"dataframe\">\n",
       "  <thead>\n",
       "    <tr style=\"text-align: right;\">\n",
       "      <th></th>\n",
       "      <th>Name</th>\n",
       "      <th>age</th>\n",
       "      <th>Experience</th>\n",
       "    </tr>\n",
       "  </thead>\n",
       "  <tbody>\n",
       "    <tr>\n",
       "      <th>0</th>\n",
       "      <td>shambhu</td>\n",
       "      <td>33</td>\n",
       "      <td>10</td>\n",
       "    </tr>\n",
       "    <tr>\n",
       "      <th>1</th>\n",
       "      <td>mahesh</td>\n",
       "      <td>34</td>\n",
       "      <td>8</td>\n",
       "    </tr>\n",
       "    <tr>\n",
       "      <th>2</th>\n",
       "      <td>natraj</td>\n",
       "      <td>35</td>\n",
       "      <td>5</td>\n",
       "    </tr>\n",
       "    <tr>\n",
       "      <th>3</th>\n",
       "      <td>kishor</td>\n",
       "      <td>28</td>\n",
       "      <td>3</td>\n",
       "    </tr>\n",
       "    <tr>\n",
       "      <th>4</th>\n",
       "      <td>vishal</td>\n",
       "      <td>29</td>\n",
       "      <td>5</td>\n",
       "    </tr>\n",
       "  </tbody>\n",
       "</table>\n",
       "</div>"
      ],
      "text/plain": [
       "      Name  age  Experience\n",
       "0  shambhu   33          10\n",
       "1   mahesh   34           8\n",
       "2   natraj   35           5\n",
       "3   kishor   28           3\n",
       "4   vishal   29           5"
      ]
     },
     "execution_count": 3,
     "metadata": {},
     "output_type": "execute_result"
    }
   ],
   "source": [
    "df = pd.read_csv('test1.csv')\n",
    "df.head()"
   ]
  },
  {
   "cell_type": "code",
   "execution_count": 4,
   "id": "b03a92b6",
   "metadata": {},
   "outputs": [
    {
     "data": {
      "text/plain": [
       "dtype('int64')"
      ]
     },
     "execution_count": 4,
     "metadata": {},
     "output_type": "execute_result"
    }
   ],
   "source": [
    "df.Experience.dtype"
   ]
  },
  {
   "cell_type": "code",
   "execution_count": 12,
   "id": "be161260",
   "metadata": {},
   "outputs": [
    {
     "data": {
      "text/plain": [
       "0     33\n",
       "1     34\n",
       "2     35\n",
       "3     28\n",
       "4     29\n",
       "5     27\n",
       "6      2\n",
       "7      3\n",
       "8      4\n",
       "9      5\n",
       "10     6\n",
       "11     7\n",
       "12     8\n",
       "13     9\n",
       "Name: age, dtype: int32"
      ]
     },
     "execution_count": 12,
     "metadata": {},
     "output_type": "execute_result"
    }
   ],
   "source": [
    "df.age.astype('int32')"
   ]
  },
  {
   "cell_type": "code",
   "execution_count": 13,
   "id": "51541158",
   "metadata": {},
   "outputs": [
    {
     "data": {
      "text/plain": [
       "0     10\n",
       "1      8\n",
       "2      5\n",
       "3      3\n",
       "4      5\n",
       "5      6\n",
       "6      9\n",
       "7      8\n",
       "8      7\n",
       "9      6\n",
       "10     5\n",
       "11     4\n",
       "12     3\n",
       "13     2\n",
       "Name: Experience, dtype: object"
      ]
     },
     "execution_count": 13,
     "metadata": {},
     "output_type": "execute_result"
    }
   ],
   "source": [
    "df.Experience.map(lambda x: str(int(x))) "
   ]
  },
  {
   "cell_type": "code",
   "execution_count": 104,
   "id": "170137cf",
   "metadata": {},
   "outputs": [
    {
     "data": {
      "text/plain": [
       "dtype('int64')"
      ]
     },
     "execution_count": 104,
     "metadata": {},
     "output_type": "execute_result"
    }
   ],
   "source": [
    "df.Experience.dtype"
   ]
  },
  {
   "cell_type": "code",
   "execution_count": 105,
   "id": "9f3f702e",
   "metadata": {},
   "outputs": [
    {
     "data": {
      "text/plain": [
       "pandas.core.frame.DataFrame"
      ]
     },
     "execution_count": 105,
     "metadata": {},
     "output_type": "execute_result"
    }
   ],
   "source": [
    "type(df)"
   ]
  },
  {
   "cell_type": "code",
   "execution_count": 8,
   "id": "eb7f4a99",
   "metadata": {},
   "outputs": [],
   "source": [
    "from pyspark.sql import SparkSession"
   ]
  },
  {
   "cell_type": "code",
   "execution_count": 9,
   "id": "7423379c",
   "metadata": {},
   "outputs": [
    {
     "data": {
      "text/html": [
       "\n",
       "            <div>\n",
       "                <p><b>SparkSession - in-memory</b></p>\n",
       "                \n",
       "        <div>\n",
       "            <p><b>SparkContext</b></p>\n",
       "\n",
       "            <p><a href=\"http://LAPTOP-3V2ROQ70:4040\">Spark UI</a></p>\n",
       "\n",
       "            <dl>\n",
       "              <dt>Version</dt>\n",
       "                <dd><code>v3.5.1</code></dd>\n",
       "              <dt>Master</dt>\n",
       "                <dd><code>local[*]</code></dd>\n",
       "              <dt>AppName</dt>\n",
       "                <dd><code>Pract</code></dd>\n",
       "            </dl>\n",
       "        </div>\n",
       "        \n",
       "            </div>\n",
       "        "
      ],
      "text/plain": [
       "<pyspark.sql.session.SparkSession at 0x243a26c7990>"
      ]
     },
     "execution_count": 9,
     "metadata": {},
     "output_type": "execute_result"
    }
   ],
   "source": [
    "spark = SparkSession.builder.appName('Pract').getOrCreate()\n",
    "spark"
   ]
  },
  {
   "cell_type": "code",
   "execution_count": null,
   "id": "eb6e03b5",
   "metadata": {},
   "outputs": [],
   "source": []
  },
  {
   "cell_type": "code",
   "execution_count": 108,
   "id": "b800ec4e",
   "metadata": {
    "scrolled": true
   },
   "outputs": [
    {
     "name": "stdout",
     "output_type": "stream",
     "text": [
      "+-------+---+----------+\n",
      "|   Name|age|Experience|\n",
      "+-------+---+----------+\n",
      "|shambhu| 33|        10|\n",
      "| mahesh| 34|         8|\n",
      "| natraj| 35|         5|\n",
      "| kishor| 28|         3|\n",
      "| vishal| 29|         5|\n",
      "|vaibhav| 27|         6|\n",
      "|      a|  2|         9|\n",
      "|      b|  3|         8|\n",
      "|      v|  4|         7|\n",
      "|      d|  5|         6|\n",
      "|      e|  6|         5|\n",
      "|      f|  7|         4|\n",
      "|      g|  8|         3|\n",
      "|      h|  9|         2|\n",
      "+-------+---+----------+\n",
      "\n"
     ]
    }
   ],
   "source": [
    "a = spark.read.option('header', 'true').csv('test1.csv')\n",
    "a.show()"
   ]
  },
  {
   "cell_type": "code",
   "execution_count": 109,
   "id": "fd3b694f",
   "metadata": {},
   "outputs": [
    {
     "name": "stdout",
     "output_type": "stream",
     "text": [
      "+-------+---+----------+\n",
      "|    _c0|_c1|       _c2|\n",
      "+-------+---+----------+\n",
      "|   Name|age|Experience|\n",
      "|shambhu| 33|        10|\n",
      "| mahesh| 34|         8|\n",
      "| natraj| 35|         5|\n",
      "| kishor| 28|         3|\n",
      "| vishal| 29|         5|\n",
      "|vaibhav| 27|         6|\n",
      "|      a|  2|         9|\n",
      "|      b|  3|         8|\n",
      "|      v|  4|         7|\n",
      "|      d|  5|         6|\n",
      "|      e|  6|         5|\n",
      "|      f|  7|         4|\n",
      "|      g|  8|         3|\n",
      "|      h|  9|         2|\n",
      "+-------+---+----------+\n",
      "\n"
     ]
    }
   ],
   "source": [
    "df_sp = spark.read.csv('test1.csv')\n",
    "df_sp.show()"
   ]
  },
  {
   "cell_type": "code",
   "execution_count": 110,
   "id": "6636fce4",
   "metadata": {},
   "outputs": [
    {
     "data": {
      "text/plain": [
       "DataFrame[_c0: string, _c1: string, _c2: string]"
      ]
     },
     "execution_count": 110,
     "metadata": {},
     "output_type": "execute_result"
    }
   ],
   "source": [
    "df_sp"
   ]
  },
  {
   "cell_type": "code",
   "execution_count": 111,
   "id": "aad3e8ea",
   "metadata": {},
   "outputs": [
    {
     "data": {
      "text/plain": [
       "pyspark.sql.dataframe.DataFrame"
      ]
     },
     "execution_count": 111,
     "metadata": {},
     "output_type": "execute_result"
    }
   ],
   "source": [
    "type(df_sp)"
   ]
  },
  {
   "cell_type": "code",
   "execution_count": 11,
   "id": "a87d11f3",
   "metadata": {},
   "outputs": [
    {
     "name": "stdout",
     "output_type": "stream",
     "text": [
      "root\n",
      " |-- Name: string (nullable = true)\n",
      " |-- age: integer (nullable = true)\n",
      " |-- Experience: string (nullable = true)\n",
      "\n"
     ]
    }
   ],
   "source": [
    "df_sp.printSchema()"
   ]
  },
  {
   "cell_type": "code",
   "execution_count": 14,
   "id": "237628b4",
   "metadata": {},
   "outputs": [
    {
     "name": "stdout",
     "output_type": "stream",
     "text": [
      "root\n",
      " |-- Name: string (nullable = true)\n",
      " |-- age: integer (nullable = true)\n",
      " |-- Experience: integer (nullable = true)\n",
      "\n"
     ]
    }
   ],
   "source": [
    "df_sp = spark.read.option('header','true').csv('test1.csv', inferSchema=True)\n",
    "df_sp.printSchema()"
   ]
  },
  {
   "cell_type": "code",
   "execution_count": 114,
   "id": "9c9d838a",
   "metadata": {},
   "outputs": [
    {
     "data": {
      "text/plain": [
       "['Name', 'age', 'Experience']"
      ]
     },
     "execution_count": 114,
     "metadata": {},
     "output_type": "execute_result"
    }
   ],
   "source": [
    "df_sp.columns"
   ]
  },
  {
   "cell_type": "code",
   "execution_count": 115,
   "id": "28663035",
   "metadata": {},
   "outputs": [
    {
     "data": {
      "text/plain": [
       "DataFrame[Name: string]"
      ]
     },
     "execution_count": 115,
     "metadata": {},
     "output_type": "execute_result"
    }
   ],
   "source": [
    "df_sp.select('Name')"
   ]
  },
  {
   "cell_type": "code",
   "execution_count": 116,
   "id": "600ace32",
   "metadata": {
    "scrolled": true
   },
   "outputs": [
    {
     "name": "stdout",
     "output_type": "stream",
     "text": [
      "+-------+\n",
      "|   Name|\n",
      "+-------+\n",
      "|shambhu|\n",
      "| mahesh|\n",
      "| natraj|\n",
      "| kishor|\n",
      "| vishal|\n",
      "|vaibhav|\n",
      "|      a|\n",
      "|      b|\n",
      "|      v|\n",
      "|      d|\n",
      "|      e|\n",
      "|      f|\n",
      "|      g|\n",
      "|      h|\n",
      "+-------+\n",
      "\n"
     ]
    }
   ],
   "source": [
    "df_sp.select('Name').show()"
   ]
  },
  {
   "cell_type": "code",
   "execution_count": 117,
   "id": "028a665a",
   "metadata": {},
   "outputs": [
    {
     "data": {
      "text/plain": [
       "[('Name', 'string'), ('age', 'int'), ('Experience', 'int')]"
      ]
     },
     "execution_count": 117,
     "metadata": {},
     "output_type": "execute_result"
    }
   ],
   "source": [
    "df_sp.dtypes"
   ]
  },
  {
   "cell_type": "code",
   "execution_count": 118,
   "id": "3939d6d1",
   "metadata": {},
   "outputs": [
    {
     "name": "stdout",
     "output_type": "stream",
     "text": [
      "+-------+------+------------------+------------------+\n",
      "|summary|  Name|               age|        Experience|\n",
      "+-------+------+------------------+------------------+\n",
      "|  count|    14|                14|                14|\n",
      "|   mean|  NULL|16.428571428571427| 5.785714285714286|\n",
      "| stddev|  NULL| 13.38606787622165|2.3916062008157244|\n",
      "|    min|     a|                 2|                 2|\n",
      "|    max|vishal|                35|                10|\n",
      "+-------+------+------------------+------------------+\n",
      "\n"
     ]
    }
   ],
   "source": [
    "df_sp.describe().show()"
   ]
  },
  {
   "cell_type": "code",
   "execution_count": 96,
   "id": "324eecc2",
   "metadata": {},
   "outputs": [],
   "source": [
    "# adding the column"
   ]
  },
  {
   "cell_type": "code",
   "execution_count": 119,
   "id": "efaa688f",
   "metadata": {},
   "outputs": [
    {
     "name": "stdout",
     "output_type": "stream",
     "text": [
      "+-------+---+----------+------------------------+\n",
      "|   Name|age|Experience|Experience after 2 years|\n",
      "+-------+---+----------+------------------------+\n",
      "|shambhu| 33|        10|                      12|\n",
      "| mahesh| 34|         8|                      10|\n",
      "| natraj| 35|         5|                       7|\n",
      "| kishor| 28|         3|                       5|\n",
      "| vishal| 29|         5|                       7|\n",
      "|vaibhav| 27|         6|                       8|\n",
      "|      a|  2|         9|                      11|\n",
      "|      b|  3|         8|                      10|\n",
      "|      v|  4|         7|                       9|\n",
      "|      d|  5|         6|                       8|\n",
      "|      e|  6|         5|                       7|\n",
      "|      f|  7|         4|                       6|\n",
      "|      g|  8|         3|                       5|\n",
      "|      h|  9|         2|                       4|\n",
      "+-------+---+----------+------------------------+\n",
      "\n"
     ]
    }
   ],
   "source": [
    "df_sp = df_sp.withColumn('Experience after 2 years', df_sp['Experience']+2)\n",
    "df_sp.show()"
   ]
  },
  {
   "cell_type": "code",
   "execution_count": 120,
   "id": "0a43f1ef",
   "metadata": {},
   "outputs": [
    {
     "name": "stdout",
     "output_type": "stream",
     "text": [
      "+-------+---+----------+\n",
      "|   Name|age|Experience|\n",
      "+-------+---+----------+\n",
      "|shambhu| 33|        10|\n",
      "| mahesh| 34|         8|\n",
      "| natraj| 35|         5|\n",
      "| kishor| 28|         3|\n",
      "| vishal| 29|         5|\n",
      "|vaibhav| 27|         6|\n",
      "|      a|  2|         9|\n",
      "|      b|  3|         8|\n",
      "|      v|  4|         7|\n",
      "|      d|  5|         6|\n",
      "|      e|  6|         5|\n",
      "|      f|  7|         4|\n",
      "|      g|  8|         3|\n",
      "|      h|  9|         2|\n",
      "+-------+---+----------+\n",
      "\n"
     ]
    }
   ],
   "source": [
    "df_sp = df_sp.drop('Experience after 2 years')\n",
    "df_sp.show()"
   ]
  },
  {
   "cell_type": "code",
   "execution_count": 121,
   "id": "43041329",
   "metadata": {},
   "outputs": [],
   "source": [
    "# Rename the columns"
   ]
  },
  {
   "cell_type": "code",
   "execution_count": 15,
   "id": "4759318c",
   "metadata": {},
   "outputs": [],
   "source": [
    "spark.stop()"
   ]
  },
  {
   "cell_type": "code",
   "execution_count": null,
   "id": "c2898acb",
   "metadata": {},
   "outputs": [],
   "source": []
  }
 ],
 "metadata": {
  "kernelspec": {
   "display_name": "Python 3 (ipykernel)",
   "language": "python",
   "name": "python3"
  },
  "language_info": {
   "codemirror_mode": {
    "name": "ipython",
    "version": 3
   },
   "file_extension": ".py",
   "mimetype": "text/x-python",
   "name": "python",
   "nbconvert_exporter": "python",
   "pygments_lexer": "ipython3",
   "version": "3.11.4"
  }
 },
 "nbformat": 4,
 "nbformat_minor": 5
}
