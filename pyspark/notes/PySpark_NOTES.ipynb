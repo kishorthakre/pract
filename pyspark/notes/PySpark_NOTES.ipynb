{
 "cells": [
  {
   "cell_type": "markdown",
   "id": "8c7cf10a",
   "metadata": {},
   "source": [
    "## What is PySpark?\n",
    "\n",
    "PySpark is the Python API for Apache Spark – an open-source big data processing framework. It allows users to write Spark applications using Python – providing a simple way to perform big data processing, machine learning, and graph processing.\n"
   ]
  },
  {
   "cell_type": "markdown",
   "id": "12d2b827",
   "metadata": {},
   "source": [
    "## What are the key features of PySpark?\n",
    "\n",
    "PySpark offers several key features, \n",
    "1. including in-memory computation, \n",
    "2. fault tolerance, \n",
    "3. scalability ( its ability to handle increasingly large volumes of data and computational workloads by seamlessly adding more nodes to a cluster), \n",
    "4. and support for a wide range of data formats. It also provides APIs for working with structured and unstructured data, making it suitable for various big data processing tasks.\n",
    "\n",
    "The secret to Spark's awesome performance is parallelism"
   ]
  },
  {
   "cell_type": "markdown",
   "id": "73aab31f",
   "metadata": {},
   "source": [
    "## Explain what PySpark DataFrame is.\n",
    "\n",
    "A PySpark DataFrame is a distributed collection of data organized into named columns, similar to a table in a relational database. DataFrames provide a higher-level abstraction than RDDs (Basic abstraction in Spark is RDD) and support various operations like filtering, grouping, and aggregations.\n",
    "\n",
    "A DataFrame is the most common Structured API and simply represents a table of data with rows and columns. The list of columns and the types in those columns is called the schema."
   ]
  },
  {
   "cell_type": "markdown",
   "id": "a39dcbad",
   "metadata": {},
   "source": [
    "The reason for putting the data on more than one computer is intuitive:\n",
    "\n",
    "Either the data is too large to fit on one machine or it would simply take too long to perform that computation on one machine."
   ]
  },
  {
   "cell_type": "markdown",
   "id": "82851056",
   "metadata": {},
   "source": [
    "## What is PySpark SQL?\n",
    "\n",
    "PySpark SQL is a module in PySpark that allows users to run SQL queries on DataFrames and RDDs. It supports querying structured data in a distributed environment, making it easy to perform complex data analysis using SQL syntax."
   ]
  },
  {
   "cell_type": "markdown",
   "id": "233635fa",
   "metadata": {},
   "source": [
    "# How do you handle large-scale data processing in PySpark?\n",
    "This is one of the most common PySpark interview questions for 3 years experienced candidates. \n",
    "\n",
    "“When handling large-scale data in PySpark, I use its in-memory processing capabilities to speed up computations. I use DataFrames for efficient data manipulation and ensure proper data partitioning to optimize processing. I also apply transformations and actions carefully to minimize shuffling and reduce overall processing time."
   ]
  },
  {
   "cell_type": "markdown",
   "id": "bcc32706",
   "metadata": {},
   "source": [
    "# How do you manage and monitor resource allocation in a PySpark application?\n",
    "\n",
    "Managing and monitoring resource allocation involves setting appropriate configurations for memory and CPU usage based on the workload. \n",
    "\n",
    "Using Spark’s built-in tools, such as the Spark UI, helps track resource usage and identify bottlenecks. \n",
    "\n",
    "Adjusting configurations like executor memory, core count, and parallelism settings based on the monitoring data ensures efficient resource utilization."
   ]
  },
  {
   "cell_type": "markdown",
   "id": "9e10c895",
   "metadata": {},
   "source": [
    "."
   ]
  },
  {
   "cell_type": "markdown",
   "id": "638a1ef9",
   "metadata": {},
   "source": [
    "# How do you optimize PySpark jobs for better performance?\n",
    "This is one of the most important PySpark interview questions for 5 years experienced candidates....\n",
    "\n",
    "1) To optimize PySpark jobs, I cache DataFrames to avoid recomputation and use built-in functions instead of UDFs for efficiency.\n",
    "\n",
    "2. I adjust the number of partitions to ensure even data distribution and manage resources by tuning Spark configurations. \n",
    "\n",
    "3) Additionally, I monitor job performance through the Spark UI to identify and address bottlenecks."
   ]
  },
  {
   "cell_type": "markdown",
   "id": "0a940a53",
   "metadata": {},
   "source": [
    "## What is a JVM?\n",
    "\n",
    "The JVM manages system memory and provides a portable execution environment for Java-based applications\n",
    "\n",
    "Technical definition: The JVM is the specification for a software program that executes code and provides the runtime environment for that code.\n",
    "\n",
    "Everyday definition: The JVM is how we run our Java programs. We configure the JVM's settings and then rely on it to manage program resources during execution."
   ]
  },
  {
   "cell_type": "markdown",
   "id": "5d076c72",
   "metadata": {},
   "source": []
  },
  {
   "cell_type": "markdown",
   "id": "1322db6a",
   "metadata": {},
   "source": [
    "## Driver \n",
    "\n",
    "The driver orchestrates and monitors execution of a Spark application. There’s always one driver per Spark application. You can think of the driver as a wrapper around the application.\n",
    "\n",
    "The driver process runs our main() function, sits on a node in the cluster, and is responsible for:\n",
    "\n",
    "1. Maintaining information about the Spark Application\n",
    "2. Responding to a user’s program or input\n",
    "3. Requesting memory and CPU resources from cluster managers\n",
    "4. Breaking application logic into stages and tasks\n",
    "5. Sending tasks to executors\n",
    "6. Collecting the results from the executors"
   ]
  },
  {
   "cell_type": "markdown",
   "id": "b2e2c2dd",
   "metadata": {},
   "source": [
    "## Executors\n",
    "The executors are responsible for actually executing the work that the driver assigns them. This means, each executor is responsible for only two things:\n",
    "\n",
    "1) Executing code assigned to it by the driver\n",
    "2) Reporting the state of the computation, on that executor, back to the driver node"
   ]
  },
  {
   "cell_type": "markdown",
   "id": "879de45e",
   "metadata": {},
   "source": [
    "## Cluster Manager\n",
    "\n",
    "Spark employs a Cluster Manager that is responsible for provisioning nodes in our cluster"
   ]
  },
  {
   "cell_type": "code",
   "execution_count": null,
   "id": "e4549947",
   "metadata": {},
   "outputs": [],
   "source": []
  },
  {
   "cell_type": "markdown",
   "id": "62000f5e",
   "metadata": {},
   "source": [
    "#  ~~~~~~~~~~~~ RDD (Resilient distributed dataset)  ~~~~~~~~~~~~~~~~"
   ]
  },
  {
   "cell_type": "markdown",
   "id": "5cf6b073",
   "metadata": {},
   "source": [
    "### RDDs offer two types of operations:\n",
    "1. Transformations take an RDD as an input and produce one or multiple RDDs as output.\n",
    "2. Actions take an RDD as an input and produce a performed operation as an output."
   ]
  },
  {
   "cell_type": "markdown",
   "id": "714d60b4",
   "metadata": {},
   "source": []
  },
  {
   "cell_type": "markdown",
   "id": "96496d45",
   "metadata": {},
   "source": [
    "# ----------------------------  Data  Partition  -------------------------------------"
   ]
  },
  {
   "cell_type": "markdown",
   "id": "3810bf5e",
   "metadata": {},
   "source": [
    "."
   ]
  },
  {
   "cell_type": "markdown",
   "id": "bd8d5911",
   "metadata": {},
   "source": [
    "In order to allow every executor to perform work in parallel, Spark breaks up the data into chunks, called partitions."
   ]
  },
  {
   "cell_type": "markdown",
   "id": "08da7b59",
   "metadata": {},
   "source": [
    "A partition is a collection of rows that sit on one physical machine in our cluster. A DataFrame’s partitions represent how the data is physically distributed across your cluster of machines during execution:"
   ]
  },
  {
   "cell_type": "markdown",
   "id": "340b1e67",
   "metadata": {},
   "source": [
    "An important thing to note is that with DataFrames, we do not (for the most part) manipulate partitions manually (on an individual basis). We simply specify high level transformations of data in the physical partitions and Spark determines how this work will actually execute on the cluster."
   ]
  },
  {
   "cell_type": "markdown",
   "id": "07ab462a",
   "metadata": {},
   "source": [
    "## Explain the importance of partitioning in PySpark and how it affects performance.\n",
    "\n",
    "Partitioning in PySpark is critical for distributing data across the cluster and ensuring parallel processing. Proper partitioning helps in reducing data shuffling and improves job performance. It’s important to partition data based on key columns to ensure even distribution and minimize bottlenecks during data processing."
   ]
  },
  {
   "cell_type": "code",
   "execution_count": null,
   "id": "2e49d777",
   "metadata": {},
   "outputs": [],
   "source": []
  },
  {
   "cell_type": "markdown",
   "id": "1a02e7ad",
   "metadata": {},
   "source": [
    "## How do you optimize PySpark jobs with skewed data?\n",
    "\n",
    "“To optimize PySpark jobs with skewed data, I use techniques such as salting, where \n",
    "1) I add a random prefix to keys to distribute data more evenly. \n",
    "2) I also repartition the data to ensure balanced partitions \n",
    "3) and use broadcast joins to handle skewed joins efficiently.”"
   ]
  },
  {
   "cell_type": "code",
   "execution_count": null,
   "id": "683f6417",
   "metadata": {},
   "outputs": [],
   "source": []
  },
  {
   "cell_type": "code",
   "execution_count": null,
   "id": "4f9a7035",
   "metadata": {},
   "outputs": [],
   "source": []
  },
  {
   "cell_type": "markdown",
   "id": "c016b3bf",
   "metadata": {},
   "source": [
    "# ~~~~~~~~~~ Miscellanies  ~~~~~~~~~~~~"
   ]
  },
  {
   "cell_type": "markdown",
   "id": "95046192",
   "metadata": {},
   "source": [
    "## What are some best practices for managing dependencies in a PySpark environment?\n",
    "\n",
    "Managing dependencies in PySpark involves using a virtual environment or Conda to isolate dependencies, guaranteeing that all nodes in the cluster have consistent library versions. It’s also important to package dependencies with your PySpark job using tools like –py-files or managing them through the cluster’s resource manager (like YARN)."
   ]
  },
  {
   "cell_type": "code",
   "execution_count": null,
   "id": "9a1aaa37",
   "metadata": {},
   "outputs": [],
   "source": []
  },
  {
   "cell_type": "markdown",
   "id": "c35448a3",
   "metadata": {},
   "source": [
    "## You are processing a large dataset in PySpark, but you notice that certain stages are taking significantly longer. How would you troubleshoot and resolve this issue?\n",
    "\n",
    "“If I am processing a large dataset in PySpark and notice that certain stages are taking significantly longer, I would start by checking the Spark UI for details on the slow stages. I would look for signs of excessive shuffling, data skew, or improper partitioning. \n",
    "\n",
    "To address these issues, I would adjust the partition size, optimize data distribution, and use operations that minimize shuffling. Additionally, I might cache intermediate results to help speed up the process.”"
   ]
  },
  {
   "cell_type": "code",
   "execution_count": null,
   "id": "9135e18b",
   "metadata": {},
   "outputs": [],
   "source": []
  },
  {
   "cell_type": "markdown",
   "id": "e479ba4b",
   "metadata": {},
   "source": [
    "## How do you handle iterative algorithms in PySpark, such as those used in machine learning?\n",
    "\n",
    "“Iterative algorithms in PySpark, like those in machine learning, can be optimized by using the DataFrame API and caching intermediate results. I also use MLlib’s built-in algorithms, which are optimized for distributed computing, and monitor performance to fine-tune iterations.”"
   ]
  },
  {
   "cell_type": "code",
   "execution_count": null,
   "id": "ff06d6bf",
   "metadata": {},
   "outputs": [],
   "source": []
  }
 ],
 "metadata": {
  "kernelspec": {
   "display_name": "Python 3 (ipykernel)",
   "language": "python",
   "name": "python3"
  },
  "language_info": {
   "codemirror_mode": {
    "name": "ipython",
    "version": 3
   },
   "file_extension": ".py",
   "mimetype": "text/x-python",
   "name": "python",
   "nbconvert_exporter": "python",
   "pygments_lexer": "ipython3",
   "version": "3.11.4"
  }
 },
 "nbformat": 4,
 "nbformat_minor": 5
}
