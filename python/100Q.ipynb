{
 "cells": [
  {
   "cell_type": "markdown",
   "id": "33a26704",
   "metadata": {},
   "source": [
    "Question: Write a program which will find all such numbers which are divisible by 7 but are not a multiple of 5, between 2000 and 3200 (both included). The numbers obtained should be printed in a comma-separated sequence on a single line."
   ]
  },
  {
   "cell_type": "code",
   "execution_count": 1,
   "id": "d6d31e0b",
   "metadata": {},
   "outputs": [
    {
     "name": "stdout",
     "output_type": "stream",
     "text": [
      "2002,2009,2016,2023,2037,2044,2051,2058,2072,2079,2086,2093,2107,2114,2121,2128,2142,2149,2156,2163,2177,2184,2191,2198,2212,2219,2226,2233,2247,2254,2261,2268,2282,2289,2296,2303,2317,2324,2331,2338,2352,2359,2366,2373,2387,2394,2401,2408,2422,2429,2436,2443,2457,2464,2471,2478,2492,2499,2506,2513,2527,2534,2541,2548,2562,2569,2576,2583,2597,2604,2611,2618,2632,2639,2646,2653,2667,2674,2681,2688,2702,2709,2716,2723,2737,2744,2751,2758,2772,2779,2786,2793,2807,2814,2821,2828,2842,2849,2856,2863,2877,2884,2891,2898,2912,2919,2926,2933,2947,2954,2961,2968,2982,2989,2996,3003,3017,3024,3031,3038,3052,3059,3066,3073,3087,3094,3101,3108,3122,3129,3136,3143,3157,3164,3171,3178,3192,3199\n"
     ]
    }
   ],
   "source": [
    "l=[]\n",
    "for i in range(2000, 3201):\n",
    "    if (i % 7) == 0 and (i % 5 != 0):\n",
    "        l.append(str(i))\n",
    "print(','.join(l))"
   ]
  },
  {
   "cell_type": "markdown",
   "id": "44c59a67",
   "metadata": {},
   "source": [
    "Question: Write a program which can compute the factorial of a given numbers. The results should be printed in a comma-separated sequence on a single line. Suppose the following input is supplied to the program: 8 Then, the output should be: 40320"
   ]
  },
  {
   "cell_type": "code",
   "execution_count": 2,
   "id": "aab9ee0b",
   "metadata": {},
   "outputs": [
    {
     "data": {
      "text/plain": [
       "'1,2,6,24'"
      ]
     },
     "execution_count": 2,
     "metadata": {},
     "output_type": "execute_result"
    }
   ],
   "source": [
    "n = 4 \n",
    "l1 = [] \n",
    "f = 1\n",
    "for i in range(1, n+1):\n",
    "    f = f*i \n",
    "    l1.append(str(f)) \n",
    "\n",
    "(','.join(l1))"
   ]
  },
  {
   "cell_type": "code",
   "execution_count": 3,
   "id": "eef2dfae",
   "metadata": {},
   "outputs": [
    {
     "name": "stdout",
     "output_type": "stream",
     "text": [
      "24\n"
     ]
    }
   ],
   "source": [
    "def fact(x):\n",
    "    if x == 0:\n",
    "        return 1\n",
    "    return x * fact(x - 1)\n",
    "\n",
    "#x=int(input())\n",
    "x=4\n",
    "print(fact(x))"
   ]
  },
  {
   "cell_type": "markdown",
   "id": "bbc1772c",
   "metadata": {},
   "source": [
    "With a given integral number n, write a program to generate a dictionary that contains (i, i*i) such that is an integral number between 1 and n (both included). and then the program should print the dictionary. Suppose the following input is supplied to the program: 8 Then, the output should be: {1: 1, 2: 4, 3: 9, 4: 16, 5: 25, 6: 36, 7: 49, 8: 64}With a given integral number n, write a program to generate a dictionary that contains (i, i*i) such that is an integral number between 1 and n (both included). and then the program should print the dictionary. Suppose the following input is supplied to the program: 8 Then, the output should be: {1: 1, 2: 4, 3: 9, 4: 16, 5: 25, 6: 36, 7: 49, 8: 64}"
   ]
  },
  {
   "cell_type": "code",
   "execution_count": 4,
   "id": "5e23cdc3",
   "metadata": {},
   "outputs": [
    {
     "data": {
      "text/plain": [
       "{1: 1, 2: 4, 3: 9, 4: 16, 5: 25, 6: 36, 7: 49, 8: 64}"
      ]
     },
     "execution_count": 4,
     "metadata": {},
     "output_type": "execute_result"
    }
   ],
   "source": [
    "d = {}\n",
    "for i in range(1, 9):\n",
    "    d[i]= i*i\n",
    "d"
   ]
  },
  {
   "cell_type": "markdown",
   "id": "ab2ea62b",
   "metadata": {},
   "source": [
    "Write a program which accepts a sequence of comma-separated numbers from console and generate a list and a tuple which contains every number. Suppose the following input is supplied to the program: 34,67,55,33,12,98 Then, the output should be: ['34', '67', '55', '33', '12', '98'] ('34', '67', '55', '33', '12', '98')"
   ]
  },
  {
   "cell_type": "code",
   "execution_count": 5,
   "id": "b421de6b",
   "metadata": {},
   "outputs": [
    {
     "name": "stdout",
     "output_type": "stream",
     "text": [
      "['1', '2', '3', '4', '5']\n",
      "('1', '2', '3', '4', '5')\n"
     ]
    }
   ],
   "source": [
    "#i = input()\n",
    "i = \"1,2,3,4,5\"\n",
    "l = i.split(',')\n",
    "t = tuple(l)\n",
    "print(l)\n",
    "print(t)"
   ]
  },
  {
   "cell_type": "markdown",
   "id": "8b5504ec",
   "metadata": {},
   "source": [
    "Define a class which has at least two methods: getString: to get a string from console input printString: to print the string in upper case. Also please include simple test function to test the class methods."
   ]
  },
  {
   "cell_type": "code",
   "execution_count": 121,
   "id": "d736a665",
   "metadata": {},
   "outputs": [
    {
     "name": "stdout",
     "output_type": "stream",
     "text": [
      "KISHOR\n"
     ]
    }
   ],
   "source": [
    "class Newc():\n",
    "    def __init__(self):\n",
    "        self.n = \"1\"\n",
    "        \n",
    "    def getstring(self):\n",
    "        self.n = 'kishor'\n",
    "        \n",
    "    def prints(self):\n",
    "        print(self.n.upper())\n",
    "        \n",
    "sobj = Newc()\n",
    "sobj.getstring()\n",
    "sobj.prints()"
   ]
  },
  {
   "cell_type": "markdown",
   "id": "70d8206d",
   "metadata": {},
   "source": [
    " Write a program that accepts a comma separated sequence of words as input and prints the words in a comma-separated sequence after sorting them alphabetically. Suppose the following input is supplied to the program: without,hello,bag,world Then, the output should be: bag,hello,without,world"
   ]
  },
  {
   "cell_type": "code",
   "execution_count": 7,
   "id": "9cfbb91d",
   "metadata": {},
   "outputs": [
    {
     "name": "stdout",
     "output_type": "stream",
     "text": [
      "kisho,thakre,ridhora\n",
      "kisho,ridhora,thakre\n"
     ]
    }
   ],
   "source": [
    "i = [x for x in input().split(',')]\n",
    "i.sort()\n",
    "print(','.join(i))"
   ]
  },
  {
   "cell_type": "markdown",
   "id": "28793f85",
   "metadata": {},
   "source": [
    "Write a program that accepts a sequence of whitespace separated words as input and prints the words after removing all duplicate words and sorting them alphanumerically. Suppose the following input is supplied to the program: hello world and practice makes perfect and hello world again Then, the output should be: again and hello makes perfect practice world"
   ]
  },
  {
   "cell_type": "code",
   "execution_count": 8,
   "id": "19fca8e7",
   "metadata": {},
   "outputs": [
    {
     "data": {
      "text/plain": [
       "'kishor'"
      ]
     },
     "execution_count": 8,
     "metadata": {},
     "output_type": "execute_result"
    }
   ],
   "source": [
    "#s = input()\n",
    "s = 'kishor kishor'\n",
    "words = [word for word in s.split(' ')]\n",
    "' '.join(sorted(list(set(words))))\n"
   ]
  },
  {
   "cell_type": "markdown",
   "id": "fe94fad9",
   "metadata": {},
   "source": [
    "Write a program that accepts a sentence and calculate the number of letters and digits. Suppose the following input is supplied to the program: hello world! 123 Then, the output should be: LETTERS 10 DIGITS 3"
   ]
  },
  {
   "cell_type": "code",
   "execution_count": 9,
   "id": "69dc81a6",
   "metadata": {},
   "outputs": [
    {
     "data": {
      "text/plain": [
       "{'word': 10, 'digit': 3}"
      ]
     },
     "execution_count": 9,
     "metadata": {},
     "output_type": "execute_result"
    }
   ],
   "source": [
    "n = 'hello world 123'\n",
    "d = {'word':0, 'digit':0}\n",
    "for i in n:\n",
    "    if i.isdigit():\n",
    "        d['digit'] += 1\n",
    "    elif i.isalpha():\n",
    "        d['word'] += 1\n",
    "    else:\n",
    "        pass \n",
    "d"
   ]
  },
  {
   "cell_type": "markdown",
   "id": "d6c4d076",
   "metadata": {},
   "source": [
    "Write a program that accepts a sentence and calculate the number of upper case letters and lower case letters. Suppose the following input is supplied to the program: Hello world! Then, the output should be: UPPER CASE 1 LOWER CASE 9"
   ]
  },
  {
   "cell_type": "code",
   "execution_count": 10,
   "id": "a14d1509",
   "metadata": {},
   "outputs": [
    {
     "name": "stdout",
     "output_type": "stream",
     "text": [
      "Upper case: 1\n"
     ]
    },
    {
     "data": {
      "text/plain": [
       "{'upper': 1, 'lower': 9}"
      ]
     },
     "execution_count": 10,
     "metadata": {},
     "output_type": "execute_result"
    }
   ],
   "source": [
    "n = 'Hello world'\n",
    "d = {'upper':0, 'lower':0}\n",
    "for i in n:\n",
    "    if i.isupper():\n",
    "        d['upper'] += 1\n",
    "    elif i.islower():\n",
    "        d['lower'] += 1\n",
    "    else:\n",
    "        pass \n",
    "print('Upper case:', d['upper'])\n",
    "d"
   ]
  },
  {
   "cell_type": "markdown",
   "id": "7698bca6",
   "metadata": {},
   "source": [
    "Write a program that computes the value of a+aa+aaa+aaaa with a given digit as the value of a. Suppose the following input is supplied to the program: 9 Then, the output should be: 11106"
   ]
  },
  {
   "cell_type": "code",
   "execution_count": 11,
   "id": "4c0579ff",
   "metadata": {},
   "outputs": [
    {
     "name": "stdout",
     "output_type": "stream",
     "text": [
      "11106\n"
     ]
    }
   ],
   "source": [
    "a = 9 \n",
    "n1 = int( \"%s\" % a )\n",
    "n2 = int( \"%s%s\" % (a,a) )\n",
    "n3 = int( \"%s%s%s\" % (a,a,a) )\n",
    "n4 = int( \"%s%s%s%s\" % (a,a,a,a) )\n",
    "\n",
    "print(n1+n2+n3+n4)"
   ]
  },
  {
   "cell_type": "markdown",
   "id": "ed5de338",
   "metadata": {},
   "source": [
    "Use a list comprehension to square each odd number in a list. The list is input by a sequence of comma-separated numbers. Suppose the following input is supplied to the program: 1,2,3,4,5,6,7,8,9 Then, the output should be: 1,3,5,7,9"
   ]
  },
  {
   "cell_type": "code",
   "execution_count": 12,
   "id": "8ab67831",
   "metadata": {},
   "outputs": [
    {
     "name": "stdout",
     "output_type": "stream",
     "text": [
      "1,3,5,7,9\n"
     ]
    }
   ],
   "source": [
    "#s = (input().split(',')) \n",
    "\n",
    "#n =1,2,3,4,5,6,7,8,9 \n",
    "#a = [i for i in n if int(i) % 2 != 0]\n",
    "s = \"1,2,3,4,5,6,7,8,9\"\n",
    "a = [i for i in s.split(',') if int(i) % 2 != 0]\n",
    "print(','.join(a))"
   ]
  },
  {
   "cell_type": "code",
   "execution_count": 13,
   "id": "72edf445",
   "metadata": {},
   "outputs": [
    {
     "name": "stdout",
     "output_type": "stream",
     "text": [
      "0\n",
      "7\n",
      "14\n",
      "21\n",
      "28\n",
      "35\n",
      "42\n",
      "49\n",
      "56\n",
      "63\n",
      "70\n",
      "77\n",
      "84\n",
      "91\n",
      "98\n"
     ]
    }
   ],
   "source": [
    "def reverse(n):\n",
    "    i = 0\n",
    "    while i<n:\n",
    "        j=i\n",
    "        i=i+1\n",
    "        if j%7==0:\n",
    "            yield j\n",
    "\n",
    "for i in reverse(100):\n",
    "    print(i)"
   ]
  },
  {
   "cell_type": "code",
   "execution_count": 14,
   "id": "d9804e36",
   "metadata": {},
   "outputs": [
    {
     "name": "stdout",
     "output_type": "stream",
     "text": [
      "Person name is Jeffrey\n",
      "Person name is Nico\n"
     ]
    }
   ],
   "source": [
    "class Person:\n",
    "    # Define the class parameter \"name\"\n",
    "    name = \"Person\"\n",
    "    \n",
    "    def __init__(self, name = None):\n",
    "        # self.name is the instance parameter\n",
    "        self.name = name\n",
    "\n",
    "jeffrey = Person(\"Jeffrey\")\n",
    "print(\"%s name is %s\" % (Person.name, jeffrey.name))\n",
    "\n",
    "nico = Person()\n",
    "nico.name = \"Nico\"\n",
    "print(\"%s name is %s\" % (Person.name, nico.name))"
   ]
  },
  {
   "cell_type": "code",
   "execution_count": 1,
   "id": "3f77c588",
   "metadata": {},
   "outputs": [
    {
     "name": "stdout",
     "output_type": "stream",
     "text": [
      "4\n",
      "16\n",
      "36\n",
      "64\n",
      "100\n"
     ]
    }
   ],
   "source": [
    "li = [1,2,3,4,5,6,7,8,9,10]\n",
    "evenNumbers = map(lambda x: x**2, filter(lambda x: x%2==0, li))\n",
    "for i in evenNumbers:\n",
    "    print(i) "
   ]
  },
  {
   "cell_type": "code",
   "execution_count": 5,
   "id": "6843c4d7",
   "metadata": {},
   "outputs": [
    {
     "data": {
      "text/plain": [
       "['i', 'o']"
      ]
     },
     "execution_count": 5,
     "metadata": {},
     "output_type": "execute_result"
    }
   ],
   "source": [
    "a = filter(lambda x:x in ('aeiouu'), 'kishor')\n",
    "[i for i in a]"
   ]
  },
  {
   "cell_type": "code",
   "execution_count": 2,
   "id": "1c31ad6e",
   "metadata": {},
   "outputs": [
    {
     "data": {
      "text/plain": [
       "[2, 4, 6, 8, 10, 12, 14, 16, 18, 20]"
      ]
     },
     "execution_count": 2,
     "metadata": {},
     "output_type": "execute_result"
    }
   ],
   "source": [
    "e = filter(lambda x: x%2 == 0, range(1,21))\n",
    "[i for i in e]"
   ]
  },
  {
   "cell_type": "code",
   "execution_count": 17,
   "id": "c4665d56",
   "metadata": {},
   "outputs": [],
   "source": [
    "#raise RuntimeError('something wrong')"
   ]
  },
  {
   "cell_type": "code",
   "execution_count": 18,
   "id": "ee0ce11c",
   "metadata": {},
   "outputs": [
    {
     "name": "stdout",
     "output_type": "stream",
     "text": [
      "division by zero!\n",
      "In finally block for cleanup\n"
     ]
    }
   ],
   "source": [
    "def throws():\n",
    "    return 5/0\n",
    "try:\n",
    "    throws() \n",
    "    \n",
    "except ZeroDivisionError:\n",
    "    print('division by zero!')\n",
    "\n",
    "except Exception as err:\n",
    "    print('Caught an exception')\n",
    "finally:\n",
    "    print('In finally block for cleanup')"
   ]
  },
  {
   "cell_type": "code",
   "execution_count": 19,
   "id": "53bfc739",
   "metadata": {},
   "outputs": [
    {
     "name": "stdout",
     "output_type": "stream",
     "text": [
      "Caught an exception\n",
      "In finally block for cleanup\n"
     ]
    }
   ],
   "source": [
    "def throws():\n",
    "    return 5/a\n",
    "try:\n",
    "    throws() \n",
    "    \n",
    "except ZeroDivisionError:\n",
    "    print('division by zero!')\n",
    "\n",
    "except Exception as err:\n",
    "    print('Caught an exception')\n",
    "finally:\n",
    "    print('In finally block for cleanup')"
   ]
  },
  {
   "cell_type": "code",
   "execution_count": 20,
   "id": "54f6c2f5",
   "metadata": {},
   "outputs": [
    {
     "name": "stdout",
     "output_type": "stream",
     "text": [
      "['1', '2']\n"
     ]
    }
   ],
   "source": [
    "import re\n",
    "s = '1.kishor, 2thakre'\n",
    "print(re.findall(\"\\d+\",s))"
   ]
  },
  {
   "cell_type": "code",
   "execution_count": null,
   "id": "4bcbb59e",
   "metadata": {},
   "outputs": [],
   "source": []
  },
  {
   "cell_type": "code",
   "execution_count": 21,
   "id": "59fc7458",
   "metadata": {},
   "outputs": [
    {
     "name": "stdout",
     "output_type": "stream",
     "text": [
      "[24, 35, 9, 56, 12]\n"
     ]
    },
    {
     "data": {
      "text/plain": [
       "[12, 35, 9, 56, 24]"
      ]
     },
     "execution_count": 21,
     "metadata": {},
     "output_type": "execute_result"
    }
   ],
   "source": [
    "def swap(l):\n",
    "    size = len(l)\n",
    "    temp = l[0]\n",
    "    l[0] = l[size-1]\n",
    "    l[size-1]=temp\n",
    "    \n",
    "    return l\n",
    "    \n",
    "l = [12,35,9,56,24]\n",
    "print(swap(l))\n",
    "\n",
    "l[0],l[-1] = l[-1],l[0]\n",
    "l"
   ]
  },
  {
   "cell_type": "code",
   "execution_count": 22,
   "id": "237a6e72",
   "metadata": {},
   "outputs": [
    {
     "data": {
      "text/plain": [
       "[24, 35, 9, 56, 12]"
      ]
     },
     "execution_count": 22,
     "metadata": {},
     "output_type": "execute_result"
    }
   ],
   "source": [
    "# as a pair in a tuple variable get\n",
    "get = l[-1], l[0]\n",
    "\n",
    "# unpacking those elements\n",
    "l[0], l[-1] = get\n",
    "l"
   ]
  },
  {
   "cell_type": "code",
   "execution_count": 23,
   "id": "9c7e5bca",
   "metadata": {},
   "outputs": [
    {
     "name": "stdout",
     "output_type": "stream",
     "text": [
      "1\n",
      "[2, 3]\n",
      "4\n"
     ]
    }
   ],
   "source": [
    "l =[1,2,3,4]\n",
    "a, *b, c= l\n",
    "print(a)\n",
    "print(b)\n",
    "print(c)"
   ]
  },
  {
   "cell_type": "code",
   "execution_count": 24,
   "id": "df895674",
   "metadata": {},
   "outputs": [
    {
     "data": {
      "text/plain": [
       "[4, 2, 3, 1]"
      ]
     },
     "execution_count": 24,
     "metadata": {},
     "output_type": "execute_result"
    }
   ],
   "source": [
    "start, *middle, end = l\n",
    "l = [end, *middle, start]\n",
    "l"
   ]
  },
  {
   "cell_type": "code",
   "execution_count": null,
   "id": "c078ef86",
   "metadata": {},
   "outputs": [],
   "source": []
  },
  {
   "cell_type": "raw",
   "id": "b2ca7569",
   "metadata": {},
   "source": [
    "# Prime number \n",
    "A positive integer greater than 1 which has no other factors except 1 and the number itself is called prime number 2,3,5"
   ]
  },
  {
   "cell_type": "code",
   "execution_count": 25,
   "id": "ba3595a4",
   "metadata": {},
   "outputs": [
    {
     "name": "stdout",
     "output_type": "stream",
     "text": [
      "5 is a prime number\n"
     ]
    }
   ],
   "source": [
    "num = 5\n",
    "flag= False\n",
    "if num >1:\n",
    "    for i in range(2, num):\n",
    "        if (num %i) == 0:\n",
    "            flag = True \n",
    "            break \n",
    "if flag:\n",
    "    print(num, 'is not a prime number')\n",
    "else:\n",
    "    print(num, 'is a prime number')"
   ]
  },
  {
   "cell_type": "code",
   "execution_count": 26,
   "id": "4707c5e7",
   "metadata": {},
   "outputs": [
    {
     "name": "stdout",
     "output_type": "stream",
     "text": [
      "5 is a prime number\n"
     ]
    }
   ],
   "source": [
    "num = 5\n",
    "if num  == 1:\n",
    "    print(num, 'is not a prime number')\n",
    "elif num>1:\n",
    "    for i in range(2, num):\n",
    "        if (num %i) == 0:\n",
    "            print(num, 'is not a prime number') \n",
    "            break \n",
    "    else:\n",
    "        print(num, 'is a prime number')\n",
    "else:\n",
    "    print(num, 'is not a prime number')\n"
   ]
  },
  {
   "cell_type": "code",
   "execution_count": 27,
   "id": "7aea5cde",
   "metadata": {},
   "outputs": [
    {
     "data": {
      "text/plain": [
       "[5, 7, 11, 13, 17, 19, 23]"
      ]
     },
     "execution_count": 27,
     "metadata": {},
     "output_type": "execute_result"
    }
   ],
   "source": [
    "# write a python program to print all prime numbers in an interval\n",
    "\n",
    "n1 = 5\n",
    "n2 = 25 \n",
    "li = []\n",
    "for j in range(n1, n2+1):\n",
    "    if j == 1:\n",
    "        #print('not prime')\n",
    "        pass\n",
    "    elif j > 1:\n",
    "        for i in range(2, j):\n",
    "            if j % i == 0:\n",
    "                #print('not prime')\n",
    "                break\n",
    "        else:\n",
    "            li.append(j)\n",
    "            #print('prime')\n",
    "    else:\n",
    "        #print('not prime')\n",
    "        pass\n",
    "li"
   ]
  },
  {
   "cell_type": "code",
   "execution_count": null,
   "id": "1d2d5a48",
   "metadata": {},
   "outputs": [],
   "source": []
  },
  {
   "cell_type": "raw",
   "id": "dca8dec7",
   "metadata": {},
   "source": [
    "# palindrome\n",
    "A string is said to be a palindrome if the reverse of the string is the same as the string. e.g. radar. "
   ]
  },
  {
   "cell_type": "code",
   "execution_count": 28,
   "id": "0d6d82df",
   "metadata": {},
   "outputs": [
    {
     "data": {
      "text/plain": [
       "16461"
      ]
     },
     "execution_count": 28,
     "metadata": {},
     "output_type": "execute_result"
    }
   ],
   "source": [
    "temp = 16461\n",
    "reverse = 0 \n",
    "while temp > 0 :\n",
    "    remainder = temp % 10\n",
    "    reverse = (reverse*10) + remainder \n",
    "    temp = temp //10 \n",
    "reverse"
   ]
  },
  {
   "cell_type": "code",
   "execution_count": 29,
   "id": "5b00b765",
   "metadata": {},
   "outputs": [
    {
     "data": {
      "text/plain": [
       "True"
      ]
     },
     "execution_count": 29,
     "metadata": {},
     "output_type": "execute_result"
    }
   ],
   "source": [
    "s = 'radar'\n",
    "rev = ''.join(reversed(s))\n",
    "s == rev"
   ]
  },
  {
   "cell_type": "code",
   "execution_count": 30,
   "id": "486807d7",
   "metadata": {},
   "outputs": [
    {
     "data": {
      "text/plain": [
       "True"
      ]
     },
     "execution_count": 30,
     "metadata": {},
     "output_type": "execute_result"
    }
   ],
   "source": [
    "'radar' == 'radar'[::-1]"
   ]
  },
  {
   "cell_type": "code",
   "execution_count": 1,
   "id": "3436272f",
   "metadata": {},
   "outputs": [
    {
     "data": {
      "text/plain": [
       "True"
      ]
     },
     "execution_count": 1,
     "metadata": {},
     "output_type": "execute_result"
    }
   ],
   "source": [
    "def is_palindrome(string):\n",
    "    string = string.lower()\n",
    "    left = 0 \n",
    "    right = len(string)-1\n",
    "    while left < right:\n",
    "        if string[left] != string[right]:\n",
    "            return False\n",
    "        left += 1\n",
    "        right -= 1\n",
    "    return True\n",
    "\n",
    "is_palindrome('RAdaR')"
   ]
  },
  {
   "cell_type": "raw",
   "id": "151dcdf4",
   "metadata": {},
   "source": [
    "# Armstrong \n",
    "\n",
    "In case of an Armstrong number of 3 digits, the sum of cubes of each digit is equal to the number itself. \n",
    "153 = 1*1*1 + 5*5*5 + 3*3*3"
   ]
  },
  {
   "cell_type": "code",
   "execution_count": 31,
   "id": "0c57b3e2",
   "metadata": {},
   "outputs": [
    {
     "data": {
      "text/plain": [
       "True"
      ]
     },
     "execution_count": 31,
     "metadata": {},
     "output_type": "execute_result"
    }
   ],
   "source": [
    "num = 407 \n",
    "sm = 0 \n",
    "temp = num \n",
    "while temp >0:\n",
    "    digit = temp % 10 \n",
    "    sm += digit **3 \n",
    "    temp //= 10 \n",
    "num == sm"
   ]
  },
  {
   "cell_type": "code",
   "execution_count": null,
   "id": "17d1a586",
   "metadata": {},
   "outputs": [],
   "source": []
  },
  {
   "cell_type": "raw",
   "id": "d8695647",
   "metadata": {},
   "source": [
    "# anagrams \n",
    "\n",
    "Two strings are said to be anagram if we can form one string by arranging the characters of another string. e.g. race & care. "
   ]
  },
  {
   "cell_type": "code",
   "execution_count": 32,
   "id": "82eae7fc",
   "metadata": {},
   "outputs": [
    {
     "name": "stdout",
     "output_type": "stream",
     "text": [
      "y\n"
     ]
    }
   ],
   "source": [
    "def check(s1, s2):\n",
    "    if (sorted(s1) == sorted(s2)):\n",
    "        print('y')\n",
    "    else:\n",
    "        print('n')\n",
    "check('race', 'care')"
   ]
  },
  {
   "cell_type": "code",
   "execution_count": 33,
   "id": "e3f71020",
   "metadata": {},
   "outputs": [
    {
     "data": {
      "text/plain": [
       "True"
      ]
     },
     "execution_count": 33,
     "metadata": {},
     "output_type": "execute_result"
    }
   ],
   "source": [
    "def ana(s1, s2):\n",
    "    return set(s1) == set(s2)\n",
    "ana('elvis', 'lives')"
   ]
  },
  {
   "cell_type": "code",
   "execution_count": 34,
   "id": "ea0e7c98",
   "metadata": {},
   "outputs": [
    {
     "data": {
      "text/plain": [
       "24"
      ]
     },
     "execution_count": 34,
     "metadata": {},
     "output_type": "execute_result"
    }
   ],
   "source": [
    "# Factorial \n",
    "\n",
    "fact = 4 \n",
    "f = 1\n",
    "for i in range(1, fact+1):\n",
    "    f = f* i \n",
    "f"
   ]
  },
  {
   "cell_type": "code",
   "execution_count": null,
   "id": "ef5d0b68",
   "metadata": {},
   "outputs": [],
   "source": []
  },
  {
   "cell_type": "raw",
   "id": "3e0f6b73",
   "metadata": {},
   "source": [
    "# Fibonacci \n",
    "\n",
    "A fibonacci sequence is the integer sequence of 0,1,1,2,3,5,8\n",
    "\n",
    "The first two terms are 0 and 1. All other terms are obtained by adding the preceding two terms. This means to say the nth term is the sum of (n-1) the and (n-2)th term."
   ]
  },
  {
   "cell_type": "code",
   "execution_count": 35,
   "id": "6faa552a",
   "metadata": {},
   "outputs": [
    {
     "name": "stdout",
     "output_type": "stream",
     "text": [
      "1\n",
      "1\n",
      "2\n",
      "3\n",
      "5\n"
     ]
    }
   ],
   "source": [
    "n = 5 \n",
    "n1, n2 = 0, 1\n",
    "count = 0\n",
    "while count < n:\n",
    "    print(n2)\n",
    "    nth = n1+n2\n",
    "    n1 = n2\n",
    "    n2 = nth\n",
    "    count += 1"
   ]
  },
  {
   "cell_type": "code",
   "execution_count": 36,
   "id": "b9430cfa",
   "metadata": {},
   "outputs": [
    {
     "name": "stdout",
     "output_type": "stream",
     "text": [
      "[1, 1, 2, 3, 5]\n"
     ]
    }
   ],
   "source": [
    "def fibo(n):\n",
    "    a, b = 0, 1\n",
    "    for i in range(n):\n",
    "        yield b\n",
    "        a, b=  b, a+b\n",
    "print(list(fibo(5)))"
   ]
  },
  {
   "cell_type": "code",
   "execution_count": 37,
   "id": "cf9e81d7",
   "metadata": {},
   "outputs": [
    {
     "name": "stdout",
     "output_type": "stream",
     "text": [
      "gcd of 24 and 18 is 6\n"
     ]
    }
   ],
   "source": [
    "# GCD greatest common divisor \n",
    "\n",
    "a = 24 \n",
    "b = 18 \n",
    "def gcd(a, b):\n",
    "    if (a == 0):\n",
    "        return b\n",
    "    if (b == 0):\n",
    "        return a \n",
    "    if (a==b):\n",
    "        return a \n",
    "    if (a > b):\n",
    "        return gcd(a-b, b)\n",
    "    return gcd(a, b-1)\n",
    "\n",
    "if (gcd(a, b)):\n",
    "    print('gcd of', a, 'and', b, 'is', gcd(a,b))\n",
    "else:\n",
    "    print('not found')"
   ]
  },
  {
   "cell_type": "code",
   "execution_count": null,
   "id": "a08e2c5d",
   "metadata": {},
   "outputs": [],
   "source": []
  },
  {
   "cell_type": "code",
   "execution_count": 38,
   "id": "dcd8cceb",
   "metadata": {},
   "outputs": [
    {
     "name": "stdout",
     "output_type": "stream",
     "text": [
      "*\n",
      "1 *\n",
      "1 1 *\n",
      "1 1 1 *\n",
      "1 1 1 1 *\n"
     ]
    }
   ],
   "source": [
    "for i in range(1, 6):\n",
    "    for j in range(1, i):\n",
    "        print('1 ', end ='')\n",
    "    print('*')"
   ]
  },
  {
   "cell_type": "code",
   "execution_count": 39,
   "id": "7832c336",
   "metadata": {},
   "outputs": [
    {
     "name": "stdout",
     "output_type": "stream",
     "text": [
      "1111* \r\n",
      "111* * \r\n",
      "11* * * \r\n",
      "1* * * * \r\n",
      "* * * * * \r\n"
     ]
    }
   ],
   "source": [
    "n=5 \n",
    "k =n-1\n",
    "for i in range(0, n):\n",
    "    for j in range(0, k):\n",
    "        print(end='1')\n",
    "    k = k-1\n",
    "    for j in range(0, i+1):\n",
    "        print('*', end=' ')\n",
    "    print('\\r')"
   ]
  },
  {
   "cell_type": "code",
   "execution_count": 40,
   "id": "9f7d6a77",
   "metadata": {},
   "outputs": [
    {
     "name": "stdout",
     "output_type": "stream",
     "text": [
      "1 \r\n",
      "1 2 \r\n",
      "1 2 3 \r\n",
      "1 2 3 4 \r\n",
      "1 2 3 4 5 \r\n"
     ]
    }
   ],
   "source": [
    "for i in range(1,6):\n",
    "    num = 1 \n",
    "    for j in range(1, i+1):\n",
    "        print(num, end=' ')\n",
    "        num += 1\n",
    "    print('\\r')"
   ]
  },
  {
   "cell_type": "code",
   "execution_count": 41,
   "id": "4ebc3f33",
   "metadata": {},
   "outputs": [
    {
     "name": "stdout",
     "output_type": "stream",
     "text": [
      "1 \r\n",
      "1 2 \r\n",
      "1 2 3 \r\n",
      "1 2 3 4 \r\n",
      "1 2 3 4 5 \r\n"
     ]
    }
   ],
   "source": [
    "n = 5 \n",
    "for i in range(1, n+1):\n",
    "    for j in range(i):\n",
    "        print(j+1, end=' ')\n",
    "    print('\\r')"
   ]
  },
  {
   "cell_type": "code",
   "execution_count": 42,
   "id": "8280be74",
   "metadata": {},
   "outputs": [
    {
     "name": "stdout",
     "output_type": "stream",
     "text": [
      "1 \r\n",
      "2 3 \r\n",
      "4 5 6 \r\n",
      "7 8 9 10 \r\n",
      "11 12 13 14 15 \r\n"
     ]
    }
   ],
   "source": [
    "num = 1 \n",
    "for i in range(1, 6):\n",
    "    for j in range(1, i+1):\n",
    "        print(num, end=' ')\n",
    "        num = num+1\n",
    "    print('\\r')"
   ]
  },
  {
   "cell_type": "code",
   "execution_count": null,
   "id": "34f4a6a7",
   "metadata": {},
   "outputs": [],
   "source": []
  },
  {
   "cell_type": "code",
   "execution_count": 43,
   "id": "f4ced62f",
   "metadata": {},
   "outputs": [
    {
     "name": "stdout",
     "output_type": "stream",
     "text": [
      "* \n",
      "* * \n",
      "* * * \n",
      "* * * * \n",
      "* * * * * \n"
     ]
    }
   ],
   "source": [
    "for i in range(1,6):\n",
    "    print('* ' *i)"
   ]
  },
  {
   "cell_type": "code",
   "execution_count": 44,
   "id": "38ee9f01",
   "metadata": {},
   "outputs": [
    {
     "name": "stdout",
     "output_type": "stream",
     "text": [
      "TEST\n",
      "PYTHON\n"
     ]
    }
   ],
   "source": [
    "def upp(text):\n",
    "    for letter in text:\n",
    "        print(letter.upper())\n",
    "upp(['test', 'Python'])"
   ]
  },
  {
   "cell_type": "code",
   "execution_count": 45,
   "id": "84d71afc",
   "metadata": {},
   "outputs": [
    {
     "data": {
      "text/plain": [
       "1080.0"
      ]
     },
     "execution_count": 45,
     "metadata": {},
     "output_type": "execute_result"
    }
   ],
   "source": [
    "p = 1000\n",
    "r =8\n",
    "t=1\n",
    "si = (p*r*t)/100 \n",
    "si+p"
   ]
  },
  {
   "cell_type": "code",
   "execution_count": 46,
   "id": "af4904c4",
   "metadata": {},
   "outputs": [
    {
     "name": "stdout",
     "output_type": "stream",
     "text": [
      "[1]\n",
      "[1, 2]\n"
     ]
    }
   ],
   "source": [
    "def test(x, y=[]):\n",
    "    y.append(x)\n",
    "    return y \n",
    "print(test(1))\n",
    "print(test(2))"
   ]
  },
  {
   "cell_type": "code",
   "execution_count": 47,
   "id": "1da57201",
   "metadata": {},
   "outputs": [
    {
     "name": "stdout",
     "output_type": "stream",
     "text": [
      "two\n",
      "{1: 'one', 3: 'three'}\n"
     ]
    }
   ],
   "source": [
    "numbers= {1:'one', 2:'two', 3:'three'}\n",
    "for number in numbers.copy():\n",
    "    if numbers[number] == 'two':\n",
    "        print(numbers[number])\n",
    "        del numbers[number]\n",
    "print(numbers)"
   ]
  },
  {
   "cell_type": "code",
   "execution_count": 48,
   "id": "add544f7",
   "metadata": {},
   "outputs": [
    {
     "data": {
      "text/plain": [
       "{'one': 1, 'two': 2, 'three': 3}"
      ]
     },
     "execution_count": 48,
     "metadata": {},
     "output_type": "execute_result"
    }
   ],
   "source": [
    "# reverse dict\n",
    "\n",
    "numbers= {1:'one', 2:'two', 3:'three'}\n",
    "red = {}\n",
    "for k, v in numbers.items():\n",
    "    red[v]=k\n",
    "red"
   ]
  },
  {
   "cell_type": "code",
   "execution_count": 49,
   "id": "f05bf921",
   "metadata": {},
   "outputs": [
    {
     "data": {
      "text/plain": [
       "[10, 14, 44, 194, 108, 124, 154, 46, 146, 122]"
      ]
     },
     "execution_count": 49,
     "metadata": {},
     "output_type": "execute_result"
    }
   ],
   "source": [
    "# map \n",
    "\n",
    "li = [5,7,22,97,54,62,77,23,73,61]\n",
    "fili = list(map(lambda x:x*2, li))\n",
    "fili"
   ]
  },
  {
   "cell_type": "code",
   "execution_count": 50,
   "id": "c129a676",
   "metadata": {},
   "outputs": [
    {
     "data": {
      "text/plain": [
       "[22, 54, 62]"
      ]
     },
     "execution_count": 50,
     "metadata": {},
     "output_type": "execute_result"
    }
   ],
   "source": [
    "# filter \n",
    "\n",
    "li = [5,7,22,97,54,62,77,23,73,61]\n",
    "fili = list(filter(lambda x: x%2 ==0, li))\n",
    "fili"
   ]
  },
  {
   "cell_type": "code",
   "execution_count": null,
   "id": "96714660",
   "metadata": {},
   "outputs": [],
   "source": []
  },
  {
   "cell_type": "code",
   "execution_count": 1,
   "id": "d708779f",
   "metadata": {},
   "outputs": [
    {
     "data": {
      "text/plain": [
       "[{'name': 'shiva', 'age': 21},\n",
       " {'name': 'ram', 'age': 23},\n",
       " {'name': 'Kishor', 'age': 28}]"
      ]
     },
     "execution_count": 1,
     "metadata": {},
     "output_type": "execute_result"
    }
   ],
   "source": [
    "# sorted lambda \n",
    "\n",
    "data = [{'name':'Kishor', 'age':28}, {'name':'shiva', 'age':21}, {'name':'ram', 'age':23}]\n",
    "\n",
    "sorted_data = sorted(data, key=lambda x:x['age'])\n",
    "sorted_data"
   ]
  },
  {
   "cell_type": "code",
   "execution_count": 52,
   "id": "df285077",
   "metadata": {},
   "outputs": [
    {
     "data": {
      "text/plain": [
       "[61, 77]"
      ]
     },
     "execution_count": 52,
     "metadata": {},
     "output_type": "execute_result"
    }
   ],
   "source": [
    "# Find duplicate \n",
    "\n",
    "li = [5,7,61,97,77,62,77,61]\n",
    "duplicate, seen = set(), set()\n",
    "\n",
    "for element in li:\n",
    "    if element in seen:\n",
    "        duplicate.add(element)\n",
    "    seen.add(element)\n",
    "list(duplicate)"
   ]
  },
  {
   "cell_type": "code",
   "execution_count": 53,
   "id": "5f69e2ff",
   "metadata": {},
   "outputs": [
    {
     "name": "stdout",
     "output_type": "stream",
     "text": [
      "[0, 1, 2, 3, 4, 5, 6, 7, 8, 9, 0, 1, 2, 3, 4, 5, 6, 7, 8, 9]\n"
     ]
    },
    {
     "data": {
      "text/plain": [
       "[0, 1, 2, 3, 4, 5, 6, 7, 8, 9]"
      ]
     },
     "execution_count": 53,
     "metadata": {},
     "output_type": "execute_result"
    }
   ],
   "source": [
    "lst= list(range(10)) + list(range(10))\n",
    "print(lst)\n",
    "list(set(lst))"
   ]
  },
  {
   "cell_type": "code",
   "execution_count": null,
   "id": "9079fe3c",
   "metadata": {},
   "outputs": [],
   "source": []
  },
  {
   "cell_type": "code",
   "execution_count": 4,
   "id": "7d8d3932",
   "metadata": {},
   "outputs": [
    {
     "data": {
      "text/plain": [
       "{52}"
      ]
     },
     "execution_count": 4,
     "metadata": {},
     "output_type": "execute_result"
    }
   ],
   "source": [
    "# Get missing number \n",
    "\n",
    "l = list(range(100))\n",
    "l.remove(52)\n",
    "\n",
    "set(range(l[len(l)-1])[1:])-set(l)"
   ]
  },
  {
   "cell_type": "code",
   "execution_count": 6,
   "id": "30356be0",
   "metadata": {},
   "outputs": [
    {
     "name": "stdout",
     "output_type": "stream",
     "text": [
      "99\n",
      "[98]\n",
      "99\n",
      "range(1, 99)\n",
      "{52}\n"
     ]
    }
   ],
   "source": [
    "l = list(range(100))\n",
    "l.remove(52)\n",
    "print(len(l))\n",
    "print([len(l)-1])\n",
    "print(l[len(l)-1])\n",
    "print(range(l[len(l)-1])[1:])\n",
    "print(set(range(l[len(l)-1])[1:]) - set(l))"
   ]
  },
  {
   "cell_type": "code",
   "execution_count": null,
   "id": "7ecf47ff",
   "metadata": {},
   "outputs": [],
   "source": []
  },
  {
   "cell_type": "code",
   "execution_count": 134,
   "id": "9824f756",
   "metadata": {},
   "outputs": [
    {
     "name": "stdout",
     "output_type": "stream",
     "text": [
      "['o', 'i', 'r', 'a', 'h', 't', 'v', 'l', 'e', 'k', 's']\n",
      "o i r a h t v l e k s\n"
     ]
    }
   ],
   "source": [
    "lst = ['kishor', 'vitthal', 'thakre']\n",
    "k = list(set([j for i in lst for j in i]))\n",
    "print(k)\n",
    "print(' '.join(k))"
   ]
  },
  {
   "cell_type": "code",
   "execution_count": 57,
   "id": "4e2bd042",
   "metadata": {},
   "outputs": [
    {
     "data": {
      "text/plain": [
       "4"
      ]
     },
     "execution_count": 57,
     "metadata": {},
     "output_type": "execute_result"
    }
   ],
   "source": [
    "max(3,4)"
   ]
  },
  {
   "cell_type": "code",
   "execution_count": 58,
   "id": "41bb550b",
   "metadata": {},
   "outputs": [
    {
     "name": "stdout",
     "output_type": "stream",
     "text": [
      "next level\n"
     ]
    }
   ],
   "source": [
    "print('next level') if 80>50 else print('repeat level')"
   ]
  },
  {
   "cell_type": "code",
   "execution_count": 59,
   "id": "d1534089",
   "metadata": {},
   "outputs": [
    {
     "name": "stdout",
     "output_type": "stream",
     "text": [
      "16\n"
     ]
    }
   ],
   "source": [
    "def nf(a): return a*a \n",
    "print(nf(4))"
   ]
  },
  {
   "cell_type": "code",
   "execution_count": 60,
   "id": "904fff81",
   "metadata": {},
   "outputs": [
    {
     "data": {
      "text/plain": [
       "2.0"
      ]
     },
     "execution_count": 60,
     "metadata": {},
     "output_type": "execute_result"
    }
   ],
   "source": [
    "4**0.5  # square root"
   ]
  },
  {
   "cell_type": "code",
   "execution_count": 9,
   "id": "2079d482",
   "metadata": {},
   "outputs": [
    {
     "name": "stdout",
     "output_type": "stream",
     "text": [
      "yes\n"
     ]
    }
   ],
   "source": [
    "# leap year \n",
    "y = 2024 \n",
    "\n",
    "print('yes') if (y % 400 == 0) or (y%100 != 0) and (y % 4 == 0) else print('not leap year')"
   ]
  },
  {
   "cell_type": "code",
   "execution_count": 8,
   "id": "32df1cb1",
   "metadata": {},
   "outputs": [
    {
     "name": "stdout",
     "output_type": "stream",
     "text": [
      "   December 2024\n",
      "Mo Tu We Th Fr Sa Su\n",
      "                   1\n",
      " 2  3  4  5  6  7  8\n",
      " 9 10 11 12 13 14 15\n",
      "16 17 18 19 20 21 22\n",
      "23 24 25 26 27 28 29\n",
      "30 31\n",
      "\n"
     ]
    }
   ],
   "source": [
    "import calendar \n",
    "print(calendar.month(2024, 12))"
   ]
  },
  {
   "cell_type": "code",
   "execution_count": 20,
   "id": "382caea8",
   "metadata": {},
   "outputs": [
    {
     "data": {
      "text/plain": [
       "'00:01:13'"
      ]
     },
     "execution_count": 20,
     "metadata": {},
     "output_type": "execute_result"
    }
   ],
   "source": [
    "from datetime import datetime\n",
    "a = datetime.now()\n",
    "a.strftime('%H:%M:%S')"
   ]
  },
  {
   "cell_type": "code",
   "execution_count": 14,
   "id": "cdf8bc62",
   "metadata": {},
   "outputs": [
    {
     "name": "stdout",
     "output_type": "stream",
     "text": [
      "00:01:00\n"
     ]
    }
   ],
   "source": [
    "import time\n",
    "\n",
    "t = time.localtime()\n",
    "current_time = time.strftime(\"%H:%M:%S\", t)\n",
    "print(current_time)"
   ]
  },
  {
   "cell_type": "code",
   "execution_count": 63,
   "id": "b196bb0b",
   "metadata": {},
   "outputs": [
    {
     "data": {
      "text/plain": [
       "['e', 'o']"
      ]
     },
     "execution_count": 63,
     "metadata": {},
     "output_type": "execute_result"
    }
   ],
   "source": [
    "# find vowels from string \n",
    "def get_vowels(vw):\n",
    "    return [i for i in vw if i in 'aeiou']\n",
    "\n",
    "get_s1 = 'hello'\n",
    "get_vowels(get_s1)"
   ]
  },
  {
   "cell_type": "code",
   "execution_count": 64,
   "id": "a97575b2",
   "metadata": {},
   "outputs": [
    {
     "data": {
      "text/plain": [
       "'Python, SQL, GO'"
      ]
     },
     "execution_count": 64,
     "metadata": {},
     "output_type": "execute_result"
    }
   ],
   "source": [
    "# convert comma separated list to a string. \n",
    "\n",
    "favorite_prog = ['Python', 'SQL', 'GO']\n",
    "', '.join(favorite_prog)"
   ]
  },
  {
   "cell_type": "code",
   "execution_count": 65,
   "id": "c790f76f",
   "metadata": {},
   "outputs": [
    {
     "data": {
      "text/plain": [
       "'Python Programming'"
      ]
     },
     "execution_count": 65,
     "metadata": {},
     "output_type": "execute_result"
    }
   ],
   "source": [
    "get_capital = 'python programming'\n",
    "get_capital.title()"
   ]
  },
  {
   "cell_type": "code",
   "execution_count": 66,
   "id": "f485e128",
   "metadata": {},
   "outputs": [
    {
     "data": {
      "text/plain": [
       "'BAZ'"
      ]
     },
     "execution_count": 66,
     "metadata": {},
     "output_type": "execute_result"
    }
   ],
   "source": [
    "def baz(): return 'BAZ'\n",
    "baz()"
   ]
  },
  {
   "cell_type": "code",
   "execution_count": 67,
   "id": "630a2311",
   "metadata": {},
   "outputs": [],
   "source": [
    "# Is is possible to add an object to the global namespace, for eg. by using globals() or dir()?"
   ]
  },
  {
   "cell_type": "code",
   "execution_count": 68,
   "id": "8730981b",
   "metadata": {},
   "outputs": [
    {
     "name": "stdout",
     "output_type": "stream",
     "text": [
      "an object\n"
     ]
    }
   ],
   "source": [
    "def insert_into_global_namespace(var_name, value):\n",
    "    globals()[var_name] = value\n",
    "\n",
    "insert_into_global_namespace('my_obj', 'an object')\n",
    "print(my_obj)\n",
    "#rint(f'my_obj = {my_obj}')"
   ]
  },
  {
   "cell_type": "code",
   "execution_count": 69,
   "id": "a67da311",
   "metadata": {},
   "outputs": [
    {
     "name": "stdout",
     "output_type": "stream",
     "text": [
      "an object\n"
     ]
    }
   ],
   "source": [
    "def insert_into_namespace(name, value, name_space=globals()):\n",
    "    name_space[name]=value\n",
    "    \n",
    "insert_into_namespace('var', 'an object')\n",
    "print(var)"
   ]
  },
  {
   "cell_type": "code",
   "execution_count": 70,
   "id": "8397e371",
   "metadata": {},
   "outputs": [
    {
     "name": "stdout",
     "output_type": "stream",
     "text": [
      "hi\n",
      "None\n"
     ]
    }
   ],
   "source": [
    "class Myclass:\n",
    "    @staticmethod\n",
    "    def foo():\n",
    "        print('hi')\n",
    "    @staticmethod\n",
    "    def bar():\n",
    "        Myclass.foo()\n",
    "print(Myclass.bar())"
   ]
  },
  {
   "cell_type": "code",
   "execution_count": 71,
   "id": "e9c5d3a9",
   "metadata": {},
   "outputs": [
    {
     "name": "stdout",
     "output_type": "stream",
     "text": [
      "hi\n",
      "None\n"
     ]
    }
   ],
   "source": [
    "class Myclass:\n",
    "    @classmethod\n",
    "    def foo(cls):\n",
    "        print('hi')\n",
    "    @classmethod\n",
    "    def bar(cls):\n",
    "        Myclass.foo()\n",
    "print(Myclass.bar())"
   ]
  },
  {
   "cell_type": "code",
   "execution_count": 72,
   "id": "1bef9c4f",
   "metadata": {},
   "outputs": [
    {
     "name": "stdout",
     "output_type": "stream",
     "text": [
      "k\n",
      "Programming\n"
     ]
    }
   ],
   "source": [
    "class Programming:\n",
    "    def name(self, name):\n",
    "        return name \n",
    "\n",
    "p = Programming()\n",
    "print(p.name('k'))\n",
    "print(p.__class__.__name__)"
   ]
  },
  {
   "cell_type": "code",
   "execution_count": 73,
   "id": "6fd4d214",
   "metadata": {},
   "outputs": [
    {
     "name": "stdout",
     "output_type": "stream",
     "text": [
      "Programming\n"
     ]
    }
   ],
   "source": [
    "class Programming:\n",
    "    def name(self, name):\n",
    "        return name \n",
    "\n",
    "p = Programming()\n",
    "print(type(p).__name__)"
   ]
  },
  {
   "cell_type": "code",
   "execution_count": 74,
   "id": "557a2058",
   "metadata": {},
   "outputs": [
    {
     "data": {
      "text/plain": [
       "2400.0"
      ]
     },
     "execution_count": 74,
     "metadata": {},
     "output_type": "execute_result"
    }
   ],
   "source": [
    "n = 1500\n",
    "a = 40 \n",
    "b = 20 \n",
    "d = 0.4 * n \n",
    "h = 0.2 * n \n",
    "gs = (n+d)+h\n",
    "gs"
   ]
  },
  {
   "cell_type": "raw",
   "id": "fadcdabe",
   "metadata": {},
   "source": [
    "# The distance between two cities (in km.) is input through the keyboard. Write a program to convert and print this distance in meters, feet, inches and centimeters. "
   ]
  },
  {
   "cell_type": "code",
   "execution_count": 75,
   "id": "add6b978",
   "metadata": {},
   "outputs": [
    {
     "name": "stdout",
     "output_type": "stream",
     "text": [
      "2000 200000 78740.15748031496 6561.679790026246\n"
     ]
    }
   ],
   "source": [
    "n = 2 \n",
    "m = n*1000\n",
    "cm = m *100 \n",
    "\n",
    "inch = cm/2.54\n",
    "f = inch/12\n",
    "print(m, cm, inch, f)"
   ]
  },
  {
   "cell_type": "code",
   "execution_count": 76,
   "id": "58222748",
   "metadata": {},
   "outputs": [
    {
     "name": "stdout",
     "output_type": "stream",
     "text": [
      "Enter the Temperature:100\n",
      "Temperature in centigrade= 37.77777777777778\n"
     ]
    }
   ],
   "source": [
    "fr = float(input('Enter the Temperature:'))\n",
    "cent = 5.0/9.0 *(fr-32)\n",
    "print('Temperature in centigrade=', cent)"
   ]
  },
  {
   "cell_type": "code",
   "execution_count": null,
   "id": "d1b2e6ae",
   "metadata": {},
   "outputs": [],
   "source": []
  },
  {
   "cell_type": "code",
   "execution_count": 77,
   "id": "a5a133e9",
   "metadata": {},
   "outputs": [
    {
     "data": {
      "text/plain": [
       "4"
      ]
     },
     "execution_count": 77,
     "metadata": {},
     "output_type": "execute_result"
    }
   ],
   "source": [
    "li = [10, 2, 1, 3, 30, 20]\n",
    "li.index(max(li))"
   ]
  },
  {
   "cell_type": "code",
   "execution_count": 1,
   "id": "ff13d2e0",
   "metadata": {
    "scrolled": true
   },
   "outputs": [
    {
     "name": "stdout",
     "output_type": "stream",
     "text": [
      "3\n",
      "3\n"
     ]
    }
   ],
   "source": [
    "tp = (1,3,7,8,7,5,4,7,6,8,5)\n",
    "x = tp.count(7)\n",
    "print(x)\n",
    "\n",
    "l = [1,3,7,8,7,5,4,7,6,8,5]\n",
    "t = (*l, )\n",
    "print(t.count(7))\n"
   ]
  },
  {
   "cell_type": "code",
   "execution_count": 5,
   "id": "07f2a366",
   "metadata": {},
   "outputs": [
    {
     "data": {
      "text/plain": [
       "['VW', 'BMW', 'Ford', 'Mitsubishi']"
      ]
     },
     "execution_count": 5,
     "metadata": {},
     "output_type": "execute_result"
    }
   ],
   "source": [
    "def m(e):\n",
    "    return (len(e))\n",
    "cars = ['Ford', 'Mitsubishi', 'BMW', 'VW']\n",
    "cars.sort(key=m)\n",
    "cars"
   ]
  },
  {
   "cell_type": "code",
   "execution_count": 79,
   "id": "0f96f782",
   "metadata": {},
   "outputs": [
    {
     "data": {
      "text/plain": [
       "['VW', 'BMW', 'Ford', 'Mitsubishi']"
      ]
     },
     "execution_count": 79,
     "metadata": {},
     "output_type": "execute_result"
    }
   ],
   "source": [
    "def myf(e):\n",
    "    return len(e)\n",
    "cars = ['Ford', 'Mitsubishi', 'BMW', 'VW']\n",
    "cars.sort(key=myf)\n",
    "cars"
   ]
  },
  {
   "cell_type": "code",
   "execution_count": null,
   "id": "4e638313",
   "metadata": {},
   "outputs": [],
   "source": []
  },
  {
   "cell_type": "code",
   "execution_count": 80,
   "id": "3a0679d7",
   "metadata": {},
   "outputs": [
    {
     "name": "stdout",
     "output_type": "stream",
     "text": [
      "1\n",
      "3\n",
      "7\n"
     ]
    }
   ],
   "source": [
    "l = [1,3,7,8,7,5,4,7,6,8,5]\n",
    "ch_iterator = iter(l)\n",
    "print(next(ch_iterator))\n",
    "print(next(ch_iterator))\n",
    "print(next(ch_iterator))"
   ]
  },
  {
   "cell_type": "raw",
   "id": "f9092ec5",
   "metadata": {},
   "source": [
    "map, list, reduce are higher order functions"
   ]
  },
  {
   "cell_type": "raw",
   "id": "c2767a0a",
   "metadata": {},
   "source": [
    "# map \n",
    "The map function applies a function to each element in a sequence and returns a new sequence and return a new sequence containing the transformed elements. the map function has the following syntax:\n",
    "map(function, iterable)\n",
    "(used to efficency purpose)"
   ]
  },
  {
   "cell_type": "code",
   "execution_count": 81,
   "id": "14ea5262",
   "metadata": {},
   "outputs": [
    {
     "data": {
      "text/plain": [
       "[1, 8, 27, 64, 125, 216, 343, 512]"
      ]
     },
     "execution_count": 81,
     "metadata": {},
     "output_type": "execute_result"
    }
   ],
   "source": [
    "l = [1,2,3,4,5,6,7,8]\n",
    "def cube(x):\n",
    "    return x*x*x\n",
    "nl = list(map(cube, l))\n",
    "nl"
   ]
  },
  {
   "cell_type": "code",
   "execution_count": null,
   "id": "5044b5de",
   "metadata": {},
   "outputs": [],
   "source": []
  },
  {
   "cell_type": "code",
   "execution_count": 82,
   "id": "b4d16ea3",
   "metadata": {
    "scrolled": true
   },
   "outputs": [
    {
     "data": {
      "text/plain": [
       "[1, 8, 27, 64, 125, 216, 343, 512]"
      ]
     },
     "execution_count": 82,
     "metadata": {},
     "output_type": "execute_result"
    }
   ],
   "source": [
    "# using lambda\n",
    "nn = list(map(lambda x: x*x*x, l))\n",
    "nn"
   ]
  },
  {
   "cell_type": "raw",
   "id": "59a4d0db",
   "metadata": {},
   "source": [
    "The filter function filters a sequence of elements based on a given predicate (a function that returns a boolean value) and return a new sequence containing only the elements that meet the predicate. The filter function has the following syntax:\n",
    "filter(predicate, iterable)"
   ]
  },
  {
   "cell_type": "code",
   "execution_count": 83,
   "id": "4747ce09",
   "metadata": {},
   "outputs": [
    {
     "data": {
      "text/plain": [
       "[5, 6, 7, 8]"
      ]
     },
     "execution_count": 83,
     "metadata": {},
     "output_type": "execute_result"
    }
   ],
   "source": [
    "def filt(x):\n",
    "    return x > 4\n",
    "fn = list(filter(filt, l))\n",
    "fn"
   ]
  },
  {
   "cell_type": "code",
   "execution_count": 84,
   "id": "dc6d7072",
   "metadata": {},
   "outputs": [
    {
     "data": {
      "text/plain": [
       "[5, 6, 7, 8]"
      ]
     },
     "execution_count": 84,
     "metadata": {},
     "output_type": "execute_result"
    }
   ],
   "source": [
    "ff = list(filter(lambda x:x>4, l))\n",
    "ff"
   ]
  },
  {
   "cell_type": "raw",
   "id": "8cd91937",
   "metadata": {},
   "source": [
    "# reduce \n",
    "The reduce function applies the functin to the first two elements in the iterable and then applies the function to the result and the next element, and so on. The reduce return the final result. "
   ]
  },
  {
   "cell_type": "code",
   "execution_count": 136,
   "id": "dd61786d",
   "metadata": {},
   "outputs": [
    {
     "data": {
      "text/plain": [
       "15"
      ]
     },
     "execution_count": 136,
     "metadata": {},
     "output_type": "execute_result"
    }
   ],
   "source": [
    "from functools import reduce \n",
    "\n",
    "l = [1,2,3,4,5]\n",
    "def sm(x, y):\n",
    "    return x+y\n",
    "rn = reduce(sm, l)\n",
    "rn"
   ]
  },
  {
   "cell_type": "code",
   "execution_count": 86,
   "id": "6dcb5b4e",
   "metadata": {},
   "outputs": [
    {
     "data": {
      "text/plain": [
       "15"
      ]
     },
     "execution_count": 86,
     "metadata": {},
     "output_type": "execute_result"
    }
   ],
   "source": [
    "rr = reduce(lambda x, y: x+y, l)\n",
    "rr"
   ]
  },
  {
   "cell_type": "code",
   "execution_count": null,
   "id": "8ed4fb33",
   "metadata": {},
   "outputs": [],
   "source": []
  },
  {
   "cell_type": "code",
   "execution_count": 87,
   "id": "caa153de",
   "metadata": {},
   "outputs": [
    {
     "name": "stdout",
     "output_type": "stream",
     "text": [
      "The original elements before deep copying\n",
      "[1, 2, [3, 5], 4]\n",
      "\r\n",
      "The new list of elements after deep copying\n",
      "[1, 2, [7, 5], 4]\n",
      "\r\n",
      "The original elements before deep copying\n",
      "[1, 2, [3, 5], 4]\n"
     ]
    }
   ],
   "source": [
    "import copy \n",
    "\n",
    "li1 = [1,2,[3,5], 4]\n",
    "li2 = copy.deepcopy(li1)\n",
    "print('The original elements before deep copying')\n",
    "print(li1)\n",
    "\n",
    "print('\\r')\n",
    "li2[2][0] = 7\n",
    "print('The new list of elements after deep copying')\n",
    "print(li2)\n",
    "    \n",
    "print('\\r')\n",
    "print('The original elements before deep copying')\n",
    "print(li1)"
   ]
  },
  {
   "cell_type": "code",
   "execution_count": 88,
   "id": "84d96490",
   "metadata": {},
   "outputs": [
    {
     "name": "stdout",
     "output_type": "stream",
     "text": [
      "The original elements before shallow copying\n",
      "[1, 2, [3, 5], 4]\n",
      "\r\n",
      "The new list of elements after shallow copying\n",
      "[1, 2, [7, 5], 4]\n",
      "[1, 2, [7, 5], 4]\n"
     ]
    }
   ],
   "source": [
    "li1 = [1,2,[3,5], 4]\n",
    "li2 = copy.copy(li1)\n",
    "print('The original elements before shallow copying')\n",
    "print(li1)\n",
    "    \n",
    "print('\\r')\n",
    "li2[2][0] = 7\n",
    "print('The new list of elements after shallow copying')\n",
    "print(li2)\n",
    "print(li1)"
   ]
  },
  {
   "cell_type": "code",
   "execution_count": null,
   "id": "b173f13b",
   "metadata": {},
   "outputs": [],
   "source": []
  },
  {
   "cell_type": "code",
   "execution_count": 89,
   "id": "6e0df9a6",
   "metadata": {},
   "outputs": [
    {
     "name": "stdout",
     "output_type": "stream",
     "text": [
      "0\n",
      "1\n",
      "2\n",
      "\n",
      "0\n",
      "1\n",
      "2\n"
     ]
    }
   ],
   "source": [
    "# generator \n",
    "def mg(n):\n",
    "    value = 0 \n",
    "    while value < n:\n",
    "        yield value\n",
    "        value += 1\n",
    "        \n",
    "for v in mg(3):\n",
    "    print(v)\n",
    "print()\n",
    "generator = mg(3)\n",
    "print(next(generator))\n",
    "print(next(generator))\n",
    "print(next(generator))"
   ]
  },
  {
   "cell_type": "code",
   "execution_count": 90,
   "id": "845a94c1",
   "metadata": {},
   "outputs": [
    {
     "name": "stdout",
     "output_type": "stream",
     "text": [
      "setter method called\n",
      "getter method called\n"
     ]
    },
    {
     "data": {
      "text/plain": [
       "10"
      ]
     },
     "execution_count": 90,
     "metadata": {},
     "output_type": "execute_result"
    }
   ],
   "source": [
    "# Program showing a use of property() function \n",
    "\n",
    "class Geeks:\n",
    "    def __init__(self):\n",
    "        self._age = 0 \n",
    "        \n",
    "    # function to get value of _age \n",
    "    def get_age(self):\n",
    "        print('getter method called')\n",
    "        return self._age\n",
    " \n",
    "    # functin to set value of _age \n",
    "    def set_age(self, a):\n",
    "        print('setter method called')\n",
    "        self._age = a \n",
    "        \n",
    "    # function to delete _age attribute \n",
    "    def del_age(self):\n",
    "        del self._age \n",
    "        \n",
    "    age = property(get_age, set_age, del_age)\n",
    "    \n",
    "mark = Geeks()\n",
    "mark.age = 10 \n",
    "mark.age"
   ]
  },
  {
   "cell_type": "code",
   "execution_count": null,
   "id": "23164511",
   "metadata": {},
   "outputs": [],
   "source": []
  },
  {
   "cell_type": "code",
   "execution_count": 91,
   "id": "acd6e58c",
   "metadata": {
    "scrolled": true
   },
   "outputs": [
    {
     "data": {
      "text/plain": [
       "(1, 5)"
      ]
     },
     "execution_count": 91,
     "metadata": {},
     "output_type": "execute_result"
    }
   ],
   "source": [
    "a, _, b = (1, 3, 5)\n",
    "a, b"
   ]
  },
  {
   "cell_type": "code",
   "execution_count": 92,
   "id": "cba9fa6c",
   "metadata": {},
   "outputs": [
    {
     "data": {
      "text/plain": [
       "(7, 1)"
      ]
     },
     "execution_count": 92,
     "metadata": {},
     "output_type": "execute_result"
    }
   ],
   "source": [
    "a, *_, b = (7,6,5,4,3,2,1)\n",
    "a, b"
   ]
  },
  {
   "cell_type": "code",
   "execution_count": 93,
   "id": "9b265b28",
   "metadata": {},
   "outputs": [
    {
     "data": {
      "text/plain": [
       "(7, 1)"
      ]
     },
     "execution_count": 93,
     "metadata": {},
     "output_type": "execute_result"
    }
   ],
   "source": [
    "l = [7,6,5,4,3,2,1]\n",
    "k =  tuple(l)\n",
    "a, *_, b = k\n",
    "a, b"
   ]
  },
  {
   "cell_type": "code",
   "execution_count": 94,
   "id": "ff405726",
   "metadata": {},
   "outputs": [
    {
     "data": {
      "text/plain": [
       "['geek']"
      ]
     },
     "execution_count": 94,
     "metadata": {},
     "output_type": "execute_result"
    }
   ],
   "source": [
    "# even len string \n",
    "n=\"geeks for geek\"\n",
    "s = n.split(' ')\n",
    "l = list(filter(lambda x: (len(x)%2==0), s))\n",
    "l"
   ]
  },
  {
   "cell_type": "code",
   "execution_count": 95,
   "id": "7e760916",
   "metadata": {},
   "outputs": [
    {
     "data": {
      "text/plain": [
       "['geek']"
      ]
     },
     "execution_count": 95,
     "metadata": {},
     "output_type": "execute_result"
    }
   ],
   "source": [
    "[x for x in s if len(x) %2==0]"
   ]
  },
  {
   "cell_type": "markdown",
   "id": "54765bd4",
   "metadata": {},
   "source": [
    "# MOVE zeros"
   ]
  },
  {
   "cell_type": "code",
   "execution_count": 1,
   "id": "394b24b7",
   "metadata": {},
   "outputs": [
    {
     "name": "stdout",
     "output_type": "stream",
     "text": [
      "3 0\n",
      "2 0\n",
      "1 0\n",
      "7 0\n"
     ]
    },
    {
     "data": {
      "text/plain": [
       "[0, 0, 0, 7, 1, 2, 3]"
      ]
     },
     "execution_count": 1,
     "metadata": {},
     "output_type": "execute_result"
    }
   ],
   "source": [
    "def move_zeroes_to_beginning(arr, n):\n",
    "    count = n-1\n",
    "    for i in range(n-1, 0, -1):\n",
    "        if arr[i] != 0 :\n",
    "            arr[i], arr[count] = arr[count], arr[i]\n",
    "            count = count - 1\n",
    "    return arr\n",
    "arr = [0, 7, 1, 2, 0, 3, 0]\n",
    "move_zeroes_to_beginning(arr, len(arr))\n"
   ]
  },
  {
   "cell_type": "code",
   "execution_count": 97,
   "id": "758ec410",
   "metadata": {},
   "outputs": [
    {
     "data": {
      "text/plain": [
       "[7, 1, 2, 3, 0, 0, 0]"
      ]
     },
     "execution_count": 97,
     "metadata": {},
     "output_type": "execute_result"
    }
   ],
   "source": [
    "def move_zeroes_to_end(arr, n):\n",
    "    count = 0\n",
    "    for i in range(n):\n",
    "        if arr[i] != 0 :\n",
    "            arr[count], arr[i] = arr[i], arr[count]\n",
    "            count += 1\n",
    "    return arr\n",
    "\n",
    "arr = [0, 7, 1, 2, 0, 3, 0]\n",
    "move_zeroes_to_end(arr, len(arr))"
   ]
  },
  {
   "cell_type": "code",
   "execution_count": 98,
   "id": "0b0982e5",
   "metadata": {},
   "outputs": [
    {
     "data": {
      "text/plain": [
       "True"
      ]
     },
     "execution_count": 98,
     "metadata": {},
     "output_type": "execute_result"
    }
   ],
   "source": [
    "a = 'kishor'\n",
    "a.startswith('k')"
   ]
  },
  {
   "cell_type": "code",
   "execution_count": 99,
   "id": "694e67d4",
   "metadata": {},
   "outputs": [
    {
     "data": {
      "text/plain": [
       "True"
      ]
     },
     "execution_count": 99,
     "metadata": {},
     "output_type": "execute_result"
    }
   ],
   "source": [
    "a.endswith('r')"
   ]
  },
  {
   "cell_type": "markdown",
   "id": "260900ec",
   "metadata": {},
   "source": [
    "# remove vowels from "
   ]
  },
  {
   "cell_type": "code",
   "execution_count": 137,
   "id": "d6b729da",
   "metadata": {},
   "outputs": [
    {
     "data": {
      "text/plain": [
       "'rm mhn Shrm'"
      ]
     },
     "execution_count": 137,
     "metadata": {},
     "output_type": "execute_result"
    }
   ],
   "source": [
    "s = 'ram mohan Sharma'\n",
    "n = []\n",
    "for i in list(s):\n",
    "    if i not in ('aeiou'):\n",
    "        n.append(i)\n",
    "''.join(n)"
   ]
  },
  {
   "cell_type": "code",
   "execution_count": 101,
   "id": "eb900496",
   "metadata": {},
   "outputs": [
    {
     "name": "stdout",
     "output_type": "stream",
     "text": [
      "rm mhn Shrm\n"
     ]
    }
   ],
   "source": [
    "vowels = ['a','e','i','o','u'] \n",
    "result = [letter for letter in s if letter.lower() not in vowels] \n",
    "result = ''.join(result) \n",
    "print(result) "
   ]
  },
  {
   "cell_type": "code",
   "execution_count": 102,
   "id": "dfed89b6",
   "metadata": {},
   "outputs": [
    {
     "data": {
      "text/plain": [
       "'rm mhn Shrm'"
      ]
     },
     "execution_count": 102,
     "metadata": {},
     "output_type": "execute_result"
    }
   ],
   "source": [
    "import re\n",
    "s = 'ram mohan Sharma'\n",
    "re.sub('[aeiouAEIOU]','',s)"
   ]
  },
  {
   "cell_type": "code",
   "execution_count": null,
   "id": "f01a6d4b",
   "metadata": {},
   "outputs": [],
   "source": []
  },
  {
   "cell_type": "code",
   "execution_count": null,
   "id": "71d9c8b8",
   "metadata": {},
   "outputs": [],
   "source": []
  },
  {
   "cell_type": "markdown",
   "id": "06547f5b",
   "metadata": {},
   "source": [
    "# Subarray, Subsequence and Subsets in Python"
   ]
  },
  {
   "cell_type": "raw",
   "id": "3f2de444",
   "metadata": {},
   "source": [
    "An array is a collection of values stored in a continuous block of memory. A subarray is a portion of that array, also stored continuously. In other words, a subarray is any consecutive part of the original array."
   ]
  },
  {
   "cell_type": "code",
   "execution_count": 103,
   "id": "f3467268",
   "metadata": {},
   "outputs": [
    {
     "data": {
      "text/plain": [
       "[[1], [1, 2], [1, 2, 3], [2], [2, 3], [3]]"
      ]
     },
     "execution_count": 103,
     "metadata": {},
     "output_type": "execute_result"
    }
   ],
   "source": [
    "def subarrays(arr):\n",
    "    n = len(arr)\n",
    "    result = []\n",
    "    for i in range(n):\n",
    "        for j in range(i+1, n+1):\n",
    "            result.append(arr[i:j])\n",
    "    return result\n",
    "\n",
    "arr = [1, 2, 3]\n",
    "subarrays(arr)"
   ]
  },
  {
   "cell_type": "raw",
   "id": "e018dbbf",
   "metadata": {},
   "source": [
    "What is Subsequence ?\n",
    "A subsequence is different from a subarray. While a subarray is a contiguous portion of an array, a subsequence is a sequence of elements from the array that may or may not be consecutive. In other words, a subsequence can be formed by selecting certain elements from the array, in the same order as they appear in the original array, but the selected elements don’t have to be next to each other"
   ]
  },
  {
   "cell_type": "code",
   "execution_count": 104,
   "id": "0fa23ad7",
   "metadata": {},
   "outputs": [
    {
     "data": {
      "text/plain": [
       "[[], [1], [2], [1, 2], [3], [1, 3], [2, 3], [1, 2, 3]]"
      ]
     },
     "execution_count": 104,
     "metadata": {},
     "output_type": "execute_result"
    }
   ],
   "source": [
    "def Subsequence(arr):\n",
    "    n = len(arr)\n",
    "    result = [[]]\n",
    "    for i in range(n):\n",
    "            result += [sa +[arr[i]] for sa in result]\n",
    "    return result\n",
    "\n",
    "arr = [1, 2, 3]\n",
    "Subsequence(arr)"
   ]
  },
  {
   "cell_type": "raw",
   "id": "59e2bc8d",
   "metadata": {},
   "source": [
    "What is Subset ?\n",
    "A subset is a collection of elements that are part of a larger set or array. Unlike a subarray, which must be a contiguous sequence of elements from the original array, a subset can contain any combination of elements from the original array, in any order."
   ]
  },
  {
   "cell_type": "code",
   "execution_count": 105,
   "id": "d74c3395",
   "metadata": {},
   "outputs": [
    {
     "data": {
      "text/plain": [
       "[[], [1], [2], [1, 2], [3], [1, 3], [2, 3], [1, 2, 3]]"
      ]
     },
     "execution_count": 105,
     "metadata": {},
     "output_type": "execute_result"
    }
   ],
   "source": [
    "def Subset(arr):\n",
    "    result = [[]]\n",
    "    for i in arr:\n",
    "        result += [sa + [i] for sa in result]\n",
    "    return result\n",
    "\n",
    "arr = [1, 2, 3]\n",
    "Subset(arr)"
   ]
  },
  {
   "cell_type": "code",
   "execution_count": null,
   "id": "f742f060",
   "metadata": {},
   "outputs": [],
   "source": []
  },
  {
   "cell_type": "code",
   "execution_count": 106,
   "id": "54a4a3f0",
   "metadata": {},
   "outputs": [
    {
     "name": "stdout",
     "output_type": "stream",
     "text": [
      "p@Y#H0N I5 aW3S0M3!\n"
     ]
    }
   ],
   "source": [
    "original_string = \"P@y#h0n i5 Aw3s0m3!\"\n",
    "modified_string = ''.join([i.swapcase() if i.isalpha() else i for i in original_string])\n",
    "\n",
    "print(modified_string)"
   ]
  },
  {
   "cell_type": "code",
   "execution_count": 107,
   "id": "b9037647",
   "metadata": {},
   "outputs": [
    {
     "data": {
      "text/plain": [
       "array([[114, 160,  60,  27],\n",
       "       [ 74,  97,  73,  14],\n",
       "       [119, 157, 112,  23]])"
      ]
     },
     "execution_count": 107,
     "metadata": {},
     "output_type": "execute_result"
    }
   ],
   "source": [
    "# matrix multiplication\n",
    "import numpy as np\n",
    "\n",
    "# take a 3x3 matrix\n",
    "A = [[12, 7, 3],\n",
    "    [4, 5, 6],\n",
    "    [7, 8, 9]]\n",
    "\n",
    "# take a 3x4 matrix\n",
    "B = [[5, 8, 1, 2],\n",
    "    [6, 7, 3, 0],\n",
    "    [4, 5, 9, 1]]\n",
    "\n",
    "# result will be 3x4\n",
    "\n",
    "result= [[0,0,0,0],\n",
    "        [0,0,0,0],\n",
    "        [0,0,0,0]] \n",
    "result = np.dot(A,B)\n",
    "result"
   ]
  },
  {
   "cell_type": "code",
   "execution_count": 108,
   "id": "ef0d69b2",
   "metadata": {},
   "outputs": [
    {
     "data": {
      "text/plain": [
       "[[19, 22], [43, 50]]"
      ]
     },
     "execution_count": 108,
     "metadata": {},
     "output_type": "execute_result"
    }
   ],
   "source": [
    "matrix_a = [[1, 2],\n",
    "            [3, 4]]\n",
    "\n",
    "matrix_b = [[5, 6],\n",
    "            [7, 8]]\n",
    "\n",
    "result = [[0, 0],\n",
    "          [0, 0]]\n",
    "\n",
    "for i in range(len(matrix_a)):\n",
    "    for j in range(len(matrix_b)):\n",
    "        result[i][j] = (matrix_a[i][0] * matrix_b[0][j] \n",
    "                        +\n",
    "                       matrix_a[i][1] * matrix_b[1][j])\n",
    "result"
   ]
  },
  {
   "cell_type": "code",
   "execution_count": 109,
   "id": "d106c769",
   "metadata": {},
   "outputs": [
    {
     "name": "stdout",
     "output_type": "stream",
     "text": [
      "[114, 160, 60, 27]\n",
      "[74, 97, 73, 14]\n",
      "[119, 157, 112, 23]\n"
     ]
    }
   ],
   "source": [
    "# take a 3x3 matrix\n",
    "A = [[12, 7, 3],\n",
    "    [4, 5, 6],\n",
    "    [7, 8, 9]]\n",
    "\n",
    "# take a 3x4 matrix    \n",
    "B = [[5, 8, 1, 2],\n",
    "    [6, 7, 3, 0],\n",
    "    [4, 5, 9, 1]]\n",
    "    \n",
    "result = [[0, 0, 0, 0],\n",
    "        [0, 0, 0, 0],\n",
    "        [0, 0, 0, 0]]\n",
    "\n",
    "# iterating by row of A\n",
    "for i in range(len(A)):\n",
    "        # iterating by column by B \n",
    "    for j in range(len(B[0])):\n",
    "            # iterating by rows by B \n",
    "        for k in range(len(B)):\n",
    "            result[i][j] += A[i][k] * B[k][j]\n",
    "\n",
    "for r in result:\n",
    "    print(r) "
   ]
  },
  {
   "cell_type": "code",
   "execution_count": 110,
   "id": "a485b214",
   "metadata": {},
   "outputs": [
    {
     "data": {
      "text/plain": [
       "60"
      ]
     },
     "execution_count": 110,
     "metadata": {},
     "output_type": "execute_result"
    }
   ],
   "source": [
    "result[0][2]"
   ]
  },
  {
   "cell_type": "code",
   "execution_count": 111,
   "id": "c1ead255",
   "metadata": {},
   "outputs": [
    {
     "name": "stdout",
     "output_type": "stream",
     "text": [
      "{'x': 1}\n",
      "{'x': 1, 'y': 1}\n",
      "{'x': 1, 'y': 1, 'z': 1}\n",
      "{'x': 4, 'y': 2, 'z': 2, 'p': 1}\n"
     ]
    }
   ],
   "source": [
    "# Collection Counter from Scratch.\n",
    "\n",
    "list1 = ['x', 'y', 'z', 'x', 'x', 'x', 'y', 'z', 'p', 'p', 'z'] \n",
    "d = {} \n",
    "for i in list1: \n",
    "    if i in d: \n",
    "        d[i] += 1 \n",
    "    else: \n",
    "        d[i] = 1 \n",
    "        print(d)"
   ]
  },
  {
   "cell_type": "code",
   "execution_count": 112,
   "id": "297af8c2",
   "metadata": {},
   "outputs": [
    {
     "name": "stdout",
     "output_type": "stream",
     "text": [
      "geeks\n",
      "2\n"
     ]
    }
   ],
   "source": [
    "# Most frequent word in an array of strings\n",
    "\n",
    "def mostFrequentWord(arr, n):\n",
    "    freq = 0 \n",
    "    res = \"\"\n",
    "    for i in range(n):\n",
    "        count = 0 \n",
    "        for j in range(i+1, n):\n",
    "            if arr[i] == arr[j]:\n",
    "                count += 1\n",
    "        if count >= freq:\n",
    "            res = arr[i]\n",
    "            freq = count\n",
    "\n",
    "    print(res)\n",
    "    print(freq)\n",
    "    \n",
    "arr = [ \"geeks\", \"for\", \"geeks\", \"a\", \"portal\", \"to\", \"learn\", \"can\", \"be\", \"computer\", \"science\", \"zoom\", \"yup\", \"fire\", \"in\", \"be\", \"data\", \"geeks\",]\n",
    "n = len(arr)\n",
    "mostFrequentWord(arr, n)"
   ]
  },
  {
   "cell_type": "code",
   "execution_count": null,
   "id": "ca574d7d",
   "metadata": {},
   "outputs": [],
   "source": []
  },
  {
   "cell_type": "code",
   "execution_count": 113,
   "id": "37035a54",
   "metadata": {},
   "outputs": [
    {
     "data": {
      "text/plain": [
       "'gnimmargorP nohtyP'"
      ]
     },
     "execution_count": 113,
     "metadata": {},
     "output_type": "execute_result"
    }
   ],
   "source": [
    "string = \"Python Programming\"\n",
    "string[::-1]"
   ]
  },
  {
   "cell_type": "raw",
   "id": "75a8e28a",
   "metadata": {},
   "source": [
    "1. Write a program to find HCF of two numbers by without using recursion.\n",
    "\n",
    "Input format:\n",
    "\n",
    "The first line contains any 2 positive numbers separated by space.\n",
    "\n",
    "Output format:\n",
    "\n",
    "Print the HCF of given two numbers.\n",
    "\n",
    "Sample Input:\n",
    "\n",
    "70 15\n",
    "\n",
    "Sample Output:\n",
    "\n",
    "5"
   ]
  },
  {
   "cell_type": "code",
   "execution_count": 2,
   "id": "c55d9957",
   "metadata": {},
   "outputs": [
    {
     "name": "stdout",
     "output_type": "stream",
     "text": [
      "12\n"
     ]
    }
   ],
   "source": [
    "m = 24\n",
    "n = 36\n",
    "while m != n:\n",
    "    if m>n:\n",
    "        m = m-n\n",
    "    else:\n",
    "        n = n-m\n",
    "print(m)"
   ]
  },
  {
   "cell_type": "markdown",
   "id": "936530e4",
   "metadata": {},
   "source": [
    "#### Program to Change Decimal Number to Binary?"
   ]
  },
  {
   "cell_type": "code",
   "execution_count": 3,
   "id": "9951276f",
   "metadata": {},
   "outputs": [
    {
     "name": "stdout",
     "output_type": "stream",
     "text": [
      "10000"
     ]
    }
   ],
   "source": [
    "def decToBinary(n):\n",
    "        # array to store binary number\n",
    "    binaryNum = [0] * n\n",
    "\n",
    "    # counter for binary array\n",
    "    i = 0;\n",
    "    while (n > 0): \n",
    "\n",
    "        # storing remainder in binary array\n",
    "        binaryNum[i] = n % 2\n",
    "        n = int(n / 2)\n",
    "        i += 1\n",
    "\n",
    "    # printing binary array in reverse order\n",
    "    for j in range(i - 1, -1, -1):\n",
    "        print(binaryNum[j], end = \"\")\n",
    "\n",
    "n = 16\n",
    "decToBinary(n)"
   ]
  },
  {
   "cell_type": "code",
   "execution_count": 3,
   "id": "edaf76e2",
   "metadata": {},
   "outputs": [
    {
     "name": "stdout",
     "output_type": "stream",
     "text": [
      "Element is Present in the list\n",
      "Element is NOT Present in the list\n"
     ]
    }
   ],
   "source": [
    "\"\"\"𝐆𝐢𝐯𝐞𝐧 𝐚 𝐥𝐢𝐬𝐭, 𝐭𝐡𝐞 𝐭𝐚𝐬𝐤 𝐢𝐬 𝐭𝐨 𝐰𝐫𝐢𝐭𝐞 𝐚 𝐏𝐲𝐭𝐡𝐨𝐧 𝐩𝐫𝐨𝐠𝐫𝐚𝐦 𝐭𝐨 𝐜𝐡𝐞𝐜𝐤 𝐢𝐟 𝐭𝐡𝐞 𝐯𝐚𝐥𝐮𝐞 𝐞𝐱𝐢𝐬𝐭𝐬 𝐢𝐧 𝐭𝐡𝐞 𝐥𝐢𝐬𝐭 𝐨𝐫 𝐧𝐨𝐭 𝐮𝐬𝐢𝐧𝐠 𝐭𝐡𝐞 𝐥𝐚𝐦𝐛𝐝𝐚 𝐟𝐮𝐧𝐜𝐭𝐢𝐨𝐧. \n",
    "\n",
    "𝐄𝐱𝐚𝐦𝐩𝐥𝐞: \n",
    "\n",
    "𝐈𝐧𝐩𝐮𝐭 : 𝐋 = [𝟏, 𝟐, 𝟑, 𝟒, 𝟓, 𝟕, 𝟔, 𝟗] \n",
    "𝐞𝐥𝐞𝐦𝐞𝐧𝐭 = 𝟗 \n",
    "𝐎𝐮𝐭𝐩𝐮𝐭 : 𝐄𝐥𝐞𝐦𝐞𝐧𝐭 𝐢𝐬 𝐏𝐫𝐞𝐬𝐞𝐧𝐭 𝐢𝐧 𝐭𝐡𝐞 𝐥𝐢𝐬𝐭 \n",
    "\n",
    "𝐈𝐧𝐩𝐮𝐭 : 𝐋 = [𝟏, 𝟐, 𝟑, 𝟒, 𝟓, 𝟕, 𝟔, 𝟗]\n",
    "𝐞𝐥𝐞𝐦𝐞𝐧𝐭 = 𝟏𝟐\n",
    "𝐎𝐮𝐭𝐩𝐮𝐭 : 𝐄𝐥𝐞𝐦𝐞𝐧𝐭 𝐢𝐬 𝐍𝐎𝐓 𝐏𝐫𝐞𝐬𝐞𝐧𝐭 𝐢𝐧 𝐭𝐡𝐞 𝐥𝐢𝐬𝐭\"\"\"\n",
    "\n",
    "L = [1, 2, 3, 4, 5, 6, 7, 8, 9]\n",
    "\n",
    "check_element = lambda element: 'Element is Present in the list' if element in L else 'Element is NOT Present in the list'\n",
    "element1 = 9\n",
    "element2 = 12\n",
    "\n",
    "print(check_element(element1))\n",
    "print(check_element(element2))s"
   ]
  },
  {
   "cell_type": "code",
   "execution_count": 4,
   "id": "4c7e193a",
   "metadata": {},
   "outputs": [
    {
     "data": {
      "text/plain": [
       "\"𝐖𝐡𝐚𝐭 𝐢𝐬 𝐚 𝐥𝐚𝐦𝐛𝐝𝐚 𝐟𝐮𝐧𝐜𝐭𝐢𝐨𝐧 𝐢𝐧 𝐏𝐲𝐭𝐡𝐨𝐧, 𝐚𝐧𝐝 𝐡𝐨𝐰 𝐢𝐬 𝐢𝐭 𝐝𝐢𝐟𝐟𝐞𝐫𝐞𝐧𝐭 𝐟𝐫𝐨𝐦 𝐚 𝐫𝐞𝐠𝐮𝐥𝐚𝐫 𝐟𝐮𝐧𝐜𝐭𝐢𝐨𝐧? 𝐏𝐫𝐨𝐯𝐢𝐝𝐞 𝐚𝐧 𝐞𝐱𝐚𝐦𝐩𝐥𝐞?\\n\\nIn Python, a lambda function is an anonymous function that can have any number of arguments but only one expression. It is defined using the lambda keyword, followed by parameters, a colon, and the expression that returns a value.\\n\\n𝐒𝐲𝐧𝐭𝐚𝐱:\\nlambda arguments: expression\\n\\n𝐀𝐧𝐨𝐧𝐲𝐦𝐨𝐮𝐬: Lambda functions are usually unnamed (i.e., they don't need to be assigned to a variable, though they can be).\\n\\n𝐒𝐢𝐧𝐠𝐥𝐞 𝐄𝐱𝐩𝐫𝐞𝐬𝐬𝐢𝐨𝐧: The body of a lambda function can only contain one expression, and it automatically returns the result of that expression.\\n\\n𝐔𝐬𝐞𝐝 𝐟𝐨𝐫 𝐬𝐡𝐨𝐫𝐭-𝐭𝐞𝐫𝐦 𝐨𝐩𝐞𝐫𝐚𝐭𝐢𝐨𝐧𝐬: 👏 Typically used in situations where a full function definition is not necessary.\\n\\n𝐄𝐱𝐚𝐦𝐩𝐥𝐞 𝐔𝐬𝐞 𝐂𝐚𝐬𝐞𝐬:\\n\\n✅ 𝐒𝐨𝐫𝐭𝐢𝐧𝐠\\n✅ 𝐅𝐢𝐥𝐭𝐞𝐫𝐢𝐧𝐠\\n✅ 𝐌𝐚𝐩𝐩𝐢𝐧𝐠\\n✅ 𝐑𝐞𝐝𝐮𝐜𝐢𝐧𝐠\\n\""
      ]
     },
     "execution_count": 4,
     "metadata": {},
     "output_type": "execute_result"
    }
   ],
   "source": [
    "\"\"\"𝐖𝐡𝐚𝐭 𝐢𝐬 𝐚 𝐥𝐚𝐦𝐛𝐝𝐚 𝐟𝐮𝐧𝐜𝐭𝐢𝐨𝐧 𝐢𝐧 𝐏𝐲𝐭𝐡𝐨𝐧, 𝐚𝐧𝐝 𝐡𝐨𝐰 𝐢𝐬 𝐢𝐭 𝐝𝐢𝐟𝐟𝐞𝐫𝐞𝐧𝐭 𝐟𝐫𝐨𝐦 𝐚 𝐫𝐞𝐠𝐮𝐥𝐚𝐫 𝐟𝐮𝐧𝐜𝐭𝐢𝐨𝐧? 𝐏𝐫𝐨𝐯𝐢𝐝𝐞 𝐚𝐧 𝐞𝐱𝐚𝐦𝐩𝐥𝐞?\n",
    "\n",
    "In Python, a lambda function is an anonymous function that can have any number of arguments but only one expression. It is defined using the lambda keyword, followed by parameters, a colon, and the expression that returns a value.\n",
    "\n",
    "𝐒𝐲𝐧𝐭𝐚𝐱:\n",
    "lambda arguments: expression\n",
    "\n",
    "𝐀𝐧𝐨𝐧𝐲𝐦𝐨𝐮𝐬: Lambda functions are usually unnamed (i.e., they don't need to be assigned to a variable, though they can be).\n",
    "\n",
    "𝐒𝐢𝐧𝐠𝐥𝐞 𝐄𝐱𝐩𝐫𝐞𝐬𝐬𝐢𝐨𝐧: The body of a lambda function can only contain one expression, and it automatically returns the result of that expression.\n",
    "\n",
    "𝐔𝐬𝐞𝐝 𝐟𝐨𝐫 𝐬𝐡𝐨𝐫𝐭-𝐭𝐞𝐫𝐦 𝐨𝐩𝐞𝐫𝐚𝐭𝐢𝐨𝐧𝐬: 👏 Typically used in situations where a full function definition is not necessary.\n",
    "\n",
    "𝐄𝐱𝐚𝐦𝐩𝐥𝐞 𝐔𝐬𝐞 𝐂𝐚𝐬𝐞𝐬:\n",
    "\n",
    "✅ 𝐒𝐨𝐫𝐭𝐢𝐧𝐠\n",
    "✅ 𝐅𝐢𝐥𝐭𝐞𝐫𝐢𝐧𝐠\n",
    "✅ 𝐌𝐚𝐩𝐩𝐢𝐧𝐠\n",
    "✅ 𝐑𝐞𝐝𝐮𝐜𝐢𝐧𝐠\n",
    "\"\"\""
   ]
  },
  {
   "cell_type": "code",
   "execution_count": 6,
   "id": "dcace1ee",
   "metadata": {},
   "outputs": [
    {
     "name": "stdout",
     "output_type": "stream",
     "text": [
      "jumped\n"
     ]
    }
   ],
   "source": [
    " #𝐖𝐫𝐢𝐭𝐞 𝐏𝐲𝐭𝐡𝐨𝐧 𝐟𝐮𝐧𝐜𝐭𝐢𝐨𝐧 𝐭𝐨 𝐟𝐢𝐧𝐝 𝐭𝐡𝐞 𝐥𝐨𝐧𝐠𝐞𝐬𝐭 𝐰𝐨𝐫𝐝 𝐢𝐧 𝐚 𝐠𝐢𝐯𝐞𝐧 𝐬𝐞𝐧𝐭𝐞𝐧𝐜𝐞?\n",
    "    \n",
    "def longest_word(sentence):\n",
    "\twords = sentence.split()\n",
    "\tlongest = max(words, key=len)\n",
    "\treturn longest \n",
    "\t\n",
    "sentence = \"The quick brown fox jumped over the lazy dog\"\n",
    "longest = longest_word(sentence)\n",
    "print(longest)"
   ]
  },
  {
   "cell_type": "code",
   "execution_count": null,
   "id": "1cd8cef9",
   "metadata": {},
   "outputs": [],
   "source": []
  }
 ],
 "metadata": {
  "kernelspec": {
   "display_name": "Python 3 (ipykernel)",
   "language": "python",
   "name": "python3"
  },
  "language_info": {
   "codemirror_mode": {
    "name": "ipython",
    "version": 3
   },
   "file_extension": ".py",
   "mimetype": "text/x-python",
   "name": "python",
   "nbconvert_exporter": "python",
   "pygments_lexer": "ipython3",
   "version": "3.11.4"
  }
 },
 "nbformat": 4,
 "nbformat_minor": 5
}
