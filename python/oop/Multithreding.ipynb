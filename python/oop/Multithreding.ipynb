{
 "cells": [
  {
   "cell_type": "markdown",
   "id": "7ee2cb39",
   "metadata": {},
   "source": [
    "A thread is an entity within a process that can be scheduled for execution. Also, it is the smallest unit of processing that can be performed in an OS (Operating System). In simple words, a thread is a sequence of such instructions within a program that can be executed independently of other code. For simplicity, you can assume that a thread is simply a subset of a process!"
   ]
  },
  {
   "cell_type": "raw",
   "id": "e9ac334a",
   "metadata": {},
   "source": [
    "Multithreading is defined as the ability of a processor to execute multiple threads concurrently. "
   ]
  },
  {
   "cell_type": "code",
   "execution_count": 1,
   "id": "c4a49425",
   "metadata": {},
   "outputs": [],
   "source": [
    "import threading \n",
    "import time"
   ]
  },
  {
   "cell_type": "code",
   "execution_count": 22,
   "id": "5a875351",
   "metadata": {},
   "outputs": [
    {
     "data": {
      "text/plain": [
       "33944.8942606"
      ]
     },
     "execution_count": 22,
     "metadata": {},
     "output_type": "execute_result"
    }
   ],
   "source": [
    "time1 = time.perf_counter()\n",
    "time1"
   ]
  },
  {
   "cell_type": "code",
   "execution_count": 24,
   "id": "92f77fb5",
   "metadata": {},
   "outputs": [
    {
     "name": "stdout",
     "output_type": "stream",
     "text": [
      "spleeping for 4 seconds\n",
      "spleeping for 2 seconds\n",
      "spleeping for 1 seconds\n",
      "execution time:  7.005668199999491\n"
     ]
    }
   ],
   "source": [
    "# normal code \n",
    "\n",
    "def func(seconds):\n",
    "    print(f'spleeping for {seconds} seconds')\n",
    "    time.sleep(seconds)\n",
    "\n",
    "time1 = time.perf_counter()\n",
    "func(4)\n",
    "func(2)\n",
    "func(1)\n",
    "time2 = time.perf_counter()\n",
    "print('execution time: ',time2 - time1)"
   ]
  },
  {
   "cell_type": "code",
   "execution_count": 112,
   "id": "dfbe80d3",
   "metadata": {
    "scrolled": true
   },
   "outputs": [
    {
     "name": "stdout",
     "output_type": "stream",
     "text": [
      "spleeping for 4 seconds\n",
      "spleeping for 2 seconds\n",
      "spleeping for 1 seconds\n",
      "execution time:  0.005240599995886441\n"
     ]
    }
   ],
   "source": [
    "def func(seconds):\n",
    "    print(f'spleeping for {seconds} seconds')\n",
    "    time.sleep(seconds)\n",
    "    \n",
    "time1 = time.perf_counter()\n",
    "\n",
    "t1 = threading.Thread(target = func, args = [4])\n",
    "t2 = threading.Thread(target = func, args = [2])\n",
    "t3 = threading.Thread(target = func, args = [1])\n",
    "\n",
    "t1.start()          # process just started not ended. \n",
    "t2.start()\n",
    "\n",
    "t3.start()\n",
    "\n",
    "time2 = time.perf_counter()\n",
    "print('execution time: ',time2 - time1)"
   ]
  },
  {
   "cell_type": "code",
   "execution_count": null,
   "id": "7425d2a5",
   "metadata": {},
   "outputs": [],
   "source": []
  },
  {
   "cell_type": "code",
   "execution_count": 114,
   "id": "d3872f75",
   "metadata": {},
   "outputs": [
    {
     "name": "stdout",
     "output_type": "stream",
     "text": [
      "spleeping for 4 seconds\n",
      "spleeping for 2 seconds\n",
      "spleeping for 1 seconds\n",
      "execution time:  4.008838299996569\n"
     ]
    }
   ],
   "source": [
    "def func(seconds):\n",
    "    print(f'spleeping for {seconds} seconds')\n",
    "    time.sleep(seconds)\n",
    "    \n",
    "time1 = time.perf_counter()\n",
    "\n",
    "t1 = threading.Thread(target = func, args = [4])\n",
    "t2 = threading.Thread(target = func, args = [2])\n",
    "t3 = threading.Thread(target = func, args = [1])\n",
    "\n",
    "t1.start()          # process just started not ended. \n",
    "t2.start()\n",
    "t3.start() \n",
    "\n",
    "t1.join()          # process ended. \n",
    "t2.join()\n",
    "t3.join()\n",
    "\n",
    "time2 = time.perf_counter()\n",
    "print('execution time: ',time2 - time1)"
   ]
  },
  {
   "cell_type": "code",
   "execution_count": null,
   "id": "8d353e34",
   "metadata": {},
   "outputs": [],
   "source": []
  },
  {
   "cell_type": "code",
   "execution_count": 117,
   "id": "23875390",
   "metadata": {},
   "outputs": [
    {
     "name": "stdout",
     "output_type": "stream",
     "text": [
      "spleeping for 3 seconds\n",
      "spleeping for 5 seconds\n",
      "spleeping for 2 seconds\n",
      "spleeping for 1 seconds\n",
      "None\n",
      "None\n",
      "None\n",
      "None\n"
     ]
    }
   ],
   "source": [
    "from concurrent.futures import ThreadPoolExecutor\n",
    "\n",
    "def func(seconds):\n",
    "    print(f'spleeping for {seconds} seconds')\n",
    "    time.sleep(seconds) \n",
    "    \n",
    "def main():\n",
    "    time1 = time.perf_counter() \n",
    "    \n",
    "    t1 = threading.Thread(target = func, args = [4])\n",
    "    t2 = threading.Thread(target = func, args = [2])\n",
    "    t3 = threading.Thread(target = func, args = [1])\n",
    "\n",
    "    t1.start()          # process just started not ended. \n",
    "    t2.start()\n",
    "    t3.start() \n",
    "\n",
    "    t1.join()          # process ended. \n",
    "    t2.join()\n",
    "    t3.join()\n",
    "    \n",
    "    time2 = time.perf_counter()\n",
    "    print('execution time: ',time1 - time2)\n",
    "    \n",
    "def PoolingDemo():\n",
    "    with ThreadPoolExecutor() as executor:\n",
    "        l = [3, 5,2, 1]\n",
    "        results = executor.map(func, l)\n",
    "        \n",
    "        for result in results:\n",
    "            print(result)\n",
    "PoolingDemo()"
   ]
  },
  {
   "cell_type": "code",
   "execution_count": null,
   "id": "731c3213",
   "metadata": {},
   "outputs": [],
   "source": []
  }
 ],
 "metadata": {
  "kernelspec": {
   "display_name": "Python 3 (ipykernel)",
   "language": "python",
   "name": "python3"
  },
  "language_info": {
   "codemirror_mode": {
    "name": "ipython",
    "version": 3
   },
   "file_extension": ".py",
   "mimetype": "text/x-python",
   "name": "python",
   "nbconvert_exporter": "python",
   "pygments_lexer": "ipython3",
   "version": "3.11.4"
  }
 },
 "nbformat": 4,
 "nbformat_minor": 5
}
