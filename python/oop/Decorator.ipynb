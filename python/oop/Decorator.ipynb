{
 "cells": [
  {
   "cell_type": "markdown",
   "id": "adac80d0",
   "metadata": {},
   "source": [
    "Decorator are a very powerful and useful tool in python since it allows progammers to modify the behavior of a function or class. Decorators allow us to wrap another function in order to extend the behaviour of the wrapped function, without permanently modifying it. "
   ]
  },
  {
   "cell_type": "code",
   "execution_count": null,
   "id": "db4207ad",
   "metadata": {},
   "outputs": [],
   "source": []
  },
  {
   "cell_type": "code",
   "execution_count": 4,
   "id": "00fcb6de",
   "metadata": {},
   "outputs": [
    {
     "name": "stdout",
     "output_type": "stream",
     "text": [
      "HELLO\n",
      "HI\n"
     ]
    }
   ],
   "source": [
    "# function as object \n",
    "def shout(tx): return tx.upper()\n",
    "print(shout('hello'))\n",
    "# or\n",
    "y = shout('hi')\n",
    "print(y)"
   ]
  },
  {
   "cell_type": "code",
   "execution_count": null,
   "id": "a6627cb6",
   "metadata": {},
   "outputs": [],
   "source": []
  },
  {
   "cell_type": "code",
   "execution_count": 11,
   "id": "b59e5a34",
   "metadata": {},
   "outputs": [
    {
     "name": "stdout",
     "output_type": "stream",
     "text": [
      "HI, ALL THE BEST!\n",
      "hi, all the best!\n"
     ]
    }
   ],
   "source": [
    "# Functions can be passed as arguments to other functions. \n",
    "\n",
    "def shout(tx):\n",
    "    return tx.upper()\n",
    "\n",
    "def wh(tx):\n",
    "    return tx.lower()\n",
    "\n",
    "def grt(func):\n",
    "    gr = func('Hi, All the best!')\n",
    "    print(gr)\n",
    "\n",
    "grt(shout)\n",
    "grt(wh)"
   ]
  },
  {
   "cell_type": "code",
   "execution_count": 6,
   "id": "d9c5002a",
   "metadata": {},
   "outputs": [
    {
     "data": {
      "text/plain": [
       "20"
      ]
     },
     "execution_count": 6,
     "metadata": {},
     "output_type": "execute_result"
    }
   ],
   "source": [
    "# functions can return another function\n",
    "\n",
    "def n_add(x):\n",
    "    def adder(y):\n",
    "        return x+y\n",
    "    return adder\n",
    "ad = n_add(15)\n",
    "ad(5)"
   ]
  },
  {
   "cell_type": "code",
   "execution_count": null,
   "id": "0ea8c29e",
   "metadata": {},
   "outputs": [],
   "source": []
  },
  {
   "cell_type": "code",
   "execution_count": 8,
   "id": "b5e84ae1",
   "metadata": {},
   "outputs": [
    {
     "name": "stdout",
     "output_type": "stream",
     "text": [
      "before exec\n",
      "this is inside func\n",
      "after exec\n"
     ]
    }
   ],
   "source": [
    "# defining a decorator\n",
    "\n",
    "def hello_decorator(func):\n",
    "    \n",
    "        # inner1 is a Wrapper function in which the argument is called\n",
    "    # inner function can access the outer localfunctions like in this case \"func\"\n",
    "    def inner1():\n",
    "        print('before exec')\n",
    "        func()\n",
    "        print('after exec')\n",
    "    return inner1\n",
    "\n",
    "@hello_decorator\n",
    "def func_to():\n",
    "    print('this is inside func')\n",
    "    \n",
    "# passing 'function_to_be_used' inside the decorator to control its behaviour\n",
    "\n",
    "#a = hello_decorator(func_to)\n",
    "#a()\n",
    "func_to()"
   ]
  },
  {
   "cell_type": "markdown",
   "id": "9ed8a89c",
   "metadata": {},
   "source": [
    "class based decorators \n",
    "\n",
    "A decorator can also be defined as a class instead of a method. This is useful for maintaining and updating a state, such as in the following example, where we count the number of calls made to a method:"
   ]
  },
  {
   "cell_type": "code",
   "execution_count": null,
   "id": "150e291d",
   "metadata": {},
   "outputs": [],
   "source": []
  },
  {
   "cell_type": "code",
   "execution_count": 25,
   "id": "9c115c83",
   "metadata": {},
   "outputs": [
    {
     "name": "stdout",
     "output_type": "stream",
     "text": [
      "This is execution number 1\n",
      "Hi My name is jacky\n",
      "This is execution number 2\n",
      "Hi My name is james\n"
     ]
    }
   ],
   "source": [
    "class CountCallNumber:\n",
    "    def __init__(self, func):\n",
    "        self.func = func\n",
    "        self.call_number = 0 \n",
    "        \n",
    "    def __call__(self, *args, **kwargs):\n",
    "        self.call_number += 1 \n",
    "        print('This is execution number '+str(self.call_number))\n",
    "        return self.func(*args, **kwargs)\n",
    "\n",
    "@CountCallNumber\n",
    "def say_hi(name):\n",
    "    print('Hi My name is ' + name)\n",
    "\n",
    "say_hi('jacky')\n",
    "say_hi('james')"
   ]
  },
  {
   "cell_type": "code",
   "execution_count": 5,
   "id": "f8cc7a8d",
   "metadata": {},
   "outputs": [
    {
     "name": "stdout",
     "output_type": "stream",
     "text": [
      "1724000653.7755444\n",
      "24\n",
      "1724000655.7826824\n",
      "total time taken in :  factorial 2.0071380138397217\n"
     ]
    }
   ],
   "source": [
    "import time \n",
    "import math \n",
    "\n",
    "def cal_time(func):\n",
    "    def inner1(*args, **kwargs):\n",
    "        begin = time.time()\n",
    "        print(begin)\n",
    "        func(*args, **kwargs)\n",
    "        end = time.time()\n",
    "        print(end)\n",
    "        print('total time taken in : ', func.__name__, end - begin)\n",
    "    return inner1 \n",
    "\n",
    "@cal_time\n",
    "def factorial(num):\n",
    "    time.sleep(2)\n",
    "    print(math.factorial(num))\n",
    "    \n",
    "factorial(4)"
   ]
  },
  {
   "cell_type": "code",
   "execution_count": null,
   "id": "ab695e0d",
   "metadata": {},
   "outputs": [],
   "source": []
  },
  {
   "cell_type": "code",
   "execution_count": 29,
   "id": "926b81ad",
   "metadata": {},
   "outputs": [
    {
     "name": "stdout",
     "output_type": "stream",
     "text": [
      "before execution\n",
      "Inside the function\n",
      "after execution\n"
     ]
    },
    {
     "data": {
      "text/plain": [
       "3"
      ]
     },
     "execution_count": 29,
     "metadata": {},
     "output_type": "execute_result"
    }
   ],
   "source": [
    "def hello_decorator(func):\n",
    "    def inner1(*args, **kwargs):\n",
    "        print('before execution')\n",
    "        returned_value = func(*args, **kwargs)\n",
    "        print('after execution')\n",
    "        return returned_value\n",
    "    return inner1\n",
    "\n",
    "@hello_decorator\n",
    "def sum_two_numbers(a, b):\n",
    "    print('Inside the function')\n",
    "    return a+b\n",
    "\n",
    "a, b = 1, 2 \n",
    "sum_two_numbers(a, b)"
   ]
  },
  {
   "cell_type": "markdown",
   "id": "5ffae479",
   "metadata": {},
   "source": [
    "# Chaining Decorators"
   ]
  },
  {
   "cell_type": "code",
   "execution_count": 30,
   "id": "a427f24a",
   "metadata": {},
   "outputs": [
    {
     "name": "stdout",
     "output_type": "stream",
     "text": [
      "400\n",
      "200\n"
     ]
    }
   ],
   "source": [
    "def decor1(func):\n",
    "    def inner():\n",
    "        x = func()\n",
    "        return x* x\n",
    "    return inner\n",
    "\n",
    "def decor(func):\n",
    "    def inner():\n",
    "        x = func()\n",
    "        return 2* x \n",
    "    return inner \n",
    "\n",
    "@decor1         # decor1(decor(num))\n",
    "@decor\n",
    "def num():\n",
    "    return 10 \n",
    "\n",
    "@decor\n",
    "@decor1\n",
    "def num2():\n",
    "    return 10\n",
    "\n",
    "print(num())\n",
    "print(num2())"
   ]
  },
  {
   "cell_type": "code",
   "execution_count": null,
   "id": "5b49f933",
   "metadata": {},
   "outputs": [],
   "source": []
  }
 ],
 "metadata": {
  "kernelspec": {
   "display_name": "Python 3 (ipykernel)",
   "language": "python",
   "name": "python3"
  },
  "language_info": {
   "codemirror_mode": {
    "name": "ipython",
    "version": 3
   },
   "file_extension": ".py",
   "mimetype": "text/x-python",
   "name": "python",
   "nbconvert_exporter": "python",
   "pygments_lexer": "ipython3",
   "version": "3.11.4"
  }
 },
 "nbformat": 4,
 "nbformat_minor": 5
}
