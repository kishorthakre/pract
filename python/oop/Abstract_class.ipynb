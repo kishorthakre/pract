{
 "cells": [
  {
   "cell_type": "markdown",
   "id": "f2731e23",
   "metadata": {},
   "source": [
    "\"\"\"A class that contains one or more abstract methods is called an abstract class. A abstract method is a method that has a declaration but does not have an implementation.\"\"\""
   ]
  },
  {
   "cell_type": "markdown",
   "id": "bb3c26c2",
   "metadata": {},
   "source": [
    "By default, python doest not provide abstract classess. Python comes with a module that provides the base for defining Abstract Base classes(ABC) and that module name is ABC.\n",
    "\n",
    "ABC works by decorating methods of the base class as an abstract and then registering concrete classes a implementations of the abstract base. A method becomes abstract when decorated with the keyword @abstractmethod. "
   ]
  },
  {
   "cell_type": "markdown",
   "id": "1cd4c3ed",
   "metadata": {},
   "source": [
    "It's a way for the designer of the Abstract class to say \"any child of mine MUST implement this method\"."
   ]
  },
  {
   "cell_type": "markdown",
   "id": "07581885",
   "metadata": {},
   "source": [
    "Forcing Implementation: Abstract methods are declared in the abstract class without any implementation. Subclasses are required to provide concrete implementations for these methods. This ensures that specific behavior is implemented in each subclass."
   ]
  },
  {
   "cell_type": "markdown",
   "id": "52b8d5fa",
   "metadata": {},
   "source": [
    "Abstraction: Abstract classes and methods provide a way to define a blueprint or template for a class without providing a complete implementation. This allows you to create a high-level abstract representation of an object or concept in your code.\n",
    "\n",
    "Enforce Structure: Abstract classes enforce a certain structure or contract that concrete subclasses must adhere to. This can help ensure that subclasses implement specific methods and attributes, making the code more reliable and maintainable.\n",
    "\n",
    "Polymorphism: Abstract classes and methods enable polymorphism, which is a core principle of object-oriented programming. Polymorphism allows you to write code that can work with objects of different classes as long as they implement the same abstract methods. This promotes code reuse and flexibility.\n",
    "\n",
    "\n",
    "Code Organization: Abstract classes can help organize your code by grouping related classes and methods together under a common abstraction. This can improve code readability and maintainability by providing a clear structure.\n",
    "\n",
    "Extensibility: Abstract classes can be extended by creating new subclasses that inherit the abstract methods. This allows you to add new functionality or features to your application by creating new subclasses without modifying existing code.\n",
    "\n",
    "Testing: Abstract classes can be useful for testing and mocking in unit testing scenarios. You can create mock subclasses to test the behavior of classes that depend on the abstract class without relying on actual implementations."
   ]
  },
  {
   "cell_type": "code",
   "execution_count": null,
   "id": "e6b80f1d",
   "metadata": {},
   "outputs": [],
   "source": []
  },
  {
   "cell_type": "code",
   "execution_count": 4,
   "id": "426e1b5f",
   "metadata": {},
   "outputs": [
    {
     "name": "stdout",
     "output_type": "stream",
     "text": [
      "I have 3 sides\n",
      "I have 5 sides\n"
     ]
    }
   ],
   "source": [
    "from abc import ABC, abstractmethod\n",
    "\n",
    "class Polygon(ABC):\n",
    "    @abstractmethod\n",
    "    def noofsides(self):\n",
    "        pass \n",
    "    \n",
    "class Triangle(Polygon):\n",
    "    # overriding abstract method\n",
    "    def noofsides(self):\n",
    "        print('I have 3 sides')\n",
    "        \n",
    "class Pentagon(Polygon):\n",
    "    def noofsides(self):\n",
    "        print('I have 5 sides')\n",
    "        \n",
    "T = Triangle()\n",
    "P = Pentagon()\n",
    "T.noofsides()\n",
    "P.noofsides()"
   ]
  },
  {
   "cell_type": "code",
   "execution_count": null,
   "id": "56c7a23a",
   "metadata": {},
   "outputs": [],
   "source": []
  },
  {
   "cell_type": "code",
   "execution_count": 12,
   "id": "7416f737",
   "metadata": {},
   "outputs": [
    {
     "data": {
      "text/plain": [
       "30"
      ]
     },
     "execution_count": 12,
     "metadata": {},
     "output_type": "execute_result"
    }
   ],
   "source": [
    "class shape(ABC):\n",
    "    @abstractmethod\n",
    "    def printarea(self):\n",
    "        return 0 \n",
    "    \n",
    "class rectangle(shape):\n",
    "    type = 'rectangle'\n",
    "    sides = 4 \n",
    "\n",
    "    def __init__(self):\n",
    "        self.length=5\n",
    "        self.breadth = 6\n",
    "        \n",
    "    def printarea(self):\n",
    "        return self.length * self.breadth\n",
    "    def pri(self):\n",
    "        print('hi')\n",
    "    \n",
    "k = rectangle()\n",
    "k.printarea()"
   ]
  },
  {
   "cell_type": "code",
   "execution_count": null,
   "id": "306b7dd7",
   "metadata": {},
   "outputs": [],
   "source": []
  },
  {
   "cell_type": "code",
   "execution_count": 4,
   "id": "e2197411",
   "metadata": {},
   "outputs": [
    {
     "name": "stdout",
     "output_type": "stream",
     "text": [
      "Brancd: Maruti\n",
      "Model: Alto\n",
      "Year: 2022\n",
      "speed up...\n",
      "Not having this feature\n"
     ]
    }
   ],
   "source": [
    "from abc import ABC, abstractmethod \n",
    "\n",
    "# create Abstract base class \n",
    "class Car(ABC):\n",
    "    def __init__(self, brand, model, year):\n",
    "        self.brand = brand\n",
    "        self.model = model \n",
    "        self.year = year \n",
    "    \n",
    "    # Create abstract method \n",
    "    @abstractmethod \n",
    "    def printDetails(self):\n",
    "        pass \n",
    "    # Create concrete method \n",
    "    def accelerate(self):\n",
    "        print('speed up...')\n",
    "    \n",
    "    def break_applied(self):\n",
    "        print('Car stopped')\n",
    "        \n",
    "# Create a child class \n",
    "class Hatchback(Car):\n",
    "    def printDetails(self):\n",
    "        print('Brancd:', self.brand)\n",
    "        print('Model:', self.model)\n",
    "        print('Year:', self.year)\n",
    "        \n",
    "    def sunroof(self):\n",
    "        print('Not having this feature')\n",
    "        \n",
    "# Create a child class \n",
    "class Suv(Car):\n",
    "    def printDetails(self):\n",
    "        print('Brancd:', self.brand)\n",
    "        print('Model:', self.model)\n",
    "        print('Year:', self.year)        \n",
    "        \n",
    "    def sunroof(self):\n",
    "        print('Not having this feature')\n",
    "        \n",
    "# Create an instance of the Hatchback class \n",
    "car1 = Hatchback('Maruti', 'Alto', '2022')\n",
    "#call method \n",
    "car1.printDetails()\n",
    "car1.accelerate()\n",
    "car1.sunroof()"
   ]
  },
  {
   "cell_type": "code",
   "execution_count": null,
   "id": "9cce2ffe",
   "metadata": {},
   "outputs": [],
   "source": []
  }
 ],
 "metadata": {
  "kernelspec": {
   "display_name": "Python 3 (ipykernel)",
   "language": "python",
   "name": "python3"
  },
  "language_info": {
   "codemirror_mode": {
    "name": "ipython",
    "version": 3
   },
   "file_extension": ".py",
   "mimetype": "text/x-python",
   "name": "python",
   "nbconvert_exporter": "python",
   "pygments_lexer": "ipython3",
   "version": "3.11.4"
  }
 },
 "nbformat": 4,
 "nbformat_minor": 5
}
