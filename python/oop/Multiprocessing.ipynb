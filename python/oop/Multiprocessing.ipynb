{
 "cells": [
  {
   "cell_type": "raw",
   "id": "dd2073df",
   "metadata": {},
   "source": [
    "Multiprocessing is a python module that provides a simple way to run multiple processes in parallel. It allows you to take advantage of multiple cores or processors on your system and can significantly improve the performance of your code. "
   ]
  },
  {
   "cell_type": "raw",
   "id": "6740af28",
   "metadata": {},
   "source": [
    "Multiprocessing refers to the ability of a system to support more than one processor at the same time. Applications in a multiiprocessing system are broken to smaller routines that run independently. The operating system allocates these threads to the processors improving performance of the system. "
   ]
  },
  {
   "cell_type": "raw",
   "id": "bfbd907d",
   "metadata": {},
   "source": [
    "Consider a computer system with a single processor. If it is assigned several processes at the same time, it will have to interrupt each task and switch briefly to another, to keep all of the processes going. \n",
    "This situation is just like a chef working in a kitchen alone. He has to do several tasks like baking, stirring, kneading dough, etc. \n",
    "So the gist is that: The more tasks you must do at once, the more difficult it gets to keep track of them all, and keeping the timinig right becomes more of a challenge. \n",
    "\n",
    "This is where the concept of multiprecessing arises!\n",
    "A multiprocessing system can have:\n",
    "Multiprocessor, i.e. a computer with more than one central processor. \n",
    "multi-core processor, i.e. a single computing component with two or more independent actual processing units(called 'cores')."
   ]
  },
  {
   "cell_type": "code",
   "execution_count": 1,
   "id": "c6cbaa79",
   "metadata": {},
   "outputs": [
    {
     "name": "stdout",
     "output_type": "stream",
     "text": [
      "done\n"
     ]
    }
   ],
   "source": [
    "import multiprocessing\n",
    "\n",
    "def print_cube(num):\n",
    "    print('cube: {}'.format(num*num*num))\n",
    "    \n",
    "def print_square(num):\n",
    "    print('Square: {}'.format(num * num))\n",
    "    \n",
    "if __name__ == \"__main__\":\n",
    "    p1 = multiprocessing.Process(target=print_square, args=(10,))\n",
    "    p2 = multiprocessing.Process(target=print_cube, args=(10,))\n",
    "    \n",
    "    p1.start()\n",
    "    p2.start()\n",
    "    p1.join()\n",
    "    p2.join()\n",
    "    \n",
    "    print('done')"
   ]
  },
  {
   "cell_type": "code",
   "execution_count": 4,
   "id": "dfe9a227",
   "metadata": {},
   "outputs": [
    {
     "data": {
      "text/plain": [
       "[<Process name='Process-23' pid=21532 parent=16716 stopped exitcode=1>,\n",
       " <Process name='Process-24' pid=21568 parent=16716 stopped exitcode=1>,\n",
       " <Process name='Process-25' pid=17064 parent=16716 stopped exitcode=1>,\n",
       " <Process name='Process-26' pid=17004 parent=16716 stopped exitcode=1>,\n",
       " <Process name='Process-27' pid=5440 parent=16716 stopped exitcode=1>,\n",
       " <Process name='Process-28' pid=18808 parent=16716 stopped exitcode=1>,\n",
       " <Process name='Process-29' pid=21216 parent=16716 stopped exitcode=1>,\n",
       " <Process name='Process-30' pid=23120 parent=16716 stopped exitcode=1>,\n",
       " <Process name='Process-31' pid=24624 parent=16716 stopped exitcode=1>,\n",
       " <Process name='Process-32' pid=5764 parent=16716 stopped exitcode=1>]"
      ]
     },
     "execution_count": 4,
     "metadata": {},
     "output_type": "execute_result"
    }
   ],
   "source": [
    "def print_cube(num):\n",
    "    print('started')\n",
    "    print('cube: {}'.format(num*num*num))\n",
    "    print('ended')\n",
    "    \n",
    "pr = [] \n",
    "for i in range(10):\n",
    "    p = multiprocessing.Process(target=print_cube, args = (i,))\n",
    "    p.start()\n",
    "    pr.append(p)\n",
    "    \n",
    "for p in pr:\n",
    "    p.join()\n",
    "    \n",
    "pr"
   ]
  },
  {
   "cell_type": "code",
   "execution_count": null,
   "id": "2fec814d",
   "metadata": {},
   "outputs": [],
   "source": []
  }
 ],
 "metadata": {
  "kernelspec": {
   "display_name": "Python 3 (ipykernel)",
   "language": "python",
   "name": "python3"
  },
  "language_info": {
   "codemirror_mode": {
    "name": "ipython",
    "version": 3
   },
   "file_extension": ".py",
   "mimetype": "text/x-python",
   "name": "python",
   "nbconvert_exporter": "python",
   "pygments_lexer": "ipython3",
   "version": "3.11.4"
  }
 },
 "nbformat": 4,
 "nbformat_minor": 5
}
