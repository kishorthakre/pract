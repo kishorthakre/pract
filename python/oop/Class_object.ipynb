{
 "cells": [
  {
   "cell_type": "markdown",
   "id": "30a80c11",
   "metadata": {},
   "source": [
    "### str() method"
   ]
  },
  {
   "cell_type": "code",
   "execution_count": 1,
   "id": "2c1d1969",
   "metadata": {},
   "outputs": [
    {
     "name": "stdout",
     "output_type": "stream",
     "text": [
      "my name is kishor and I work in capgemini company.\n"
     ]
    }
   ],
   "source": [
    "class gfg:\n",
    "    def __init__(self, name,company):\n",
    "        self.name = name \n",
    "        self.company = company \n",
    "        \n",
    "    def __str__(self):\n",
    "        return f'my name is {self.name} and I work in {self.company} company.'\n",
    "    \n",
    "obj = gfg('kishor', 'capgemini')\n",
    "print(obj)"
   ]
  },
  {
   "cell_type": "code",
   "execution_count": 7,
   "id": "998180e0",
   "metadata": {},
   "outputs": [],
   "source": [
    "#default constructor "
   ]
  },
  {
   "cell_type": "code",
   "execution_count": 8,
   "id": "420ab000",
   "metadata": {},
   "outputs": [
    {
     "name": "stdout",
     "output_type": "stream",
     "text": [
      "Pune\n"
     ]
    }
   ],
   "source": [
    "class gfg:\n",
    "    \n",
    "    #default constructor \n",
    "    def __init__(self):\n",
    "        self.city = 'Pune'\n",
    "        \n",
    "    # a method for printing data members \n",
    "    def show(self):\n",
    "        print(self.city)\n",
    "        \n",
    "obj = gfg()\n",
    "obj.show()"
   ]
  },
  {
   "cell_type": "code",
   "execution_count": 9,
   "id": "16d5db50",
   "metadata": {},
   "outputs": [],
   "source": [
    "# parameterized constructor"
   ]
  },
  {
   "cell_type": "code",
   "execution_count": 11,
   "id": "28973565",
   "metadata": {},
   "outputs": [
    {
     "name": "stdout",
     "output_type": "stream",
     "text": [
      "First number= 1000\n",
      "second number= 2000\n",
      "Addition of two numbers = 3000\n"
     ]
    }
   ],
   "source": [
    "class Addition:\n",
    "    \n",
    "    # parameterized constructor \n",
    "    def __init__(self, f, s):\n",
    "        self.first = f \n",
    "        self.second = s \n",
    "        \n",
    "    def calculate(self):\n",
    "        self.answer = self.first + self.second \n",
    "        \n",
    "    def display(self):\n",
    "        print('First number= '+str(self.first))\n",
    "        print('second number= '+str(self.second))\n",
    "        print('Addition of two numbers = '+str(self.answer))\n",
    "        \n",
    "ob1 = Addition(1000, 2000)\n",
    "ob1.calculate()\n",
    "ob1.display()"
   ]
  },
  {
   "cell_type": "code",
   "execution_count": 12,
   "id": "c0ca6e6c",
   "metadata": {},
   "outputs": [],
   "source": [
    "# default constructor and parameterized constructor "
   ]
  },
  {
   "cell_type": "code",
   "execution_count": 14,
   "id": "0e8e8990",
   "metadata": {},
   "outputs": [
    {
     "name": "stdout",
     "output_type": "stream",
     "text": [
      "default constructor\n",
      "Method called without a name\n",
      "\n",
      "Parameterized constructor called with name  kisor\n",
      "Method called with a name  kisor\n"
     ]
    }
   ],
   "source": [
    "class Myclass:\n",
    "    def __init__(self, name = None):\n",
    "        if name is None:\n",
    "            print('default constructor')\n",
    "        else:\n",
    "            self.name = name \n",
    "            print('Parameterized constructor called with name ', self.name)\n",
    "            \n",
    "    def show(self):\n",
    "        if hasattr(self, 'name'):\n",
    "            print('Method called with a name ', self.name)\n",
    "        else:\n",
    "            print(\"Method called without a name\")\n",
    "\n",
    "obj = Myclass()\n",
    "obj.show()\n",
    "print()\n",
    "\n",
    "ob = Myclass('kisor')\n",
    "ob.show()"
   ]
  },
  {
   "cell_type": "code",
   "execution_count": null,
   "id": "bf9045b9",
   "metadata": {},
   "outputs": [],
   "source": []
  },
  {
   "cell_type": "code",
   "execution_count": 15,
   "id": "1176f96f",
   "metadata": {},
   "outputs": [
    {
     "name": "stdout",
     "output_type": "stream",
     "text": [
      "dog\n",
      "pav\n",
      "red\n"
     ]
    },
    {
     "data": {
      "text/plain": [
       "'cat'"
      ]
     },
     "execution_count": 15,
     "metadata": {},
     "output_type": "execute_result"
    }
   ],
   "source": [
    "class Dog:\n",
    "    #class variable \n",
    "    animal = 'dog'\n",
    "    \n",
    "    # The init method or constructor \n",
    "    def __init__(self, breed, color):\n",
    "        self.breed = breed          # Instance Variable \n",
    "        self.color = color \n",
    "        \n",
    "    def printt(self):\n",
    "        print(animal)\n",
    "        \n",
    "o1 = Dog('pav', 'red')        \n",
    "print(o1.animal)\n",
    "print(o1.breed)\n",
    "print(o1.color)\n",
    "o1.animal = 'cat'\n",
    "o1.animal"
   ]
  },
  {
   "cell_type": "code",
   "execution_count": null,
   "id": "d7278a5e",
   "metadata": {},
   "outputs": [],
   "source": []
  }
 ],
 "metadata": {
  "kernelspec": {
   "display_name": "Python 3 (ipykernel)",
   "language": "python",
   "name": "python3"
  },
  "language_info": {
   "codemirror_mode": {
    "name": "ipython",
    "version": 3
   },
   "file_extension": ".py",
   "mimetype": "text/x-python",
   "name": "python",
   "nbconvert_exporter": "python",
   "pygments_lexer": "ipython3",
   "version": "3.11.4"
  }
 },
 "nbformat": 4,
 "nbformat_minor": 5
}
