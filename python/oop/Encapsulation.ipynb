{
 "cells": [
  {
   "cell_type": "markdown",
   "id": "c4475e58",
   "metadata": {},
   "source": [
    "Hiding implementation details (keep internal functionality & attribute hidden)\n",
    "\n",
    "Encapsulation is a fundamental principle in object-oriented programming that focuses on bundling data and the methods that operate on the data into a single unit called a class. \n",
    "\n",
    "It allows you to control the access and visibility of the data (attribute) and methods, providing a way to pretect and organize your code. "
   ]
  },
  {
   "cell_type": "markdown",
   "id": "37c2f0c6",
   "metadata": {},
   "source": [
    "Encapsulation is the process of preventing clients from accessing certain properties, which can only be accessed through specific methods. \n",
    "Encapsulation is the packing of data and functions that work on that data withing a single object. \n"
   ]
  },
  {
   "cell_type": "markdown",
   "id": "2ad6dc3a",
   "metadata": {},
   "source": [
    "Public\n",
    "Protected \n",
    "Provate"
   ]
  },
  {
   "cell_type": "markdown",
   "id": "4e807ddb",
   "metadata": {},
   "source": [
    "# Public Member"
   ]
  },
  {
   "cell_type": "markdown",
   "id": "c41e81d5",
   "metadata": {},
   "source": [
    "Public data members are accessible within and outside of a class"
   ]
  },
  {
   "cell_type": "code",
   "execution_count": 1,
   "id": "c5a1af3b",
   "metadata": {},
   "outputs": [
    {
     "name": "stdout",
     "output_type": "stream",
     "text": [
      "Name:  Kishor Salary: 100\n",
      "name:  Kishor Salary: 100\n"
     ]
    }
   ],
   "source": [
    "class Employee:\n",
    "    #constructor\n",
    "    def __init__(self, name, salary):\n",
    "        #public data members\n",
    "        self.name = name \n",
    "        self.salary = salary \n",
    "        \n",
    "    #public instance methods \n",
    "    def show(self):\n",
    "        #accessing public data member\n",
    "        print(\"name: \", self.name, 'Salary:', self.salary)\n",
    "        \n",
    "emp = Employee('Kishor', 100)\n",
    "#accessing public data member\n",
    "print('Name: ', emp.name, 'Salary:', emp.salary)\n",
    "emp.show()"
   ]
  },
  {
   "cell_type": "code",
   "execution_count": null,
   "id": "bd10aeae",
   "metadata": {},
   "outputs": [],
   "source": []
  },
  {
   "cell_type": "markdown",
   "id": "07cb871f",
   "metadata": {},
   "source": [
    "# Private Member  "
   ]
  },
  {
   "cell_type": "markdown",
   "id": "2e7e9a77",
   "metadata": {},
   "source": [
    "=Access Modifier \n",
    "Private members are accessible only within the class, and we can't access them directly from the class objects. "
   ]
  },
  {
   "cell_type": "code",
   "execution_count": 4,
   "id": "8d652689",
   "metadata": {},
   "outputs": [
    {
     "ename": "AttributeError",
     "evalue": "'Employee' object has no attribute '__salary'",
     "output_type": "error",
     "traceback": [
      "\u001b[1;31m---------------------------------------------------------------------------\u001b[0m",
      "\u001b[1;31mAttributeError\u001b[0m                            Traceback (most recent call last)",
      "Cell \u001b[1;32mIn[4], line 8\u001b[0m\n\u001b[0;32m      6\u001b[0m         \u001b[38;5;28mself\u001b[39m\u001b[38;5;241m.\u001b[39m__salary \u001b[38;5;241m=\u001b[39m salary \n\u001b[0;32m      7\u001b[0m emp \u001b[38;5;241m=\u001b[39m Employee(\u001b[38;5;124m\"\u001b[39m\u001b[38;5;124mkishor\u001b[39m\u001b[38;5;124m\"\u001b[39m, \u001b[38;5;241m100\u001b[39m)\n\u001b[1;32m----> 8\u001b[0m emp\u001b[38;5;241m.\u001b[39m__salary\n",
      "\u001b[1;31mAttributeError\u001b[0m: 'Employee' object has no attribute '__salary'"
     ]
    }
   ],
   "source": [
    "class Employee:\n",
    "    def __init__(self, name, salary):\n",
    "        # public data member\n",
    "        self.name = name \n",
    "        # private member \n",
    "        self.__salary = salary \n",
    "emp = Employee(\"kishor\", 100)\n",
    "emp.__salary"
   ]
  },
  {
   "cell_type": "code",
   "execution_count": 5,
   "id": "991fcba4",
   "metadata": {},
   "outputs": [],
   "source": [
    "# Access Private member outside of a class using an instance method "
   ]
  },
  {
   "cell_type": "code",
   "execution_count": 7,
   "id": "e49758cb",
   "metadata": {},
   "outputs": [
    {
     "name": "stdout",
     "output_type": "stream",
     "text": [
      "the person is Kishor and the age is 28\n"
     ]
    }
   ],
   "source": [
    "class Person:\n",
    "    def __init__(self, name, age):\n",
    "        self.__name = name \n",
    "        self.__age = age \n",
    "        \n",
    "    # instance method \n",
    "    def display(self):\n",
    "        print(f'the person is {self.__name} and the age is {self.__age}')\n",
    "        \n",
    "P = Person('Kishor', 28)\n",
    "P.display()"
   ]
  },
  {
   "cell_type": "code",
   "execution_count": 8,
   "id": "ba24b6a8",
   "metadata": {},
   "outputs": [
    {
     "name": "stdout",
     "output_type": "stream",
     "text": [
      "Name: kishor\n",
      "Salary:  100\n"
     ]
    }
   ],
   "source": [
    "# Name Mangling to access private members \n",
    "\n",
    "class Employee:\n",
    "    def __init__(self, name, salary):\n",
    "        # public data member\n",
    "        self.name = name \n",
    "        # private member \n",
    "        self.__salary = salary \n",
    "        \n",
    "emp = Employee(\"kishor\", 100)\n",
    "print('Name:', emp.name)\n",
    "\n",
    "# direct access to private member using name mangling \n",
    "print('Salary: ', emp._Employee__salary)"
   ]
  },
  {
   "cell_type": "code",
   "execution_count": null,
   "id": "48bb838a",
   "metadata": {},
   "outputs": [],
   "source": []
  },
  {
   "cell_type": "markdown",
   "id": "f3ecaecd",
   "metadata": {},
   "source": [
    "# Protected Member"
   ]
  },
  {
   "cell_type": "markdown",
   "id": "2130f5a4",
   "metadata": {},
   "source": [
    "Protected members are accessible within the class and also available to its sub-classes. \n",
    "Protected data members are used when you implement inheritance and want to allow data members access to only child classes. "
   ]
  },
  {
   "cell_type": "code",
   "execution_count": null,
   "id": "a7326e1f",
   "metadata": {},
   "outputs": [],
   "source": []
  },
  {
   "cell_type": "code",
   "execution_count": 21,
   "id": "886b0cc6",
   "metadata": {},
   "outputs": [
    {
     "name": "stdout",
     "output_type": "stream",
     "text": [
      "the person is kishor and the age is 29\n"
     ]
    }
   ],
   "source": [
    "# Access Modifier\n",
    "# Protected used only in derived class (call it in derived class)\n",
    "\n",
    "class Person:\n",
    "    def __init__(self, name, age):\n",
    "        self._name = name \n",
    "        self._age = age \n",
    "        \n",
    "class Student(Person):\n",
    "    def __init__(self, name, age):\n",
    "        super().__init__(name, age) \n",
    "        #Person.__init__(self, name, age)\n",
    "        \n",
    "    def display(self):\n",
    "        print(f'the person is {self._name} and the age is {self._age}')\n",
    "        \n",
    "S = Student('kishor', 29)\n",
    "S.display()"
   ]
  },
  {
   "cell_type": "code",
   "execution_count": 23,
   "id": "9f31b177",
   "metadata": {},
   "outputs": [
    {
     "name": "stdout",
     "output_type": "stream",
     "text": [
      "Employee name: kishor\n",
      "Working on project: NLP\n"
     ]
    },
    {
     "data": {
      "text/plain": [
       "'NLP'"
      ]
     },
     "execution_count": 23,
     "metadata": {},
     "output_type": "execute_result"
    }
   ],
   "source": [
    "# base class\n",
    "class company:\n",
    "    def __init__(self):\n",
    "        # protected member \n",
    "        self._project = \"NLP\"\n",
    "        \n",
    "# child class \n",
    "class employee(company):\n",
    "    def __init__(self, name):\n",
    "        self.name = name \n",
    "        company.__init__(self)\n",
    "        \n",
    "    def show(self):\n",
    "        print('Employee name:', self.name)\n",
    "        # Accessing protected member in child class \n",
    "        print('Working on project:', self._project)\n",
    "        \n",
    "c = employee('kishor')\n",
    "c.show()\n",
    "c._project"
   ]
  },
  {
   "cell_type": "code",
   "execution_count": 28,
   "id": "6607c702",
   "metadata": {},
   "outputs": [
    {
     "name": "stdout",
     "output_type": "stream",
     "text": [
      "21\n",
      "42\n",
      "84\n"
     ]
    }
   ],
   "source": [
    "class C:\n",
    "    def __init__(self):\n",
    "        self.c = 21\n",
    "        \n",
    "        # d is private instance variable \n",
    "        self.__d = 42 \n",
    "    def getd(self):\n",
    "        return self.__d\n",
    "    \n",
    "class D(C):\n",
    "    def __init__(self):\n",
    "        self.e = 84\n",
    "        \n",
    "        C.__init__(self)\n",
    "\n",
    "ob = D()\n",
    "print(ob.c)\n",
    "print(ob.getd())\n",
    "print(ob.e)\n",
    "#print(ob.__d)"
   ]
  },
  {
   "cell_type": "code",
   "execution_count": 34,
   "id": "aac749b9",
   "metadata": {},
   "outputs": [
    {
     "name": "stdout",
     "output_type": "stream",
     "text": [
      "abc\n"
     ]
    }
   ],
   "source": [
    "class C:\n",
    "    def __init__(self):\n",
    "        self.c = 'abc'\n",
    "        self.__d = 'xyz'\n",
    "    \n",
    "class D(C):\n",
    "    def __init__(self):  \n",
    "        print('calling private member of base class')\n",
    "        C.__init__(self)\n",
    "        print(self.__d)\n",
    "        \n",
    "ob = C()\n",
    "print(ob.c)\n"
   ]
  },
  {
   "cell_type": "markdown",
   "id": "5944b057",
   "metadata": {},
   "source": [
    "Getters and Setters in python\n",
    "To implement proper encapsulation in python."
   ]
  },
  {
   "cell_type": "code",
   "execution_count": 37,
   "id": "7fe08a4e",
   "metadata": {},
   "outputs": [
    {
     "name": "stdout",
     "output_type": "stream",
     "text": [
      "Name: Kishor 14\n",
      "Name: Kishor 16\n"
     ]
    }
   ],
   "source": [
    "class Student:\n",
    "    def __init__(self, name, age):\n",
    "        self.name = name \n",
    "        self.__age = age \n",
    "        \n",
    "    def get_age(self):\n",
    "        return self.__age \n",
    "    \n",
    "    def set_age(self, age):\n",
    "        self.__age = age\n",
    "        \n",
    "stud = Student('Kishor', 14)\n",
    "print(\"Name:\", stud.name, stud.get_age())\n",
    "\n",
    "stud.set_age(16)\n",
    "print('Name:', stud.name, stud.get_age())"
   ]
  },
  {
   "cell_type": "code",
   "execution_count": null,
   "id": "0d3a2dec",
   "metadata": {},
   "outputs": [],
   "source": []
  }
 ],
 "metadata": {
  "kernelspec": {
   "display_name": "Python 3 (ipykernel)",
   "language": "python",
   "name": "python3"
  },
  "language_info": {
   "codemirror_mode": {
    "name": "ipython",
    "version": 3
   },
   "file_extension": ".py",
   "mimetype": "text/x-python",
   "name": "python",
   "nbconvert_exporter": "python",
   "pygments_lexer": "ipython3",
   "version": "3.11.4"
  }
 },
 "nbformat": 4,
 "nbformat_minor": 5
}
