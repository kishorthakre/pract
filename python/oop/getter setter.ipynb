{
 "cells": [
  {
   "cell_type": "markdown",
   "id": "87bd6148",
   "metadata": {},
   "source": [
    "Python provides a property function that makes the implementation of getters and setters straightforward and intuitive."
   ]
  },
  {
   "cell_type": "markdown",
   "id": "c634b7fb",
   "metadata": {},
   "source": [
    "The getter method returns the value of the attribute. The setter method takes a parameter and assigns it to the attribute. Getters and setters allow control over the values\n",
    "Basically, the main purpose of using getters and setters in object-oriented programs is to ensure data encapsulation"
   ]
  },
  {
   "cell_type": "code",
   "execution_count": 4,
   "id": "31d4bd44",
   "metadata": {},
   "outputs": [
    {
     "name": "stdout",
     "output_type": "stream",
     "text": [
      "10\n",
      "20\n"
     ]
    }
   ],
   "source": [
    "class Product:\n",
    "    def __init__(self, price):\n",
    "        self.__price = price      #private variable \n",
    "        \n",
    "    def get_price(self):\n",
    "        return self.__price \n",
    "    \n",
    "    def set_price(self, value):\n",
    "        if value < 0 :\n",
    "            raise ValueError('price cannot be negative.')\n",
    "        self.__price = value\n",
    "        \n",
    "    price = property(get_price, set_price)\n",
    "    \n",
    "product = Product(10)\n",
    "print(product.price)\n",
    "\n",
    "product.price = 20 \n",
    "print(product.price)"
   ]
  },
  {
   "cell_type": "code",
   "execution_count": null,
   "id": "1704985b",
   "metadata": {},
   "outputs": [],
   "source": []
  },
  {
   "cell_type": "code",
   "execution_count": 3,
   "id": "a759cab2",
   "metadata": {},
   "outputs": [
    {
     "name": "stdout",
     "output_type": "stream",
     "text": [
      "30\n",
      "20\n"
     ]
    }
   ],
   "source": [
    "class Product:\n",
    "    def __init__(self, price):\n",
    "        self.__price = price      #private variable\n",
    "    \n",
    "    @property\n",
    "    def get_price(self):\n",
    "        return self.__price\n",
    "    \n",
    "    @get_price.setter\n",
    "    def price(self, value):\n",
    "        if value < 0 :\n",
    "            raise ValueError('price cannot be negative.')\n",
    "        self.__price = value\n",
    "            \n",
    "product = Product(10)\n",
    "\n",
    "product.price=30\n",
    "print(product.get_price)\n",
    "\n",
    "product.price = 20 \n",
    "print(product.get_price)"
   ]
  },
  {
   "cell_type": "code",
   "execution_count": 29,
   "id": "1f6395f3",
   "metadata": {},
   "outputs": [
    {
     "name": "stdout",
     "output_type": "stream",
     "text": [
      "12\n"
     ]
    }
   ],
   "source": [
    "class Property:\n",
    "\n",
    "    def __init__(self, var):\n",
    "        self.__a = var\n",
    "\n",
    "    @property\n",
    "    def a(self):\n",
    "        return self.__a\n",
    "\n",
    "    ## the attribute name and the method name must be same which is used to set the value for the attribute\n",
    "    @a.setter\n",
    "    def a(self, var):\n",
    "        if var > 0 and var % 2 == 0:\n",
    "            self.__a = var\n",
    "        else:\n",
    "            self.__a = 2\n",
    "\n",
    "obj = Property(23)\n",
    "obj.a = 12\n",
    "print(obj.a)\n"
   ]
  },
  {
   "cell_type": "code",
   "execution_count": 19,
   "id": "56ebcacb",
   "metadata": {},
   "outputs": [
    {
     "data": {
      "text/plain": [
       "'blue'"
      ]
     },
     "execution_count": 19,
     "metadata": {},
     "output_type": "execute_result"
    }
   ],
   "source": [
    "class Dog:\n",
    "    #class variable \n",
    "    animal = 'dog'\n",
    "    \n",
    "    # The init method or constructor \n",
    "    def __init__(self, breed, color):\n",
    "        self.breed = breed          # Instance Variable \n",
    "        self.color = color \n",
    "        \n",
    "    def set_color(self, color):\n",
    "        self.color = color\n",
    "        \n",
    "    def get_color(self):\n",
    "        return self.color\n",
    "        \n",
    "o1 = Dog('pav', 'red')        \n",
    "o1.set_color('blue')\n",
    "o1.get_color()"
   ]
  }
 ],
 "metadata": {
  "kernelspec": {
   "display_name": "Python 3 (ipykernel)",
   "language": "python",
   "name": "python3"
  },
  "language_info": {
   "codemirror_mode": {
    "name": "ipython",
    "version": 3
   },
   "file_extension": ".py",
   "mimetype": "text/x-python",
   "name": "python",
   "nbconvert_exporter": "python",
   "pygments_lexer": "ipython3",
   "version": "3.11.4"
  }
 },
 "nbformat": 4,
 "nbformat_minor": 5
}
