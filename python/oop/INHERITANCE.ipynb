{
 "cells": [
  {
   "cell_type": "raw",
   "id": "5dd95b3b",
   "metadata": {},
   "source": [
    "single, multiple, multilevel, hierarchical, hybrid"
   ]
  },
  {
   "cell_type": "raw",
   "id": "3f6ab048",
   "metadata": {},
   "source": [
    "It represents real-world relationships well.\n",
    "\n",
    "It provides the reusability of a code. We don’t have to write the same code again and again. Also, it allows us to add more features to a class without modifying it.\n",
    "\n",
    "It is transitive in nature, which means that if class B inherits from another class A, then all the subclasses of B would automatically inherit from class A.\n",
    "\n",
    "Inheritance offers a simple, understandable model structure. \n",
    "\n",
    "Less development and maintenance expenses result from an inheritance. "
   ]
  },
  {
   "cell_type": "code",
   "execution_count": 1,
   "id": "0b716308",
   "metadata": {},
   "outputs": [],
   "source": [
    "# The super() Function"
   ]
  },
  {
   "cell_type": "code",
   "execution_count": null,
   "id": "44d2180b",
   "metadata": {},
   "outputs": [],
   "source": []
  },
  {
   "cell_type": "code",
   "execution_count": 6,
   "id": "615f9f56",
   "metadata": {},
   "outputs": [
    {
     "name": "stdout",
     "output_type": "stream",
     "text": [
      "Kishor 28\n",
      "King 28\n"
     ]
    }
   ],
   "source": [
    "class Person():\n",
    "    def __init__(self, name, age):\n",
    "        self.name = name\n",
    "        self.age = age \n",
    "        \n",
    "    def display(self):\n",
    "        print(self.name, self.age)\n",
    "        \n",
    "class Student(Person):\n",
    "    def __init__(self, name, age):\n",
    "        self.aname = name \n",
    "        self.aage = age \n",
    "        \n",
    "        super().__init__('Kishor', age)\n",
    "        \n",
    "    def displayInfo(self):\n",
    "        print(self.aname, self.aage)\n",
    "        \n",
    "obj = Student('King', 28)\n",
    "obj.display()\n",
    "obj.displayInfo()"
   ]
  },
  {
   "cell_type": "code",
   "execution_count": 7,
   "id": "120f5c61",
   "metadata": {},
   "outputs": [],
   "source": [
    "# Adding Properties"
   ]
  },
  {
   "cell_type": "code",
   "execution_count": 8,
   "id": "8be3d3ef",
   "metadata": {},
   "outputs": [
    {
     "name": "stdout",
     "output_type": "stream",
     "text": [
      "Rahul 23\n",
      "Mayank 23 16-03-2000\n"
     ]
    }
   ],
   "source": [
    "class Person():\n",
    "    def __init__(self, name, age):\n",
    "        self.name = name\n",
    "        self.age = age\n",
    "\n",
    "    def display(self):\n",
    "        print(self.name, self.age)\n",
    "    \n",
    "class Student(Person):\n",
    "    def __init__(self, name, age, dob):\n",
    "        self.sName = name\n",
    "        self.sAge = age\n",
    "        self.dob = dob\n",
    "        # inheriting the properties of parent class\n",
    "        super().__init__(\"Rahul\", age)\n",
    "\n",
    "    def displayInfo(self):\n",
    "        print(self.sName, self.sAge, self.dob)\n",
    "\n",
    "obj = Student(\"Mayank\", 23, \"16-03-2000\")\n",
    "obj.display()\n",
    "obj.displayInfo()"
   ]
  },
  {
   "cell_type": "code",
   "execution_count": null,
   "id": "e8efb222",
   "metadata": {},
   "outputs": [],
   "source": []
  },
  {
   "cell_type": "code",
   "execution_count": 9,
   "id": "1fd5c282",
   "metadata": {},
   "outputs": [],
   "source": [
    "# multiple inheritance "
   ]
  },
  {
   "cell_type": "code",
   "execution_count": 10,
   "id": "e0a4be69",
   "metadata": {},
   "outputs": [
    {
     "name": "stdout",
     "output_type": "stream",
     "text": [
      "Father : RAM\n",
      "Mother : SITA\n"
     ]
    }
   ],
   "source": [
    "# Base class1\n",
    "class Mother:\n",
    "    mothername = ''\n",
    "    def mother(self):\n",
    "        print(self.mothername)\n",
    "\n",
    "# Base class2\n",
    "class Father:\n",
    "    fathername = ''\n",
    "    def father(self):\n",
    "        print(self.fathername)\n",
    "        \n",
    "class Son(Mother, Father):\n",
    "    def parents(self):\n",
    "        print('Father :', self.fathername)\n",
    "        print('Mother :', self.mothername)\n",
    "        \n",
    "s1 = Son()\n",
    "s1.fathername = 'RAM'\n",
    "s1.mothername = 'SITA'\n",
    "s1.parents()"
   ]
  },
  {
   "cell_type": "code",
   "execution_count": 11,
   "id": "700caa03",
   "metadata": {},
   "outputs": [],
   "source": [
    "# Multilevel"
   ]
  },
  {
   "cell_type": "code",
   "execution_count": 14,
   "id": "70a0e5ea",
   "metadata": {},
   "outputs": [
    {
     "name": "stdout",
     "output_type": "stream",
     "text": [
      "Lal mani\n",
      "Grandfather name : Lal mani\n",
      "Father name : Rampal\n",
      "Son name : Prince\n"
     ]
    }
   ],
   "source": [
    "class Grandfather:\n",
    "    def __init__(self, grandfathername):\n",
    "        self.grandfathername = grandfathername \n",
    "        \n",
    "class Father(Grandfather):\n",
    "    def __init__(self, fathername, grandfathername):\n",
    "        self.fathername = fathername \n",
    "        \n",
    "        # invoking constructor of grandfather class \n",
    "        Grandfather.__init__(self, grandfathername)\n",
    "        \n",
    "class Son(Father):\n",
    "    def __init__(self, sonname, fathername, grandfathername):\n",
    "        self.sonname = sonname \n",
    "        \n",
    "        # invoking constructor of father class \n",
    "        Father.__init__(self, fathername, grandfathername)\n",
    "        \n",
    "    def print_name(self):\n",
    "        print('Grandfather name :', self.grandfathername)\n",
    "        print(\"Father name :\", self.fathername)\n",
    "        print(\"Son name :\", self.sonname)\n",
    "        \n",
    "s1 = Son('Prince', 'Rampal', \"Lal mani\")\n",
    "print(s1.grandfathername)\n",
    "s1.print_name()"
   ]
  },
  {
   "cell_type": "code",
   "execution_count": 15,
   "id": "01637af0",
   "metadata": {},
   "outputs": [],
   "source": [
    "# Hierarchical Inheritance"
   ]
  },
  {
   "cell_type": "code",
   "execution_count": 17,
   "id": "76c29b17",
   "metadata": {},
   "outputs": [
    {
     "name": "stdout",
     "output_type": "stream",
     "text": [
      "This function is in parent class.\n",
      "This function is in child 1.\n",
      "This function is in parent class.\n",
      "This function is in child 2.\n"
     ]
    }
   ],
   "source": [
    "# Base class\n",
    "class Parent:\n",
    "    def func1(self):\n",
    "        print(\"This function is in parent class.\")\n",
    "\n",
    "# Derived class1\n",
    "class Child1(Parent):\n",
    "    def func2(self):\n",
    "        print(\"This function is in child 1.\")\n",
    "\n",
    "# Derivied class2\n",
    "class Child2(Parent):\n",
    "    def func3(self):\n",
    "        print(\"This function is in child 2.\")\n",
    "\n",
    "object1 = Child1()\n",
    "object2 = Child2()\n",
    "object1.func1()\n",
    "object1.func2()\n",
    "object2.func1()\n",
    "object2.func3()"
   ]
  },
  {
   "cell_type": "code",
   "execution_count": null,
   "id": "080ed840",
   "metadata": {},
   "outputs": [],
   "source": []
  },
  {
   "cell_type": "code",
   "execution_count": 18,
   "id": "7868e184",
   "metadata": {},
   "outputs": [],
   "source": [
    "# Hybrid Inheritance "
   ]
  },
  {
   "cell_type": "code",
   "execution_count": 19,
   "id": "28eefa42",
   "metadata": {},
   "outputs": [
    {
     "name": "stdout",
     "output_type": "stream",
     "text": [
      "This function is in school.\n",
      "This function is in student 1. \n"
     ]
    }
   ],
   "source": [
    "class School:\n",
    "    def func1(self):\n",
    "        print(\"This function is in school.\")\n",
    "\n",
    "class Student1(School):\n",
    "    def func2(self):\n",
    "        print(\"This function is in student 1. \")\n",
    "\n",
    "class Student2(School):\n",
    "    def func3(self):\n",
    "        print(\"This function is in student 2.\")\n",
    "\n",
    "class Student3(Student1, School):\n",
    "    def func4(self):\n",
    "        print(\"This function is in student 3.\")\n",
    "\n",
    "object = Student3()\n",
    "object.func1()\n",
    "object.func2()"
   ]
  },
  {
   "cell_type": "code",
   "execution_count": null,
   "id": "9127ca7b",
   "metadata": {},
   "outputs": [],
   "source": []
  }
 ],
 "metadata": {
  "kernelspec": {
   "display_name": "Python 3 (ipykernel)",
   "language": "python",
   "name": "python3"
  },
  "language_info": {
   "codemirror_mode": {
    "name": "ipython",
    "version": 3
   },
   "file_extension": ".py",
   "mimetype": "text/x-python",
   "name": "python",
   "nbconvert_exporter": "python",
   "pygments_lexer": "ipython3",
   "version": "3.11.4"
  }
 },
 "nbformat": 4,
 "nbformat_minor": 5
}
