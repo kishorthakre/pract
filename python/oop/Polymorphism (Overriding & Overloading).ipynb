{
 "cells": [
  {
   "cell_type": "markdown",
   "id": "60a81b7c",
   "metadata": {},
   "source": [
    "Polymorphism in Python is the ability of an object to take many forms. In simple words, polymophism allows us to perform the same action in many different ways. Polymorphism is mainly used with inheritance. "
   ]
  },
  {
   "cell_type": "markdown",
   "id": "fbf8c531",
   "metadata": {},
   "source": [
    "Polymorphism is an important concept in object-oriented programming that allows you to write code that can work with objects of different classes in a uniform way. In Python, polymorphism is achieved by using method overriding or method overloading. "
   ]
  },
  {
   "cell_type": "markdown",
   "id": "99ba297c",
   "metadata": {},
   "source": [
    "Method overriding is when a subclass provides its own implementation of a method that is already defined in its parent class. This allows the subclass to modify the behavior of the method without changing its name or signature."
   ]
  },
  {
   "cell_type": "markdown",
   "id": "3875c464",
   "metadata": {},
   "source": [
    "# Overriding"
   ]
  },
  {
   "cell_type": "markdown",
   "id": "8b66e557",
   "metadata": {},
   "source": [
    "When a method with the same name and arguments is used in both a derived class or super class, we say that the derived method 'overrides' the method provided in the base class. \n",
    "\n",
    "When the overridden method gets called, the derived class's method is always invoked. "
   ]
  },
  {
   "cell_type": "code",
   "execution_count": 3,
   "id": "0b892a76",
   "metadata": {},
   "outputs": [
    {
     "name": "stdout",
     "output_type": "stream",
     "text": [
      "I am parent class\n",
      "I am child class\n"
     ]
    }
   ],
   "source": [
    "class ParentClass:\n",
    "    def call_me(self):\n",
    "        print('I am parent class')\n",
    "        \n",
    "class ChildClass(ParentClass):\n",
    "    def call_me(self):\n",
    "        print('I am child class')\n",
    "        \n",
    "pobj = ParentClass()\n",
    "pobj.call_me()\n",
    "\n",
    "cobj = ChildClass()\n",
    "cobj.call_me()"
   ]
  },
  {
   "cell_type": "code",
   "execution_count": null,
   "id": "ffbf90c1",
   "metadata": {},
   "outputs": [],
   "source": []
  },
  {
   "cell_type": "markdown",
   "id": "fbb1e71a",
   "metadata": {},
   "source": [
    "We can invoke the parent class's call_me() method from the child class using super(), like this:"
   ]
  },
  {
   "cell_type": "code",
   "execution_count": 4,
   "id": "6524d5f1",
   "metadata": {},
   "outputs": [
    {
     "name": "stdout",
     "output_type": "stream",
     "text": [
      "I am parent class\n",
      "I am child class\n",
      "I am parent class\n"
     ]
    }
   ],
   "source": [
    "class ParentClass:\n",
    "    def call_me(self):\n",
    "        print('I am parent class')\n",
    "        \n",
    "class ChildClass(ParentClass):\n",
    "    def call_me(self):\n",
    "        print('I am child class')\n",
    "        super().call_me()\n",
    "        \n",
    "pobj = ParentClass()\n",
    "pobj.call_me()\n",
    "\n",
    "cobj = ChildClass()\n",
    "cobj.call_me()"
   ]
  },
  {
   "cell_type": "code",
   "execution_count": null,
   "id": "3b32e4c4",
   "metadata": {},
   "outputs": [],
   "source": []
  },
  {
   "cell_type": "markdown",
   "id": "fc35fe37",
   "metadata": {},
   "source": [
    "# Overloading"
   ]
  },
  {
   "cell_type": "markdown",
   "id": "e5007d81",
   "metadata": {},
   "source": [
    "Method overloading is when multiple methods have the same name but different parameters. Python does not support method overloading directly, but it can be achieved using default arguments or variable-length arguments. "
   ]
  },
  {
   "cell_type": "markdown",
   "id": "105d6207",
   "metadata": {},
   "source": [
    "Overloading does not support in python \n",
    "\n",
    "The process of calling the same method with different parameters is known as method overloading. Python considers only the latest defind method even if you overload the method. \n",
    "\n",
    "The reason is as python does not have data type for method parameters. \n",
    "In Python, only the last defined method with the same name will be used. and the previous ones will be overridden . "
   ]
  },
  {
   "cell_type": "code",
   "execution_count": 5,
   "id": "795cdf7d",
   "metadata": {},
   "outputs": [
    {
     "ename": "TypeError",
     "evalue": "OverloadingDemo.add() missing 1 required positional argument: 'z'",
     "output_type": "error",
     "traceback": [
      "\u001b[1;31m---------------------------------------------------------------------------\u001b[0m",
      "\u001b[1;31mTypeError\u001b[0m                                 Traceback (most recent call last)",
      "Cell \u001b[1;32mIn[5], line 9\u001b[0m\n\u001b[0;32m      6\u001b[0m         \u001b[38;5;28mprint\u001b[39m(x\u001b[38;5;241m+\u001b[39my\u001b[38;5;241m+\u001b[39mz)\n\u001b[0;32m      8\u001b[0m obj \u001b[38;5;241m=\u001b[39m OverloadingDemo()\n\u001b[1;32m----> 9\u001b[0m obj\u001b[38;5;241m.\u001b[39madd(\u001b[38;5;241m2\u001b[39m, \u001b[38;5;241m3\u001b[39m)\n",
      "\u001b[1;31mTypeError\u001b[0m: OverloadingDemo.add() missing 1 required positional argument: 'z'"
     ]
    }
   ],
   "source": [
    "class OverloadingDemo:\n",
    "    def add(self, x, y):\n",
    "        print(x+y)\n",
    "        \n",
    "    def add(self, x, y, z):\n",
    "        print(x+y+z)\n",
    "        \n",
    "obj = OverloadingDemo()\n",
    "obj.add(2, 3)"
   ]
  },
  {
   "cell_type": "code",
   "execution_count": 6,
   "id": "97ab26d8",
   "metadata": {},
   "outputs": [],
   "source": [
    "# Different ways to achive overloading "
   ]
  },
  {
   "cell_type": "code",
   "execution_count": 8,
   "id": "a3fb576e",
   "metadata": {},
   "outputs": [
    {
     "name": "stdout",
     "output_type": "stream",
     "text": [
      "11\n",
      "hi King\n"
     ]
    }
   ],
   "source": [
    "def add(datatype, *args):\n",
    "    if datatype == 'int':\n",
    "        answer = 0 \n",
    "    if datatype == 'str':\n",
    "        answer = ''\n",
    "        \n",
    "    for x in args:\n",
    "        answer = answer + x\n",
    "    print(answer)\n",
    "    \n",
    "add('int', 5,6)\n",
    "add('str', 'hi ', 'King')"
   ]
  },
  {
   "cell_type": "code",
   "execution_count": 9,
   "id": "18fbd4e8",
   "metadata": {},
   "outputs": [
    {
     "name": "stdout",
     "output_type": "stream",
     "text": [
      "5\n",
      "2\n"
     ]
    }
   ],
   "source": [
    "def add(a=None, b=None):\n",
    "    if a != None and b == None:\n",
    "        print(a)\n",
    "    else:\n",
    "        print(a+b)\n",
    "        \n",
    "add(2, 3)\n",
    "add(2)"
   ]
  },
  {
   "cell_type": "markdown",
   "id": "ced11f41",
   "metadata": {},
   "source": [
    "# Polymorphism in Python using inheritance and method overriding:"
   ]
  },
  {
   "cell_type": "code",
   "execution_count": 10,
   "id": "4c36c64c",
   "metadata": {},
   "outputs": [
    {
     "name": "stdout",
     "output_type": "stream",
     "text": [
      "20\n",
      "153.86\n"
     ]
    }
   ],
   "source": [
    "class Shape:\n",
    "    def area(self):\n",
    "        pass \n",
    "class Rectangle(Shape):\n",
    "    def __init__(self, width, height):\n",
    "        self.width = width\n",
    "        self.height = height\n",
    "    def area(self):\n",
    "        return self.width * self.height\n",
    "    \n",
    "class Circle(Shape):\n",
    "    def __init__(self, radius):\n",
    "        self.radius = radius \n",
    "    def area(self):\n",
    "        return 3.14 * self.radius ** 2 \n",
    "    \n",
    "shapes = [Rectangle(4, 5), Circle(7)]\n",
    "for shape in shapes:\n",
    "    print(shape.area())"
   ]
  },
  {
   "cell_type": "code",
   "execution_count": 13,
   "id": "5a282916",
   "metadata": {},
   "outputs": [
    {
     "name": "stdout",
     "output_type": "stream",
     "text": [
      "Woof!\n",
      "Meow!\n"
     ]
    }
   ],
   "source": [
    "class Animal:\n",
    "    def speak(self):\n",
    "        raise NotImplementedError('Subclass must implement this method')\n",
    "        \n",
    "class Dog(Animal):\n",
    "    def speak(self):\n",
    "        return 'Woof!'\n",
    "    \n",
    "class Cat(Animal):\n",
    "    def speak(self):\n",
    "        return 'Meow!'\n",
    "    \n",
    "# create a list of Animal objects \n",
    "animals = [Dog(), Cat()]\n",
    "for animal in animals:\n",
    "    print(animal.speak())"
   ]
  },
  {
   "cell_type": "code",
   "execution_count": 16,
   "id": "bdcf3c39",
   "metadata": {},
   "outputs": [
    {
     "name": "stdout",
     "output_type": "stream",
     "text": [
      "Details: z1 Red 2000\n",
      "Car max speed is 240\n",
      "car change 7 gear\n",
      "\n",
      "Details: Truck x1 white 7500\n",
      "vehicle max speed is 150\n",
      "vehicle change 6 gear\n"
     ]
    }
   ],
   "source": [
    "class Vehicle:\n",
    "    def __init__(self, name, color, price):\n",
    "        self.name = name \n",
    "        self.color = color \n",
    "        self.price = price \n",
    "    def show(self):\n",
    "        print('Details:', self.name, self.color, self.price)\n",
    "        \n",
    "    def max_speed(self):\n",
    "        print('vehicle max speed is 150')\n",
    "        \n",
    "    def change_gear(self):\n",
    "        print('vehicle change 6 gear')\n",
    "        \n",
    "class Car(Vehicle):\n",
    "    def max_speed(self):\n",
    "        print('Car max speed is 240')\n",
    "        \n",
    "    def change_gear(self):\n",
    "        print('car change 7 gear')\n",
    "        \n",
    "car = Car('z1', 'Red', 2000)\n",
    "car.show()\n",
    "car.max_speed()\n",
    "car.change_gear()\n",
    "print('============================================')\n",
    "vehicle = Vehicle('Truck x1', 'white', 7500)\n",
    "vehicle.show()\n",
    "vehicle.max_speed()\n",
    "vehicle.change_gear()"
   ]
  },
  {
   "cell_type": "code",
   "execution_count": null,
   "id": "f1bb0419",
   "metadata": {},
   "outputs": [],
   "source": []
  },
  {
   "cell_type": "markdown",
   "id": "2ae7e5d1",
   "metadata": {},
   "source": [
    "# Polymorphism with function and objects"
   ]
  },
  {
   "cell_type": "markdown",
   "id": "d7e21729",
   "metadata": {},
   "source": [
    "We can create polymorphism with a function that can take any object as a parameter and execute its method without checking its class type. Using this, we can call object actions using the same function instead of repeating method calls. "
   ]
  },
  {
   "cell_type": "markdown",
   "id": "101add5d",
   "metadata": {},
   "source": [
    "Polymorphism refers to a subclass's ability to adapt a method that already existis in its superclass to meet its needs."
   ]
  },
  {
   "cell_type": "markdown",
   "id": "3499a501",
   "metadata": {},
   "source": [
    "# Polymorphism with class Methods:"
   ]
  },
  {
   "cell_type": "code",
   "execution_count": 18,
   "id": "57da7e5b",
   "metadata": {},
   "outputs": [
    {
     "name": "stdout",
     "output_type": "stream",
     "text": [
      "Petrol\n",
      "max speed 350\n",
      "Diesel\n",
      "max speed is 100\n"
     ]
    }
   ],
   "source": [
    "class ferrari:\n",
    "    def fuel_type(self):\n",
    "        print(\"Petrol\")\n",
    "    def max_speed(self):\n",
    "        print('max speed 350')\n",
    "        \n",
    "class BMW:\n",
    "    def fuel_type(self):\n",
    "        print('Diesel')\n",
    "    def max_speed(self):\n",
    "        print('max speed is 100')\n",
    "        \n",
    "obj_f = ferrari()\n",
    "obj_b = BMW()\n",
    "for country in (obj_f, obj_b):\n",
    "    country.fuel_type()\n",
    "    country.max_speed()"
   ]
  },
  {
   "cell_type": "markdown",
   "id": "47c11be5",
   "metadata": {},
   "source": [
    "# Implementing Polymorphism with a Function"
   ]
  },
  {
   "cell_type": "code",
   "execution_count": 19,
   "id": "0acfeb76",
   "metadata": {},
   "outputs": [
    {
     "name": "stdout",
     "output_type": "stream",
     "text": [
      "Petrol\n",
      "max speed 350\n",
      "Diesel\n",
      "max speed is 100\n"
     ]
    }
   ],
   "source": [
    "class ferrari:\n",
    "    def fuel_type(self):\n",
    "        print(\"Petrol\")\n",
    "    def max_speed(self):\n",
    "        print('max speed 350')\n",
    "        \n",
    "class BMW:\n",
    "    def fuel_type(self):\n",
    "        print('Diesel')\n",
    "    def max_speed(self):\n",
    "        print('max speed is 100')\n",
    "    \n",
    "def car_details(obj):\n",
    "    obj.fuel_type()\n",
    "    obj.max_speed()\n",
    "        \n",
    "obj_f = ferrari()\n",
    "obj_b = BMW()\n",
    "\n",
    "car_details(obj_f)\n",
    "car_details(obj_b)"
   ]
  },
  {
   "cell_type": "code",
   "execution_count": 20,
   "id": "e5573c0f",
   "metadata": {},
   "outputs": [
    {
     "name": "stdout",
     "output_type": "stream",
     "text": [
      "5\n",
      "9\n"
     ]
    }
   ],
   "source": [
    "# A simple python function to demonstrate Polymorphism(Overloading)\n",
    "\n",
    "def add(x, y, z=0):\n",
    "    return x+y+z\n",
    "print(add(2, 3))\n",
    "print(add(2,3,4))"
   ]
  },
  {
   "cell_type": "code",
   "execution_count": 21,
   "id": "f0dd6218",
   "metadata": {},
   "outputs": [],
   "source": [
    "# Overloading the * Operator "
   ]
  },
  {
   "cell_type": "code",
   "execution_count": 27,
   "id": "ed44a8ca",
   "metadata": {},
   "outputs": [
    {
     "name": "stdout",
     "output_type": "stream",
     "text": [
      "Worked for 50 days\n",
      "salary is: 40000\n"
     ]
    }
   ],
   "source": [
    "class Employee:\n",
    "    def __init__(self, name, salary):\n",
    "        self.name = name \n",
    "        self.salary = salary\n",
    "        \n",
    "    def __mul__(self, timesheet):\n",
    "        print('Worked for', timesheet.days, 'days')\n",
    "        return self.salary * timesheet.days \n",
    "    \n",
    "class Timesheet:\n",
    "    def __init__(self, name, days):\n",
    "        self.name = name \n",
    "        self.days = days\n",
    "        \n",
    "emp = Employee('Jessa', 800)\n",
    "timesheet= Timesheet('Jessa', 50)\n",
    "\n",
    "print('salary is:', emp*timesheet)"
   ]
  },
  {
   "cell_type": "code",
   "execution_count": null,
   "id": "3cb35083",
   "metadata": {},
   "outputs": [],
   "source": []
  }
 ],
 "metadata": {
  "kernelspec": {
   "display_name": "Python 3 (ipykernel)",
   "language": "python",
   "name": "python3"
  },
  "language_info": {
   "codemirror_mode": {
    "name": "ipython",
    "version": 3
   },
   "file_extension": ".py",
   "mimetype": "text/x-python",
   "name": "python",
   "nbconvert_exporter": "python",
   "pygments_lexer": "ipython3",
   "version": "3.11.4"
  }
 },
 "nbformat": 4,
 "nbformat_minor": 5
}
