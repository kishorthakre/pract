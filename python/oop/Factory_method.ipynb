{
 "cells": [
  {
   "cell_type": "code",
   "execution_count": 4,
   "id": "4a69b7be",
   "metadata": {},
   "outputs": [
    {
     "name": "stdout",
     "output_type": "stream",
     "text": [
      "print i am method a\n",
      "print i am method b\n"
     ]
    }
   ],
   "source": [
    "# Factory Desing pattern \n",
    "# creating object of clasess \n",
    "\n",
    "class A(object):\n",
    "    def __init__(self):\n",
    "        pass\n",
    "    def print(self):\n",
    "        print('print i am method a')\n",
    "        \n",
    "class B(object):\n",
    "    def __init__(self):\n",
    "        pass\n",
    "    def print(self):\n",
    "        print('print i am method b')\n",
    "        \n",
    "def get(obj = ''):\n",
    "    objs = dict(a=A(), b=B())\n",
    "    return objs[obj]\n",
    "\n",
    "a = get('a')\n",
    "a.print()\n",
    "\n",
    "b = get('b')\n",
    "b.print()"
   ]
  },
  {
   "cell_type": "code",
   "execution_count": 6,
   "id": "0694b9cd",
   "metadata": {},
   "outputs": [
    {
     "name": "stdout",
     "output_type": "stream",
     "text": [
      "car\n",
      "voiture\n",
      "coche \n",
      "\n",
      "bike\n",
      "bicyclette\n",
      "bicicleta \n",
      "\n",
      "cycle\n",
      "cyclette\n",
      "ciclo \n",
      "\n"
     ]
    }
   ],
   "source": [
    "# Python Code for object oriented concept without using factory method \n",
    "\n",
    "class FrenchLocalizer:\n",
    "    def __init__(self):\n",
    "        self.translations = {'car': 'voiture', 'bike':'bicyclette', 'cycle':'cyclette'}\n",
    "        \n",
    "    def localize(self, msg):\n",
    "        return self.translations.get(msg)\n",
    "    \n",
    "class SpanishLocalizer:\n",
    "    def __init__(self):\n",
    "        self.translations = {'car': 'coche', 'bike':'bicicleta', 'cycle':'ciclo'}\n",
    "        \n",
    "    def localize(self, msg):\n",
    "        return self.translations.get(msg)\n",
    "    \n",
    "class EnglishLocalizer:\n",
    "    def localize(self, msg):\n",
    "        return msg \n",
    "    \n",
    "if __name__ == '__main__':\n",
    "    f = FrenchLocalizer()\n",
    "    e = EnglishLocalizer()\n",
    "    s = SpanishLocalizer()\n",
    "    \n",
    "    message = ['car', 'bike', 'cycle']\n",
    "    for msg in message:\n",
    "        print(e.localize(msg))\n",
    "        print(f.localize(msg))\n",
    "        print(s.localize(msg), '\\n')"
   ]
  },
  {
   "cell_type": "code",
   "execution_count": 7,
   "id": "b1494825",
   "metadata": {},
   "outputs": [
    {
     "name": "stdout",
     "output_type": "stream",
     "text": [
      "car\n",
      "voiture\n",
      "coche \n",
      "\n",
      "bike\n",
      "bicyclette\n",
      "bicicleta \n",
      "\n",
      "cycle\n",
      "cyclette\n",
      "ciclo \n",
      "\n"
     ]
    }
   ],
   "source": [
    "# python code for factory method it comes under the creational design pattern \n",
    "\n",
    "\n",
    "class FrenchLocalizer:\n",
    "    def __init__(self):\n",
    "        self.translations = {'car': 'voiture', 'bike':'bicyclette', 'cycle':'cyclette'}\n",
    "        \n",
    "    def localize(self, msg):\n",
    "        return self.translations.get(msg)\n",
    "    \n",
    "class SpanishLocalizer:\n",
    "    def __init__(self):\n",
    "        self.translations = {'car': 'coche', 'bike':'bicicleta', 'cycle':'ciclo'}\n",
    "        \n",
    "    def localize(self, msg):\n",
    "        return self.translations.get(msg)\n",
    "    \n",
    "class EnglishLocalizer:\n",
    "    def localize(self, msg):\n",
    "        return msg \n",
    "    \n",
    "def Factory(language = \"English\"):\n",
    "    # factory method \n",
    "    localizers = {'French': FrenchLocalizer, 'English': EnglishLocalizer, 'Spanish': SpanishLocalizer}\n",
    "    return localizers[language]()\n",
    "    \n",
    "f = Factory(\"French\")\n",
    "e = Factory(\"English\")\n",
    "s = Factory(\"Spanish\")\n",
    "    \n",
    "message = ['car', 'bike', 'cycle']\n",
    "for msg in message:\n",
    "    print(e.localize(msg))\n",
    "    print(f.localize(msg))\n",
    "    print(s.localize(msg), '\\n')"
   ]
  },
  {
   "cell_type": "code",
   "execution_count": null,
   "id": "b2457f79",
   "metadata": {},
   "outputs": [],
   "source": []
  }
 ],
 "metadata": {
  "kernelspec": {
   "display_name": "Python 3 (ipykernel)",
   "language": "python",
   "name": "python3"
  },
  "language_info": {
   "codemirror_mode": {
    "name": "ipython",
    "version": 3
   },
   "file_extension": ".py",
   "mimetype": "text/x-python",
   "name": "python",
   "nbconvert_exporter": "python",
   "pygments_lexer": "ipython3",
   "version": "3.11.4"
  }
 },
 "nbformat": 4,
 "nbformat_minor": 5
}
