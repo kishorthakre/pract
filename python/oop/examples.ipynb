{
 "cells": [
  {
   "cell_type": "code",
   "execution_count": 1,
   "id": "1ef5b970",
   "metadata": {},
   "outputs": [],
   "source": [
    "# Create a Vehicle class with max_speed and mileage instance attributes"
   ]
  },
  {
   "cell_type": "code",
   "execution_count": 2,
   "id": "0731aa60",
   "metadata": {},
   "outputs": [
    {
     "name": "stdout",
     "output_type": "stream",
     "text": [
      "200 2000\n"
     ]
    }
   ],
   "source": [
    "class Vehicle:\n",
    "    def __init__(self, max_speed, mileage):\n",
    "        self.max_speed = max_speed\n",
    "        self.mileage = mileage\n",
    "        \n",
    "car = Vehicle(200, 2000)\n",
    "print(car.max_speed, car.mileage)"
   ]
  },
  {
   "cell_type": "code",
   "execution_count": 3,
   "id": "44e49124",
   "metadata": {},
   "outputs": [],
   "source": [
    "# Create a Vehicle class without any variables and methods"
   ]
  },
  {
   "cell_type": "code",
   "execution_count": 4,
   "id": "59e3bb09",
   "metadata": {},
   "outputs": [],
   "source": [
    "class Vehicle:\n",
    "    pass"
   ]
  },
  {
   "cell_type": "code",
   "execution_count": 5,
   "id": "06012938",
   "metadata": {},
   "outputs": [],
   "source": [
    "# Create child class Bus that will inherit all of the variables and methods of the Vehicle class"
   ]
  },
  {
   "cell_type": "code",
   "execution_count": 6,
   "id": "4877ff1b",
   "metadata": {},
   "outputs": [
    {
     "name": "stdout",
     "output_type": "stream",
     "text": [
      "TATA 190 1500\n"
     ]
    }
   ],
   "source": [
    "class Vehicle:\n",
    "    def __init__(self, name, max_speed, mileage):\n",
    "        self.name = name\n",
    "        self.max_speed = max_speed\n",
    "        self.mileage = mileage \n",
    "        \n",
    "class Bus(Vehicle):\n",
    "    pass\n",
    "obj = Bus('TATA',190, 1500)\n",
    "print(obj.name, obj.max_speed, obj.mileage)"
   ]
  },
  {
   "cell_type": "raw",
   "id": "b48691d0",
   "metadata": {},
   "source": [
    "# Create a Bus class that inherits from the Vehicle class. Give the capacity argument of Bus.seating_capacity() a default value of 50."
   ]
  },
  {
   "cell_type": "code",
   "execution_count": 1,
   "id": "d0a50583",
   "metadata": {},
   "outputs": [
    {
     "data": {
      "text/plain": [
       "'The seating capacity of a TATA is 50 passengers'"
      ]
     },
     "execution_count": 1,
     "metadata": {},
     "output_type": "execute_result"
    }
   ],
   "source": [
    "class Vehicle:\n",
    "    def __init__(self, name, max_speed, mileage):\n",
    "        self.name = name\n",
    "        self.max_speed = max_speed\n",
    "        self.mileage = mileage \n",
    "        \n",
    "    def seating_capacity(self, capacity):\n",
    "        return f'The seating capacity of a {self.name} is {capacity} passenger'\n",
    "        \n",
    "class Bus(Vehicle):\n",
    "    def seating_capacity(self, capacity = 50):\n",
    "        return f'The seating capacity of a {self.name} is {capacity} passengers'\n",
    "        \n",
    "Bus('TATA',190, 1500).seating_capacity()\n",
    "\n"
   ]
  },
  {
   "cell_type": "code",
   "execution_count": 8,
   "id": "47a05971",
   "metadata": {},
   "outputs": [],
   "source": [
    "# Define property that should have the same value for every class instance\n",
    "\n",
    "#Define a class attribute”color” with a default value white. I.e., Every Vehicle should be white."
   ]
  },
  {
   "cell_type": "code",
   "execution_count": 9,
   "id": "33d62528",
   "metadata": {},
   "outputs": [
    {
     "data": {
      "text/plain": [
       "'while'"
      ]
     },
     "execution_count": 9,
     "metadata": {},
     "output_type": "execute_result"
    }
   ],
   "source": [
    "class Vehicle:\n",
    "    color = 'while'\n",
    "    \n",
    "    def __init__(self, name, max_speed, mileage):\n",
    "        self.name = name\n",
    "        self.max_speed = max_speed\n",
    "        self.mileage = mileage \n",
    "        \n",
    "class Bus(Vehicle):\n",
    "    pass\n",
    "\n",
    "class Car(Vehicle):\n",
    "    pass        \n",
    "\n",
    "#Bus('TATA',190, 1500)\n",
    "Bus.color"
   ]
  },
  {
   "cell_type": "raw",
   "id": "a6a90b4f",
   "metadata": {},
   "source": [
    "Create a Bus child class that inherits from the Vehicle class. The default fare charge of any vehicle is seating capacity * 100. If Vehicle is Bus instance, we need to add an extra 10% on full fare as a maintenance charge. So total fare for bus instance will become the final amount = total fare + 10% of the total fare.\n",
    "\n",
    "Note: The bus seating capacity is 50. so the final fare amount should be 5550. You need to override the fare() method of a Vehicle class in Bus class."
   ]
  },
  {
   "cell_type": "code",
   "execution_count": 1,
   "id": "5578b582",
   "metadata": {},
   "outputs": [
    {
     "name": "stdout",
     "output_type": "stream",
     "text": [
      "5500.0\n",
      "400\n"
     ]
    }
   ],
   "source": [
    "class Vehicle:\n",
    "    def __init__(self, name, mileage, capacity):\n",
    "        self.name = name\n",
    "        self.mileage = mileage\n",
    "        self.capacity = capacity \n",
    "    \n",
    "    def fare(self):\n",
    "        return self.capacity * 100 \n",
    "    \n",
    "class Bus(Vehicle):\n",
    "    def fare(self):\n",
    "        fare_car = self.capacity *100 \n",
    "        total_fare = fare_car + (0.1 * fare_car)\n",
    "        return total_fare\n",
    "    \n",
    "class car(Vehicle):\n",
    "    def fare(self):\n",
    "        fare_car = self.capacity * 100 \n",
    "        return fare_car\n",
    "    \n",
    "sb = Bus('volvo', 12, 50)\n",
    "print(sb.fare() )\n",
    "\n",
    "cf = car('tata', 15, 4)\n",
    "print(cf.fare())"
   ]
  },
  {
   "cell_type": "code",
   "execution_count": 11,
   "id": "370b74e4",
   "metadata": {},
   "outputs": [
    {
     "name": "stdout",
     "output_type": "stream",
     "text": [
      "<class '__main__.Bus'>\n"
     ]
    }
   ],
   "source": [
    "# Determine which class a given Bus object belongs to (Check type of a object)\n",
    "\n",
    "class Vehicle:\n",
    "    def __init__(self, name, mileage, capacity):\n",
    "        self.name = name\n",
    "        self.mileage = mileage\n",
    "        self.capacity = capacity\n",
    "\n",
    "class Bus(Vehicle):\n",
    "    pass\n",
    "\n",
    "School_bus = Bus(\"School Volvo\", 12, 50)\n",
    "print(type(School_bus))"
   ]
  },
  {
   "cell_type": "code",
   "execution_count": 12,
   "id": "1ee7c35e",
   "metadata": {},
   "outputs": [
    {
     "name": "stdout",
     "output_type": "stream",
     "text": [
      "True\n"
     ]
    }
   ],
   "source": [
    "# Determine if School_bus is also an instance of the Vehicle class \n",
    "\n",
    "class Vehicle:\n",
    "    def __init__(self, name, mileage, capacity):\n",
    "        self.name = name\n",
    "        self.mileage = mileage\n",
    "        self.capacity = capacity\n",
    "\n",
    "class Bus(Vehicle):\n",
    "    pass\n",
    "\n",
    "School_bus = Bus(\"School Volvo\", 12, 50)\n",
    "print(isinstance(School_bus, Vehicle))"
   ]
  },
  {
   "cell_type": "code",
   "execution_count": null,
   "id": "8d8432ee",
   "metadata": {},
   "outputs": [],
   "source": []
  },
  {
   "cell_type": "raw",
   "id": "75626101",
   "metadata": {},
   "source": [
    "1. Write a Python program to create a person class. Include attributes  like name, country and date of birth. Implement a method to  determine the person’s age. "
   ]
  },
  {
   "cell_type": "code",
   "execution_count": 31,
   "id": "4685ca7d",
   "metadata": {},
   "outputs": [
    {
     "data": {
      "text/plain": [
       "28"
      ]
     },
     "execution_count": 31,
     "metadata": {},
     "output_type": "execute_result"
    }
   ],
   "source": [
    "from datetime import date\n",
    "\n",
    "class Person():\n",
    "    def __init__(self, name, country, dob):\n",
    "        self.name = name\n",
    "        self.country = country \n",
    "        self.dob = dob \n",
    "        \n",
    "    def calculate_age(self):\n",
    "        today = date.today()\n",
    "        age = today.year - self.dob.year\n",
    "        if today < date(today.year, self.dob.month, self.dob.day):\n",
    "            age -= 1\n",
    "        return age \n",
    "\n",
    "p1 = Person('kishor', 'Nagpur', date(1995, 10,16))\n",
    "p1.calculate_age()"
   ]
  },
  {
   "cell_type": "raw",
   "id": "44c34d57",
   "metadata": {},
   "source": [
    "2. Write a Python program to create a class representing a bank. Include methods for managing customer accounts and transactions."
   ]
  },
  {
   "cell_type": "code",
   "execution_count": 14,
   "id": "e78234d2",
   "metadata": {},
   "outputs": [
    {
     "name": "stdout",
     "output_type": "stream",
     "text": [
      "account created successfully.\n",
      "Deposit successful.\n",
      "Account balance: 1600\n"
     ]
    }
   ],
   "source": [
    "class Bank:\n",
    "    def __init__(self):\n",
    "        self.customers = {}\n",
    "    def create_account(self, account_number, initial_balance=0):\n",
    "        if account_number in self.customers:\n",
    "            print('Account nummber already exist.')\n",
    "        else:\n",
    "            self.customers[account_number] = initial_balance\n",
    "            print('account created successfully.')\n",
    "            \n",
    "    def make_deposit(self, account_number, amount):\n",
    "        if account_number in self.customers:\n",
    "            self.customers[account_number] += amount\n",
    "            print('Deposit successful.')\n",
    "        else:\n",
    "            print('Account number does not exist.')\n",
    "            \n",
    "    def make_withdrawal(self, account_number, amount):\n",
    "        if account_number in self.customers:\n",
    "            if self.customers[account_number] >= amount:\n",
    "                self.customers[account_number] -= amount\n",
    "                print('Widrawal successful')\n",
    "            else:\n",
    "                print('Insufficient funds.')\n",
    "        else:\n",
    "            print('Account number does not exist.')\n",
    "            \n",
    "    def check_balance(self, account_number):\n",
    "        if account_number in self.customers:\n",
    "            balance = self.customers[account_number]\n",
    "            print(f'Account balance: {balance}')\n",
    "        else:\n",
    "            print('Account number does not exist.')\n",
    "            \n",
    "bank = Bank()\n",
    "bank.create_account('boi-123', 1000)\n",
    "bank.make_deposit('boi-123', 600)\n",
    "bank.check_balance('boi-123')"
   ]
  },
  {
   "cell_type": "code",
   "execution_count": null,
   "id": "096ea84a",
   "metadata": {},
   "outputs": [],
   "source": []
  },
  {
   "cell_type": "raw",
   "id": "6727a4f9",
   "metadata": {},
   "source": [
    "3.  Write a Python program to create a class representing a shopping cart. Include methods for adding and removing items, and calculating the total price. "
   ]
  },
  {
   "cell_type": "code",
   "execution_count": 15,
   "id": "482d5348",
   "metadata": {},
   "outputs": [
    {
     "name": "stdout",
     "output_type": "stream",
     "text": [
      "a - 100\n",
      "b - 200\n",
      "c - 150\n",
      "450\n"
     ]
    }
   ],
   "source": [
    "class ShoppingCart:\n",
    "    def __init__(self):\n",
    "        self.items = [] \n",
    "        \n",
    "    def add_item(self, item_name, qty):\n",
    "        item = (item_name, qty)\n",
    "        self.items.append(item)\n",
    "        \n",
    "    def remove_item(self, item_name):\n",
    "        for item in self.items:\n",
    "            if item[0] == item_name:\n",
    "                self.items.remove(item)\n",
    "                break\n",
    "                \n",
    "    def cal_total(self):\n",
    "        total = 0 \n",
    "        for item in self.items:\n",
    "            total += item[1]\n",
    "        return total\n",
    "    \n",
    "cart = ShoppingCart()\n",
    "cart.add_item('a', 100)\n",
    "cart.add_item('b', 200)\n",
    "cart.add_item('c', 150)\n",
    "for item in cart.items:\n",
    "    print(item[0], '-', item[1])\n",
    "tq = cart.cal_total()\n",
    "print(tq)\n",
    "cart.remove_item('b')"
   ]
  },
  {
   "cell_type": "raw",
   "id": "3f09c476",
   "metadata": {},
   "source": [
    "Write a Python program to create a class and display the namespace of that class."
   ]
  },
  {
   "cell_type": "code",
   "execution_count": 16,
   "id": "11f91690",
   "metadata": {
    "scrolled": true
   },
   "outputs": [
    {
     "name": "stdout",
     "output_type": "stream",
     "text": [
      "__module__\n",
      "__init__\n",
      "add_item\n",
      "remove_item\n",
      "cal_total\n",
      "__dict__\n",
      "__weakref__\n",
      "__doc__\n"
     ]
    }
   ],
   "source": [
    "for name in ShoppingCart.__dict__:\n",
    "    print(name)"
   ]
  },
  {
   "cell_type": "raw",
   "id": "fe3d8971",
   "metadata": {},
   "source": [
    "program to create an instance of a specified class and display the namespace of the said instance."
   ]
  },
  {
   "cell_type": "code",
   "execution_count": 17,
   "id": "4a629723",
   "metadata": {},
   "outputs": [
    {
     "data": {
      "text/plain": [
       "{'student_id': 'V12', 'student_name': 'Frank Gibson', 'class_name': 'V'}"
      ]
     },
     "execution_count": 17,
     "metadata": {},
     "output_type": "execute_result"
    }
   ],
   "source": [
    "class Student: \n",
    "    def __init__(self, student_id, student_name, class_name):\n",
    "        self.student_id = student_id\n",
    "        self.student_name = student_name\n",
    "        self.class_name = class_name \n",
    "student = Student('V12', 'Frank Gibson', 'V')\n",
    "student.__dict__"
   ]
  },
  {
   "cell_type": "raw",
   "id": "b6965a17",
   "metadata": {},
   "source": [
    "Define a function student(). Using function attributes display the names of all arguments."
   ]
  },
  {
   "cell_type": "code",
   "execution_count": 18,
   "id": "376b04c1",
   "metadata": {},
   "outputs": [
    {
     "name": "stdout",
     "output_type": "stream",
     "text": [
      "Student ID: k12\n",
      "Student Name: kishor Thakre\n",
      "Class: V\n"
     ]
    }
   ],
   "source": [
    "def student(student_id, student_name, student_class):\n",
    "    return f'Student ID: {student_id}\\nStudent Name: {student_name}\\nClass: {student_class}'\n",
    "print(student('k12', 'kishor Thakre', 'V'))"
   ]
  },
  {
   "cell_type": "code",
   "execution_count": null,
   "id": "df85be95",
   "metadata": {},
   "outputs": [],
   "source": []
  },
  {
   "cell_type": "code",
   "execution_count": 19,
   "id": "75b959fa",
   "metadata": {},
   "outputs": [
    {
     "name": "stdout",
     "output_type": "stream",
     "text": [
      "k12\n",
      "kishor\n",
      "kishor V\n"
     ]
    }
   ],
   "source": [
    "def sd(sid, **kwargs):\n",
    "    print(sid)\n",
    "    if 'sn' in kwargs:\n",
    "        print(kwargs['sn'])\n",
    "    if 'sn' and 'sc' in kwargs:\n",
    "        print(kwargs['sn'], kwargs['sc'])\n",
    "    \n",
    "sd(sid='k12', sn='kishor', sc='V')"
   ]
  },
  {
   "cell_type": "code",
   "execution_count": null,
   "id": "957c30eb",
   "metadata": {},
   "outputs": [],
   "source": []
  },
  {
   "cell_type": "code",
   "execution_count": 20,
   "id": "b5d3b6c4",
   "metadata": {},
   "outputs": [
    {
     "name": "stdout",
     "output_type": "stream",
     "text": [
      "<class 'type'>\n",
      "dict_keys(['__module__', '__dict__', '__weakref__', '__doc__'])\n",
      "__main__\n"
     ]
    }
   ],
   "source": [
    "class Student:\n",
    "    pass \n",
    "\n",
    "print(type(Student))\n",
    "print(Student.__dict__.keys())\n",
    "print(Student.__module__)"
   ]
  },
  {
   "cell_type": "code",
   "execution_count": null,
   "id": "a0ab80e0",
   "metadata": {},
   "outputs": [],
   "source": []
  },
  {
   "cell_type": "code",
   "execution_count": 21,
   "id": "78ee0728",
   "metadata": {},
   "outputs": [
    {
     "name": "stdout",
     "output_type": "stream",
     "text": [
      "True\n",
      "True\n",
      "False\n"
     ]
    }
   ],
   "source": [
    "class Student:\n",
    "    pass \n",
    "class Marks:\n",
    "    pass \n",
    "student1 = Student()\n",
    "marks1 = Marks()\n",
    "print(isinstance(student1, Student))\n",
    "print(isinstance(marks1, Marks))\n",
    "print(isinstance(student1, Marks))"
   ]
  },
  {
   "cell_type": "raw",
   "id": "d8fd7f8f",
   "metadata": {},
   "source": [
    "class named Student with two attributes student_name, marks. Modify the attribute values of the said class and print the original and modified values of the said attributes."
   ]
  },
  {
   "cell_type": "code",
   "execution_count": 22,
   "id": "8eb26865",
   "metadata": {},
   "outputs": [
    {
     "name": "stdout",
     "output_type": "stream",
     "text": [
      "Terrance Morales\n",
      "93\n",
      "93\n",
      "kishor\n"
     ]
    },
    {
     "data": {
      "text/plain": [
       "'shankar'"
      ]
     },
     "execution_count": 22,
     "metadata": {},
     "output_type": "execute_result"
    }
   ],
   "source": [
    "class Student:\n",
    "    student_name = 'Terrance Morales'\n",
    "    marks = 93  \n",
    "    \n",
    "print(getattr(Student, 'student_name'))\n",
    "print(getattr(Student, 'marks'))\n",
    "print(Student.marks)\n",
    "\n",
    "setattr(Student, 'student_name', 'kishor')\n",
    "print(getattr(Student, 'student_name'))\n",
    "\n",
    "Student.student_name = 'shankar'\n",
    "Student.student_name"
   ]
  },
  {
   "cell_type": "code",
   "execution_count": null,
   "id": "db4e0e7f",
   "metadata": {},
   "outputs": [],
   "source": []
  },
  {
   "cell_type": "raw",
   "id": "5a7332b2",
   "metadata": {},
   "source": [
    "class named Student with two attributes student_id, student_name. Add a new attribute student_class and display the entire attribute and the values of the class. Now remove the student_name attribute and display the entire attribute with values."
   ]
  },
  {
   "cell_type": "code",
   "execution_count": 23,
   "id": "0e49b424",
   "metadata": {},
   "outputs": [
    {
     "name": "stdout",
     "output_type": "stream",
     "text": [
      "student_id -> K10\n",
      "student_name -> Kishor Thakre\n",
      "\n",
      "student_id -> K10\n",
      "student_name -> Kishor Thakre\n",
      "student_class -> V\n",
      "\n",
      "student_id -> K10\n",
      "student_class -> V\n"
     ]
    }
   ],
   "source": [
    "class Student:\n",
    "    student_id = 'K10'\n",
    "    student_name = 'Kishor Thakre'  \n",
    "\n",
    "for attr, value in Student.__dict__.items():\n",
    "    if not attr.startswith('_'):\n",
    "        print(f'{attr} -> {value}')\n",
    "print() \n",
    "Student.student_class  = 'V'\n",
    "for attr, value in Student.__dict__.items():\n",
    "    if not attr.startswith('_'):\n",
    "        print(f'{attr} -> {value}') \n",
    "print()    \n",
    "del Student.student_name \n",
    "for attr, value in Student.__dict__.items():\n",
    "    if not attr.startswith('_'):\n",
    "        print(f'{attr} -> {value}')"
   ]
  },
  {
   "cell_type": "code",
   "execution_count": null,
   "id": "4e6f7c64",
   "metadata": {},
   "outputs": [],
   "source": []
  },
  {
   "cell_type": "raw",
   "id": "8a94c453",
   "metadata": {},
   "source": [
    "class named Student with two instances student1, student2 and assign values to the instances' attributes. Print all the attributes of the student1, student2 instances with their values in the given format."
   ]
  },
  {
   "cell_type": "code",
   "execution_count": 24,
   "id": "71ff7802",
   "metadata": {},
   "outputs": [
    {
     "name": "stdout",
     "output_type": "stream",
     "text": [
      "school -> vikas\n",
      "mark -> 98\n"
     ]
    }
   ],
   "source": [
    "class Student:\n",
    "    student_id = 'K10'\n",
    "    student_name = 'Kishor Thakre'  \n",
    "student1 = Student()\n",
    "student2 = Student()\n",
    "\n",
    "student1.school = 'vikas' \n",
    "student2.mark = 98 \n",
    "\n",
    "students = [student1, student2]\n",
    "for student in students: \n",
    "    for attr in student.__dict__:\n",
    "        print(f'{attr} -> {getattr(student, attr)}')\n",
    "        #print(getattr(student, attr))"
   ]
  },
  {
   "cell_type": "code",
   "execution_count": null,
   "id": "c83614ba",
   "metadata": {},
   "outputs": [],
   "source": []
  },
  {
   "cell_type": "code",
   "execution_count": 25,
   "id": "01d297b9",
   "metadata": {},
   "outputs": [
    {
     "name": "stdout",
     "output_type": "stream",
     "text": [
      "True\n",
      "False\n",
      "True\n"
     ]
    }
   ],
   "source": [
    "class py_solution:\n",
    "    def is_valid_parenthese(self, str1):\n",
    "        stack, pchar = [], {\"(\": \")\", \"{\": \"}\", \"[\": \"]\"}\n",
    "        for parenthese in str1:\n",
    "            if parenthese in pchar:\n",
    "                stack.append(parenthese)\n",
    "            elif len(stack) ==0 or pchar[stack.pop()] != parenthese:\n",
    "                return False \n",
    "        return len(stack) == 0 \n",
    "\n",
    "print(py_solution().is_valid_parenthese(\"(){}[]\"))\n",
    "print(py_solution().is_valid_parenthese(\"()[{)}\"))\n",
    "print(py_solution().is_valid_parenthese(\"()\"))"
   ]
  },
  {
   "cell_type": "code",
   "execution_count": null,
   "id": "f4090fbe",
   "metadata": {},
   "outputs": [],
   "source": []
  },
  {
   "cell_type": "code",
   "execution_count": null,
   "id": "fa36eec1",
   "metadata": {},
   "outputs": [],
   "source": []
  },
  {
   "cell_type": "code",
   "execution_count": null,
   "id": "7f73cbc9",
   "metadata": {},
   "outputs": [],
   "source": []
  }
 ],
 "metadata": {
  "kernelspec": {
   "display_name": "Python 3 (ipykernel)",
   "language": "python",
   "name": "python3"
  },
  "language_info": {
   "codemirror_mode": {
    "name": "ipython",
    "version": 3
   },
   "file_extension": ".py",
   "mimetype": "text/x-python",
   "name": "python",
   "nbconvert_exporter": "python",
   "pygments_lexer": "ipython3",
   "version": "3.11.4"
  }
 },
 "nbformat": 4,
 "nbformat_minor": 5
}
