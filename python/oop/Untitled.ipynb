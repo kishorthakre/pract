{
 "cells": [
  {
   "cell_type": "markdown",
   "id": "a07caaa2",
   "metadata": {},
   "source": [
    "### What is a clean and Pythonic way to have multiple constructors in Python?"
   ]
  },
  {
   "cell_type": "raw",
   "id": "df3b8af8",
   "metadata": {},
   "source": [
    "https://www.geeksforgeeks.org/creating-multiple-constructors-python-class/\n",
    "\n",
    "Python does not support explicit multiple constructors, yet there are some ways to achieve multiple constructors.\n",
    "\n",
    "We use Python’s inbuilt __init__ method to define the constructor of a class. It tells what will the constructor do if the class object is created.\n",
    "\n",
    "If multiple __init__ methods are written for the same class, then the latest one overwrites all the previous constructors and the reason for this can be that Python stores all the function names in a class as keys in a dictionary so when a new function is defined with the same name, the key remains the same but the value gets overridden by the new function body."
   ]
  },
  {
   "cell_type": "markdown",
   "id": "2eabcc67",
   "metadata": {},
   "source": [
    "##### Need for Multiple Constructors\n",
    "Multiple constructors are required when one has to perform different actions on the instantiation of a Python class. \n",
    "\n",
    "This is useful when the class has to perform different actions on different parameters. "
   ]
  },
  {
   "cell_type": "raw",
   "id": "dc265c28",
   "metadata": {},
   "source": []
  },
  {
   "cell_type": "markdown",
   "id": "1c3e43f9",
   "metadata": {},
   "source": [
    "#### How to Have Multiple Constructors in Python?\n",
    "The class constructors can be made to exhibit polymorphism in three ways which are listed below.\n",
    "\n",
    "1. Overloading constructors based on arguments.\n",
    "\n",
    "2. Calling methods from __init__.\n",
    "\n",
    "3. Using @classmethod decorator."
   ]
  },
  {
   "cell_type": "raw",
   "id": "c230dca3",
   "metadata": {},
   "source": []
  },
  {
   "cell_type": "code",
   "execution_count": 6,
   "id": "240e488d",
   "metadata": {},
   "outputs": [
    {
     "name": "stdout",
     "output_type": "stream",
     "text": [
      "Sum of list : 15\n",
      "Square of int : 25\n",
      "String : Hello! Kingkishor.\n"
     ]
    }
   ],
   "source": [
    "class sample:\n",
    "    def __init__(self, *args):\n",
    "        \n",
    "        if len(args) > 1:   # if args are more than 1 sum of args \n",
    "            self.ans = 0 \n",
    "            for i in args:\n",
    "                self.ans += i \n",
    "                \n",
    "        elif isinstance(args[0], int):       # if arg is an integer square the arg \n",
    "            self.ans = args[0] * args[0]\n",
    "            \n",
    "        elif isinstance(args[0], str):            # if arg is string Print with hello \n",
    "            self.ans = 'Hello! ' + args[0] +'.'\n",
    "            \n",
    "s1 = sample(1, 2, 3, 4, 5) \n",
    "print('Sum of list :', s1.ans)\n",
    "\n",
    "s2 = sample(5)\n",
    "print('Square of int :', s2.ans)\n",
    "\n",
    "s3 = sample('Kingkishor')\n",
    "print('String :', s3.ans)"
   ]
  },
  {
   "cell_type": "code",
   "execution_count": 7,
   "id": "733f98d5",
   "metadata": {},
   "outputs": [
    {
     "name": "stdout",
     "output_type": "stream",
     "text": [
      "equation 2 : -3\n",
      "equation 1 : 2\n",
      "equation 3 : 11.0\n"
     ]
    }
   ],
   "source": [
    "class eval_equations: \n",
    "\n",
    "# single constructor to call other methods \n",
    "\tdef __init__(self, *inp): \n",
    "\n",
    "\t\t# when 2 arguments are passed \n",
    "\t\tif len(inp) == 2: \n",
    "\t\t\tself.ans = self.eq2(inp) \n",
    "\n",
    "\t\t# when 3 arguments are passed \n",
    "\t\telif len(inp) == 3: \n",
    "\t\t\tself.ans = self.eq1(inp) \n",
    "\n",
    "\t\t# when more than 3 arguments are passed \n",
    "\t\telse: \n",
    "\t\t\tself.ans = self.eq3(inp) \n",
    "\n",
    "\tdef eq1(self, args): \n",
    "\t\tx = (args[0]*args[0])+(args[1]*args[1])-args[2] \n",
    "\t\treturn x \n",
    "\n",
    "\tdef eq2(self, args): \n",
    "\t\ty = (args[0]*args[0])-(args[1]*args[1]) \n",
    "\t\treturn y \n",
    "\n",
    "\tdef eq3(self, args): \n",
    "\t\ttemp = 0\n",
    "\t\tfor i in range(0, len(args)): \n",
    "\t\t\ttemp += args[i]*args[i] \n",
    "\t\t\n",
    "\t\ttemp = temp/max(args) \n",
    "\t\tz = temp \n",
    "\t\treturn z \n",
    "\n",
    "\n",
    "inp1 = eval_equations(1, 2) \n",
    "inp2 = eval_equations(1, 2, 3) \n",
    "inp3 = eval_equations(1, 2, 3, 4, 5) \n",
    "\n",
    "print(\"equation 2 :\", inp1.ans) \n",
    "print(\"equation 1 :\", inp2.ans) \n",
    "print(\"equation 3 :\", inp3.ans) \n"
   ]
  },
  {
   "cell_type": "code",
   "execution_count": 1,
   "id": "a13356fa",
   "metadata": {},
   "outputs": [
    {
     "data": {
      "text/plain": [
       "'Charlie says hello!'"
      ]
     },
     "execution_count": 1,
     "metadata": {},
     "output_type": "execute_result"
    }
   ],
   "source": [
    "# 1. Creating a simple class in Python\n",
    "class Animal:\n",
    "    def __init__(self, name):\n",
    "        self.name = name  \n",
    "        \n",
    "    def speak(self):\n",
    "        return f'{self.name} says hello!'\n",
    "    \n",
    "dog = Animal('Charlie')\n",
    "dog.speak()"
   ]
  },
  {
   "cell_type": "code",
   "execution_count": 2,
   "id": "bd58c8df",
   "metadata": {},
   "outputs": [
    {
     "name": "stdout",
     "output_type": "stream",
     "text": [
      "Charlie barks!\n"
     ]
    }
   ],
   "source": [
    "# 2. Creating a subclass (Inheritance)\n",
    "\n",
    "class Animal:\n",
    "    def __init__(self, name):\n",
    "        self.name = name \n",
    "        \n",
    "    def speak(self):\n",
    "        return f\"{self.name} says hello!\"\n",
    "    \n",
    "class Dog(Animal):\n",
    "    def speak(self):\n",
    "        return f\"{self.name} barks!\"\n",
    "    \n",
    "dog = Dog('Charlie')\n",
    "print(dog.speak())"
   ]
  },
  {
   "cell_type": "code",
   "execution_count": 3,
   "id": "23a97012",
   "metadata": {},
   "outputs": [
    {
     "name": "stdout",
     "output_type": "stream",
     "text": [
      "Bulldog\n"
     ]
    }
   ],
   "source": [
    "# 3. Using the super() function\n",
    "\n",
    "class Animal:\n",
    "    def __init__(self, name):\n",
    "        self.name = name \n",
    "        \n",
    "    def speak(self):\n",
    "        return f\"{self.name} says hello!\"\n",
    "    \n",
    "class Dog(Animal):\n",
    "    def __init__(self, name, breed):\n",
    "        super().__init__(name)\n",
    "        self.breed = breed \n",
    "        \n",
    "dog = Dog(\"Charlie\", \"Bulldog\")\n",
    "print(dog.breed)"
   ]
  },
  {
   "cell_type": "code",
   "execution_count": 8,
   "id": "7b3ce7d2",
   "metadata": {},
   "outputs": [
    {
     "name": "stdout",
     "output_type": "stream",
     "text": [
      "5\n",
      "10\n"
     ]
    }
   ],
   "source": [
    "# 4. Creating a property \n",
    "\n",
    "class Circle:\n",
    "    def __init__(self, radius):\n",
    "        self._radius = radius \n",
    "        \n",
    "    @property \n",
    "    def radius(self):\n",
    "        return self._radius \n",
    "    \n",
    "    @radius.setter\n",
    "    def radius(self, value):\n",
    "        if value >= 0:\n",
    "            self._radius = value \n",
    "        else:\n",
    "            raise ValueError('Radius must be positive')\n",
    "            \n",
    "circle = Circle(5)\n",
    "print(circle.radius)\n",
    "circle.radius = 10 \n",
    "print(circle.radius)"
   ]
  },
  {
   "cell_type": "code",
   "execution_count": 10,
   "id": "ed497dc0",
   "metadata": {},
   "outputs": [
    {
     "name": "stdout",
     "output_type": "stream",
     "text": [
      "Public\n",
      "Protected\n"
     ]
    },
    {
     "ename": "AttributeError",
     "evalue": "'MyClass' object has no attribute '__private'",
     "output_type": "error",
     "traceback": [
      "\u001b[1;31m---------------------------------------------------------------------------\u001b[0m",
      "\u001b[1;31mAttributeError\u001b[0m                            Traceback (most recent call last)",
      "Cell \u001b[1;32mIn[10], line 12\u001b[0m\n\u001b[0;32m     10\u001b[0m \u001b[38;5;28mprint\u001b[39m(obj\u001b[38;5;241m.\u001b[39mpublic)\n\u001b[0;32m     11\u001b[0m \u001b[38;5;28mprint\u001b[39m(obj\u001b[38;5;241m.\u001b[39m_protected)\n\u001b[1;32m---> 12\u001b[0m \u001b[38;5;28mprint\u001b[39m(obj\u001b[38;5;241m.\u001b[39m__private)\n",
      "\u001b[1;31mAttributeError\u001b[0m: 'MyClass' object has no attribute '__private'"
     ]
    }
   ],
   "source": [
    "# 5. Encapsulation – Private members \n",
    "\n",
    "class MyClass:\n",
    "    def __init__(self):\n",
    "        self.public = 'Public'\n",
    "        self._protected = \"Protected\"\n",
    "        self.__private = \"Private\"\n",
    "        \n",
    "obj = MyClass()\n",
    "print(obj.public)\n",
    "print(obj._protected)\n",
    "print(obj.__private)"
   ]
  },
  {
   "cell_type": "code",
   "execution_count": 13,
   "id": "ed9a790d",
   "metadata": {},
   "outputs": [
    {
     "name": "stdout",
     "output_type": "stream",
     "text": [
      "5\n",
      "3\n",
      "not iterable\n"
     ]
    }
   ],
   "source": [
    "#6. Polymorphism – Using Inbuilt Abstract Base Classes (ABC)\n",
    "from collections.abc import Iterable\n",
    "def get_length(item):\n",
    "    if isinstance(item, Iterable):\n",
    "        return len(item)\n",
    "    else:\n",
    "        return \"not iterable\"\n",
    "    \n",
    "print(get_length(\"hello\"))\n",
    "print(get_length([1,2,3]))\n",
    "print(get_length(123))"
   ]
  },
  {
   "cell_type": "code",
   "execution_count": 15,
   "id": "8ec7d993",
   "metadata": {},
   "outputs": [
    {
     "name": "stdout",
     "output_type": "stream",
     "text": [
      "Boww Boww!\n"
     ]
    }
   ],
   "source": [
    "# 7. Defining an Abstract Base Class (ABC) \n",
    "\n",
    "from abc import ABC, abstractmethod \n",
    "class AbstractAnimal(ABC):\n",
    "    @abstractmethod\n",
    "    def speak(self):\n",
    "        pass \n",
    "    \n",
    "class Dog(AbstractAnimal):\n",
    "    def speak(self):\n",
    "        return 'Boww Boww!'\n",
    "    \n",
    "# You can't instantiate an AbstractAnimal\n",
    "# animal = AbstractAnimal()  # This will raise a TypeError\n",
    "\n",
    "dog = Dog()\n",
    "print(dog.speak())"
   ]
  },
  {
   "cell_type": "code",
   "execution_count": 17,
   "id": "0215f0a0",
   "metadata": {},
   "outputs": [
    {
     "name": "stdout",
     "output_type": "stream",
     "text": [
      "Class method called\n",
      "Static method called\n"
     ]
    }
   ],
   "source": [
    "# 8. Using class methods and static methods\n",
    "\n",
    "class MyClass:\n",
    "    @classmethod\n",
    "    def class_method(cls):\n",
    "        return 'Class method called'\n",
    "    \n",
    "    @staticmethod\n",
    "    def static_method():\n",
    "        return 'Static method called'\n",
    "    \n",
    "print(MyClass.class_method())\n",
    "print(MyClass.static_method())"
   ]
  },
  {
   "cell_type": "code",
   "execution_count": 18,
   "id": "4e10ac45",
   "metadata": {},
   "outputs": [
    {
     "name": "stdout",
     "output_type": "stream",
     "text": [
      "7Mangoes\n"
     ]
    }
   ],
   "source": [
    "# 9. Operator Overloading in Python\n",
    "\n",
    "class Mango:\n",
    "    def __init__(self, x):\n",
    "        self.x = str(x)\n",
    "    def __add__(self, y):\n",
    "        return self.x + y.x\n",
    "    \n",
    "obj = Mango(7)\n",
    "obj2 = Mango('Mangoes')\n",
    "print(obj + obj2)"
   ]
  },
  {
   "cell_type": "code",
   "execution_count": 19,
   "id": "3544a04c",
   "metadata": {},
   "outputs": [
    {
     "name": "stdout",
     "output_type": "stream",
     "text": [
      "Bob is 30 years old.\n",
      "Person('Bob', 30)\n"
     ]
    }
   ],
   "source": [
    "# 10. Using Special methods for string representations (repr and str)\n",
    "\n",
    "class Person:\n",
    "    def __init__(self, name, age):\n",
    "        self.name = name\n",
    "        self.age = age \n",
    "        \n",
    "    def __str__(self):\n",
    "        return f\"{self.name} is {self.age} years old.\"\n",
    "    \n",
    "    def __repr__(self):\n",
    "        return f\"Person('{self.name}', {self.age})\"\n",
    "    \n",
    "p = Person('Bob', 30)\n",
    "print(str(p))\n",
    "print(repr(p))"
   ]
  },
  {
   "cell_type": "code",
   "execution_count": 20,
   "id": "81aa2337",
   "metadata": {},
   "outputs": [
    {
     "name": "stdout",
     "output_type": "stream",
     "text": [
      "12\n"
     ]
    }
   ],
   "source": [
    "# 11. Using composition in Python OOP \n",
    "\n",
    "class Salary:\n",
    "    def __init__(self, pay, bonus):\n",
    "        self.pay = pay\n",
    "        self.bonus = bonus\n",
    "        \n",
    "class Employee:\n",
    "    def __init__(self, name, salary):\n",
    "        self.name = name \n",
    "        self.salary = salary \n",
    "        \n",
    "s = Salary(12, 20)\n",
    "e = Employee('Kishor', s)\n",
    "print(e.salary.pay)"
   ]
  },
  {
   "cell_type": "code",
   "execution_count": 21,
   "id": "ff941e61",
   "metadata": {},
   "outputs": [
    {
     "name": "stdout",
     "output_type": "stream",
     "text": [
      "Parent1's method called\n",
      "Parent2's method called\n"
     ]
    }
   ],
   "source": [
    "#  12. Using multiple inheritance\n",
    "class Parent1:\n",
    "    def method1(self):\n",
    "        return \"Parent1's method called\"\n",
    "\n",
    "class Parent2:\n",
    "    def method2(self):\n",
    "        return \"Parent2's method called\"\n",
    "\n",
    "class Child(Parent1, Parent2):\n",
    "    pass\n",
    "\n",
    "c = Child()\n",
    "print(c.method1())\n",
    "print(c.method2())"
   ]
  },
  {
   "cell_type": "code",
   "execution_count": 22,
   "id": "9f79689a",
   "metadata": {},
   "outputs": [
    {
     "name": "stdout",
     "output_type": "stream",
     "text": [
      "static method called\n",
      "Class method called\n"
     ]
    }
   ],
   "source": [
    "# 13. Implementing Decorators within classes\n",
    "\n",
    "class MyClass:\n",
    "    @staticmethod\n",
    "    def method():\n",
    "        return 'static method called'\n",
    "    \n",
    "    @classmethod\n",
    "    def classmethod(cls):\n",
    "        return 'Class method called'\n",
    "    \n",
    "print(MyClass.method())\n",
    "print(MyClass.classmethod())"
   ]
  },
  {
   "cell_type": "code",
   "execution_count": null,
   "id": "1829b0d9",
   "metadata": {},
   "outputs": [],
   "source": []
  },
  {
   "cell_type": "code",
   "execution_count": null,
   "id": "5893ae41",
   "metadata": {},
   "outputs": [],
   "source": []
  }
 ],
 "metadata": {
  "kernelspec": {
   "display_name": "Python 3 (ipykernel)",
   "language": "python",
   "name": "python3"
  },
  "language_info": {
   "codemirror_mode": {
    "name": "ipython",
    "version": 3
   },
   "file_extension": ".py",
   "mimetype": "text/x-python",
   "name": "python",
   "nbconvert_exporter": "python",
   "pygments_lexer": "ipython3",
   "version": "3.11.4"
  }
 },
 "nbformat": 4,
 "nbformat_minor": 5
}
