{
 "cells": [
  {
   "cell_type": "markdown",
   "id": "63448dff",
   "metadata": {},
   "source": [
    "# Class Method"
   ]
  },
  {
   "cell_type": "markdown",
   "id": "465e3472",
   "metadata": {},
   "source": [
    "A class method is a method that  is bound to a class rather than its object.\n",
    "\n",
    "It can modify a class state that would apply across all the instances of the class. For example, it can modify a class variable that will be applicable to all the instances. "
   ]
  },
  {
   "cell_type": "markdown",
   "id": "73f2f6cb",
   "metadata": {},
   "source": [
    "Static method knows nothing about the class and just deals with the parameters. \n",
    "Class method works with the class since its parameter is always the class itself. "
   ]
  },
  {
   "cell_type": "markdown",
   "id": "f0530589",
   "metadata": {},
   "source": [
    "Classes are a way to define custom data types that can store data and define functions that can manipulate that data. One type of function that can be defined within a class is called a method. \n",
    "\n",
    "A class method is type of method that is bound to the class and not the instance of the class. In others words, it operates on the class as a whole, rather than on a specific instance of the class. \n",
    "\n",
    "Why use python class method?\n",
    "Class methods are useful in several situatons. For ex. you might want to create a factory method that creates instances of your class in a specific way. You colud define a class method that creates the instances and returns it to the caller. Another common use case is to provide alternative constructors for your class. This can be useful if you want to create instances of your class in multiple ways. "
   ]
  },
  {
   "cell_type": "code",
   "execution_count": 4,
   "id": "9b3c4b38",
   "metadata": {},
   "outputs": [
    {
     "name": "stdout",
     "output_type": "stream",
     "text": [
      "ABC School\n",
      "g school\n"
     ]
    }
   ],
   "source": [
    "class Student:\n",
    "    school_name = 'ABC School'   #Class variable \n",
    "    \n",
    "    def __init__(self, name, age):     #constructor to initialize instance variables \n",
    "        self.name = name \n",
    "        self.age = age  \n",
    "        \n",
    "    @classmethod \n",
    "    def change_school(cls, name):            # cls refer to the class \n",
    "        print(Student.school_name)           # Access class variables\n",
    "        Student.school_name = name           # Modify class variables\n",
    "        print(Student.school_name)\n",
    "        \n",
    "#jessa = Student('jack', 14)\n",
    "Student.change_school('g school')"
   ]
  },
  {
   "cell_type": "code",
   "execution_count": 15,
   "id": "2bcb9fac",
   "metadata": {},
   "outputs": [
    {
     "name": "stdout",
     "output_type": "stream",
     "text": [
      "jack's age is :20\n",
      "jo's age is :29\n"
     ]
    }
   ],
   "source": [
    "# Create factory method using class method \n",
    "\n",
    "from datetime import date \n",
    "\n",
    "class Student:\n",
    "    def __init__(self, name, age):\n",
    "        self.name = name \n",
    "        self.age = age \n",
    "        \n",
    "    @classmethod\n",
    "    def calculate_age(cls, name, birth_year):\n",
    "        return cls(name, date.today().year - birth_year)\n",
    "    \n",
    "    def show(self):\n",
    "        print(self.name + \"'s age is :\" + str(self.age))\n",
    "        \n",
    "j = Student('jack', 20) \n",
    "j.show()\n",
    "\n",
    "# create new object using the factory method \n",
    "jo = Student.calculate_age('jo', 1995)\n",
    "jo.show()"
   ]
  },
  {
   "cell_type": "code",
   "execution_count": 12,
   "id": "478eb116",
   "metadata": {},
   "outputs": [
    {
     "name": "stdout",
     "output_type": "stream",
     "text": [
      "The name is Harry and company is Apple\n",
      "The name is Harry and company is Tesla\n"
     ]
    },
    {
     "data": {
      "text/plain": [
       "'Tesla'"
      ]
     },
     "execution_count": 12,
     "metadata": {},
     "output_type": "execute_result"
    }
   ],
   "source": [
    "class Employee:\n",
    "    company = \"Apple\"\n",
    "    \n",
    "    def show(self):\n",
    "        print(f\"The name is {self.name} and company is {self.company}\")\n",
    "        \n",
    "    @classmethod                          # using class decorator we can change variable parmenantly\n",
    "    def changeCompany(cls, newcompany):\n",
    "        cls.company = newcompany \n",
    "        \n",
    "e1 = Employee()\n",
    "e1.name = 'Harry'\n",
    "e1.show()\n",
    "\n",
    "e1.changeCompany('Tesla')\n",
    "e1.show()\n",
    "\n",
    "e1.company"
   ]
  },
  {
   "cell_type": "code",
   "execution_count": 14,
   "id": "39d058e5",
   "metadata": {},
   "outputs": [
    {
     "name": "stdout",
     "output_type": "stream",
     "text": [
      "obtained_marks:  88\n"
     ]
    },
    {
     "data": {
      "text/plain": [
       "0"
      ]
     },
     "execution_count": 14,
     "metadata": {},
     "output_type": "execute_result"
    }
   ],
   "source": [
    "# The classmethod() method returns a class method for the given function. \n",
    "\n",
    "class Student:\n",
    "    marks = 0 \n",
    "    \n",
    "    def compute_marks(self, obtained_marks):\n",
    "        marks = obtained_marks\n",
    "        print('obtained_marks: ', marks)\n",
    "        \n",
    "Student.print_marks = classmethod(Student.compute_marks)\n",
    "Student.print_marks(88)\n",
    "Student.marks"
   ]
  },
  {
   "cell_type": "markdown",
   "id": "9873d624",
   "metadata": {},
   "source": [
    "# Class Method in Inheritance"
   ]
  },
  {
   "cell_type": "code",
   "execution_count": 19,
   "id": "24d7e45f",
   "metadata": {},
   "outputs": [
    {
     "name": "stdout",
     "output_type": "stream",
     "text": [
      "True\n",
      "False\n"
     ]
    }
   ],
   "source": [
    "# How tthe class method works for the inheritance?\n",
    "\n",
    "from datetime import date \n",
    "class Person:\n",
    "    def __init__(self, name, age):\n",
    "        self.name = name \n",
    "        self.age=age\n",
    "        \n",
    "    @staticmethod\n",
    "    def fromFathersAge(name, fatherAge, fatherPersonAgeDiff):\n",
    "        return Person(name, date.today().year - fatherAge + fatherPersonAgeDiff)\n",
    "    \n",
    "    @classmethod\n",
    "    def fromBirthYear(cls, name, birthYear):\n",
    "        return cls(name, date.today().year - birthYear)\n",
    "    \n",
    "    def display(self):\n",
    "        print(self.name + \"'s age is: \"+str(self.age))\n",
    "        \n",
    "class Man(Person):\n",
    "    sex = \"Male\"\n",
    "    \n",
    "man = Man.fromBirthYear('ram', 1985)\n",
    "print(isinstance(man, Man))\n",
    "\n",
    "man1 = Man.fromFathersAge('shiva', 1964, 29)\n",
    "print(isinstance(man1, Man))\n"
   ]
  },
  {
   "cell_type": "markdown",
   "id": "73b3550d",
   "metadata": {},
   "source": [
    "# Static Method"
   ]
  },
  {
   "cell_type": "markdown",
   "id": "0e348115",
   "metadata": {},
   "source": [
    "static method is a normal method associated with class, so that we can shift it with class. \n",
    "We don't need to pass self argument in static. \n",
    "stastic method can use other methods in class. "
   ]
  },
  {
   "cell_type": "markdown",
   "id": "1c3bab44",
   "metadata": {},
   "source": [
    "What is static method in python \n",
    "A static method is a general utility method that performs a task in isolation. Static methods in python are similar to those found in java or c++\n",
    "\n",
    "a Static method is bound to the class and not the object of the class. Therefore, we can call it using the class name. \n",
    "\n",
    "A static method doesn't have access to the class and instance variables because it does not receive an implicit first argument like self and cls. Therefore it cannot modify the state of the object or class. "
   ]
  },
  {
   "cell_type": "code",
   "execution_count": 4,
   "id": "ca1e2148",
   "metadata": {},
   "outputs": [
    {
     "name": "stdout",
     "output_type": "stream",
     "text": [
      "Indian\n",
      "Indian\n"
     ]
    }
   ],
   "source": [
    "# Define a class named American which has a static method called printNationality.\n",
    "\n",
    "class American():\n",
    "    @staticmethod \n",
    "    def printNationality():\n",
    "        print('Indian')\n",
    "obj = American()\n",
    "obj.printNationality()\n",
    "American.printNationality()"
   ]
  },
  {
   "cell_type": "code",
   "execution_count": 3,
   "id": "74f9e9b3",
   "metadata": {},
   "outputs": [
    {
     "name": "stdout",
     "output_type": "stream",
     "text": [
      "Inside static method 10\n",
      "Inside static method 20\n"
     ]
    }
   ],
   "source": [
    "class Employee:\n",
    "    @staticmethod\n",
    "    def sample(x):\n",
    "        print('Inside static method', x)\n",
    "        \n",
    "# call static method \n",
    "Employee.sample(10)\n",
    "\n",
    "# can be called using object \n",
    "emp = Employee()\n",
    "emp.sample(20)"
   ]
  },
  {
   "cell_type": "code",
   "execution_count": 4,
   "id": "ba4fccfb",
   "metadata": {},
   "outputs": [
    {
     "name": "stdout",
     "output_type": "stream",
     "text": [
      "The sum is:  6\n"
     ]
    }
   ],
   "source": [
    "class Mathematics:\n",
    "    def addNumbers(x, y):\n",
    "        return x + y \n",
    "    \n",
    "# create addNumbers static method \n",
    "Mathematics.addNumbers = staticmethod(Mathematics.addNumbers)\n",
    "print('The sum is: ', Mathematics.addNumbers(5,1))"
   ]
  },
  {
   "cell_type": "code",
   "execution_count": 5,
   "id": "cfbec6c3",
   "metadata": {},
   "outputs": [
    {
     "name": "stdout",
     "output_type": "stream",
     "text": [
      "Equal\n"
     ]
    }
   ],
   "source": [
    "# Create a utility function as a static method \n",
    "\n",
    "class Dates:\n",
    "    def __init__(self, date):\n",
    "        self.date = date \n",
    "        \n",
    "    def getDate(self):\n",
    "        return self.date \n",
    "    \n",
    "    @staticmethod\n",
    "    def toDashDate(date):\n",
    "        return date.replace('/', '-')\n",
    "    \n",
    "date = Dates('15-12-2024')\n",
    "\n",
    "dateFromDB = '15/12/2024'\n",
    "dateWithDash = Dates.toDashDate(dateFromDB)\n",
    "\n",
    "if (date.getDate() == dateWithDash):\n",
    "    print('Equal')\n",
    "else:\n",
    "    print('Unequal')"
   ]
  },
  {
   "cell_type": "markdown",
   "id": "22b5f63b",
   "metadata": {},
   "source": [
    "Static methods are used when we don't want subclasses of a class change/override a specific implementation of a method."
   ]
  },
  {
   "cell_type": "code",
   "execution_count": 7,
   "id": "047d8928",
   "metadata": {},
   "outputs": [
    {
     "name": "stdout",
     "output_type": "stream",
     "text": [
      "equal\n"
     ]
    }
   ],
   "source": [
    "# How inheritance works with static method?\n",
    "\n",
    "class Dates:\n",
    "    def __init__(self, date):\n",
    "        self.date = date \n",
    "        \n",
    "    def getDate(self):\n",
    "        return self.date \n",
    "    \n",
    "    @staticmethod\n",
    "    def toDashDate(date):\n",
    "        return date.replace('/', '-')\n",
    "    \n",
    "class DatesWithSlashes(Dates):\n",
    "    def getDate(self):\n",
    "        return Dates.toDashDate(self.date)\n",
    "    \n",
    "date = Dates('15-12-2024')\n",
    "dateFromDB = DatesWithSlashes('15/12/2024')\n",
    "\n",
    "if (date.getDate() == dateFromDB.getDate()):\n",
    "    print('equal')\n",
    "else:\n",
    "    print('Unequl')\n",
    "    "
   ]
  },
  {
   "cell_type": "code",
   "execution_count": null,
   "id": "f63de30f",
   "metadata": {},
   "outputs": [],
   "source": []
  },
  {
   "cell_type": "markdown",
   "id": "21fbbf51",
   "metadata": {},
   "source": [
    "# When do you use static methods?"
   ]
  },
  {
   "cell_type": "markdown",
   "id": "dddbf1e2",
   "metadata": {},
   "source": [
    "1. Grouping utility function to a class Static methods have a limited use case because, like class methods or any other methods within a class, they cannot access the properties of the class itself. \n",
    "\n",
    "However, when you need a utility function that doesn't access any properties of a class but makes sense that it belongs to the class, we use static functions."
   ]
  },
  {
   "cell_type": "code",
   "execution_count": null,
   "id": "ebb828cc",
   "metadata": {},
   "outputs": [],
   "source": []
  }
 ],
 "metadata": {
  "kernelspec": {
   "display_name": "Python 3 (ipykernel)",
   "language": "python",
   "name": "python3"
  },
  "language_info": {
   "codemirror_mode": {
    "name": "ipython",
    "version": 3
   },
   "file_extension": ".py",
   "mimetype": "text/x-python",
   "name": "python",
   "nbconvert_exporter": "python",
   "pygments_lexer": "ipython3",
   "version": "3.11.4"
  }
 },
 "nbformat": 4,
 "nbformat_minor": 5
}
